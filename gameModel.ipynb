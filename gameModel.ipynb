{
  "nbformat": 4,
  "nbformat_minor": 0,
  "metadata": {
    "colab": {
      "provenance": [],
      "authorship_tag": "ABX9TyNdf4qMk7Bd0RFog8eJdGzJ",
      "include_colab_link": true
    },
    "kernelspec": {
      "name": "python3",
      "display_name": "Python 3"
    },
    "language_info": {
      "name": "python"
    }
  },
  "cells": [
    {
      "cell_type": "markdown",
      "metadata": {
        "id": "view-in-github",
        "colab_type": "text"
      },
      "source": [
        "<a href=\"https://colab.research.google.com/github/Tarun2733/game-recommendation-system/blob/main/gameModel.ipynb\" target=\"_parent\"><img src=\"https://colab.research.google.com/assets/colab-badge.svg\" alt=\"Open In Colab\"/></a>"
      ]
    },
    {
      "cell_type": "markdown",
      "source": [
        "Import Pandas and Numpy to preprocess data\n"
      ],
      "metadata": {
        "id": "yG6NOJdjrKxW"
      }
    },
    {
      "cell_type": "code",
      "execution_count": 24,
      "metadata": {
        "id": "8BlO7nefqnzA"
      },
      "outputs": [],
      "source": [
        "import pandas as pd\n",
        "import numpy as np"
      ]
    },
    {
      "cell_type": "code",
      "source": [
        "games = pd.read_csv('/content/steam.csv')\n",
        "tags_df = pd.read_csv('/content/steamspy_tag_data.csv')\n",
        "desc_df = pd.read_csv('/content/steam_description_data.csv')\n",
        "media_df = pd.read_csv('/content/steam_media_data.csv')\n",
        "\n"
      ],
      "metadata": {
        "id": "ckl8Liu_rKIn"
      },
      "execution_count": 25,
      "outputs": []
    },
    {
      "cell_type": "code",
      "source": [
        "games.head(1)"
      ],
      "metadata": {
        "colab": {
          "base_uri": "https://localhost:8080/",
          "height": 170
        },
        "id": "S3bXwZVwwTXT",
        "outputId": "df4e629e-21cf-448f-84ef-fd276e6e8707"
      },
      "execution_count": 26,
      "outputs": [
        {
          "output_type": "execute_result",
          "data": {
            "text/plain": [
              "   appid            name release_date  english developer publisher  \\\n",
              "0     10  Counter-Strike   2000-11-01        1     Valve     Valve   \n",
              "\n",
              "           platforms  required_age  \\\n",
              "0  windows;mac;linux             0   \n",
              "\n",
              "                                          categories  genres  \\\n",
              "0  Multi-player;Online Multi-Player;Local Multi-P...  Action   \n",
              "\n",
              "            steamspy_tags  achievements  positive_ratings  negative_ratings  \\\n",
              "0  Action;FPS;Multiplayer             0            124534              3339   \n",
              "\n",
              "   average_playtime  median_playtime             owners  price  \n",
              "0             17612              317  10000000-20000000   7.19  "
            ],
            "text/html": [
              "\n",
              "  <div id=\"df-1012ab25-7fc1-4f98-9f1d-355be3220517\" class=\"colab-df-container\">\n",
              "    <div>\n",
              "<style scoped>\n",
              "    .dataframe tbody tr th:only-of-type {\n",
              "        vertical-align: middle;\n",
              "    }\n",
              "\n",
              "    .dataframe tbody tr th {\n",
              "        vertical-align: top;\n",
              "    }\n",
              "\n",
              "    .dataframe thead th {\n",
              "        text-align: right;\n",
              "    }\n",
              "</style>\n",
              "<table border=\"1\" class=\"dataframe\">\n",
              "  <thead>\n",
              "    <tr style=\"text-align: right;\">\n",
              "      <th></th>\n",
              "      <th>appid</th>\n",
              "      <th>name</th>\n",
              "      <th>release_date</th>\n",
              "      <th>english</th>\n",
              "      <th>developer</th>\n",
              "      <th>publisher</th>\n",
              "      <th>platforms</th>\n",
              "      <th>required_age</th>\n",
              "      <th>categories</th>\n",
              "      <th>genres</th>\n",
              "      <th>steamspy_tags</th>\n",
              "      <th>achievements</th>\n",
              "      <th>positive_ratings</th>\n",
              "      <th>negative_ratings</th>\n",
              "      <th>average_playtime</th>\n",
              "      <th>median_playtime</th>\n",
              "      <th>owners</th>\n",
              "      <th>price</th>\n",
              "    </tr>\n",
              "  </thead>\n",
              "  <tbody>\n",
              "    <tr>\n",
              "      <th>0</th>\n",
              "      <td>10</td>\n",
              "      <td>Counter-Strike</td>\n",
              "      <td>2000-11-01</td>\n",
              "      <td>1</td>\n",
              "      <td>Valve</td>\n",
              "      <td>Valve</td>\n",
              "      <td>windows;mac;linux</td>\n",
              "      <td>0</td>\n",
              "      <td>Multi-player;Online Multi-Player;Local Multi-P...</td>\n",
              "      <td>Action</td>\n",
              "      <td>Action;FPS;Multiplayer</td>\n",
              "      <td>0</td>\n",
              "      <td>124534</td>\n",
              "      <td>3339</td>\n",
              "      <td>17612</td>\n",
              "      <td>317</td>\n",
              "      <td>10000000-20000000</td>\n",
              "      <td>7.19</td>\n",
              "    </tr>\n",
              "  </tbody>\n",
              "</table>\n",
              "</div>\n",
              "    <div class=\"colab-df-buttons\">\n",
              "\n",
              "  <div class=\"colab-df-container\">\n",
              "    <button class=\"colab-df-convert\" onclick=\"convertToInteractive('df-1012ab25-7fc1-4f98-9f1d-355be3220517')\"\n",
              "            title=\"Convert this dataframe to an interactive table.\"\n",
              "            style=\"display:none;\">\n",
              "\n",
              "  <svg xmlns=\"http://www.w3.org/2000/svg\" height=\"24px\" viewBox=\"0 -960 960 960\">\n",
              "    <path d=\"M120-120v-720h720v720H120Zm60-500h600v-160H180v160Zm220 220h160v-160H400v160Zm0 220h160v-160H400v160ZM180-400h160v-160H180v160Zm440 0h160v-160H620v160ZM180-180h160v-160H180v160Zm440 0h160v-160H620v160Z\"/>\n",
              "  </svg>\n",
              "    </button>\n",
              "\n",
              "  <style>\n",
              "    .colab-df-container {\n",
              "      display:flex;\n",
              "      gap: 12px;\n",
              "    }\n",
              "\n",
              "    .colab-df-convert {\n",
              "      background-color: #E8F0FE;\n",
              "      border: none;\n",
              "      border-radius: 50%;\n",
              "      cursor: pointer;\n",
              "      display: none;\n",
              "      fill: #1967D2;\n",
              "      height: 32px;\n",
              "      padding: 0 0 0 0;\n",
              "      width: 32px;\n",
              "    }\n",
              "\n",
              "    .colab-df-convert:hover {\n",
              "      background-color: #E2EBFA;\n",
              "      box-shadow: 0px 1px 2px rgba(60, 64, 67, 0.3), 0px 1px 3px 1px rgba(60, 64, 67, 0.15);\n",
              "      fill: #174EA6;\n",
              "    }\n",
              "\n",
              "    .colab-df-buttons div {\n",
              "      margin-bottom: 4px;\n",
              "    }\n",
              "\n",
              "    [theme=dark] .colab-df-convert {\n",
              "      background-color: #3B4455;\n",
              "      fill: #D2E3FC;\n",
              "    }\n",
              "\n",
              "    [theme=dark] .colab-df-convert:hover {\n",
              "      background-color: #434B5C;\n",
              "      box-shadow: 0px 1px 3px 1px rgba(0, 0, 0, 0.15);\n",
              "      filter: drop-shadow(0px 1px 2px rgba(0, 0, 0, 0.3));\n",
              "      fill: #FFFFFF;\n",
              "    }\n",
              "  </style>\n",
              "\n",
              "    <script>\n",
              "      const buttonEl =\n",
              "        document.querySelector('#df-1012ab25-7fc1-4f98-9f1d-355be3220517 button.colab-df-convert');\n",
              "      buttonEl.style.display =\n",
              "        google.colab.kernel.accessAllowed ? 'block' : 'none';\n",
              "\n",
              "      async function convertToInteractive(key) {\n",
              "        const element = document.querySelector('#df-1012ab25-7fc1-4f98-9f1d-355be3220517');\n",
              "        const dataTable =\n",
              "          await google.colab.kernel.invokeFunction('convertToInteractive',\n",
              "                                                    [key], {});\n",
              "        if (!dataTable) return;\n",
              "\n",
              "        const docLinkHtml = 'Like what you see? Visit the ' +\n",
              "          '<a target=\"_blank\" href=https://colab.research.google.com/notebooks/data_table.ipynb>data table notebook</a>'\n",
              "          + ' to learn more about interactive tables.';\n",
              "        element.innerHTML = '';\n",
              "        dataTable['output_type'] = 'display_data';\n",
              "        await google.colab.output.renderOutput(dataTable, element);\n",
              "        const docLink = document.createElement('div');\n",
              "        docLink.innerHTML = docLinkHtml;\n",
              "        element.appendChild(docLink);\n",
              "      }\n",
              "    </script>\n",
              "  </div>\n",
              "\n",
              "\n",
              "    </div>\n",
              "  </div>\n"
            ],
            "application/vnd.google.colaboratory.intrinsic+json": {
              "type": "dataframe",
              "variable_name": "games",
              "summary": "{\n  \"name\": \"games\",\n  \"rows\": 27075,\n  \"fields\": [\n    {\n      \"column\": \"appid\",\n      \"properties\": {\n        \"dtype\": \"number\",\n        \"std\": 250894,\n        \"min\": 10,\n        \"max\": 1069460,\n        \"num_unique_values\": 27075,\n        \"samples\": [\n          514520,\n          1012710,\n          279260\n        ],\n        \"semantic_type\": \"\",\n        \"description\": \"\"\n      }\n    },\n    {\n      \"column\": \"name\",\n      \"properties\": {\n        \"dtype\": \"string\",\n        \"num_unique_values\": 27033,\n        \"samples\": [\n          \"A Legionary's Life\",\n          \"Road Doom\",\n          \"Martha Madison: Simple Machines Volume 1\"\n        ],\n        \"semantic_type\": \"\",\n        \"description\": \"\"\n      }\n    },\n    {\n      \"column\": \"release_date\",\n      \"properties\": {\n        \"dtype\": \"object\",\n        \"num_unique_values\": 2619,\n        \"samples\": [\n          \"2017-11-30\",\n          \"2009-07-01\",\n          \"2015-07-09\"\n        ],\n        \"semantic_type\": \"\",\n        \"description\": \"\"\n      }\n    },\n    {\n      \"column\": \"english\",\n      \"properties\": {\n        \"dtype\": \"number\",\n        \"std\": 0,\n        \"min\": 0,\n        \"max\": 1,\n        \"num_unique_values\": 2,\n        \"samples\": [\n          0,\n          1\n        ],\n        \"semantic_type\": \"\",\n        \"description\": \"\"\n      }\n    },\n    {\n      \"column\": \"developer\",\n      \"properties\": {\n        \"dtype\": \"string\",\n        \"num_unique_values\": 17112,\n        \"samples\": [\n          \"Titan Studio\",\n          \"Startreming\"\n        ],\n        \"semantic_type\": \"\",\n        \"description\": \"\"\n      }\n    },\n    {\n      \"column\": \"publisher\",\n      \"properties\": {\n        \"dtype\": \"string\",\n        \"num_unique_values\": 14353,\n        \"samples\": [\n          \"Madowl Games\",\n          \"FunLimit\"\n        ],\n        \"semantic_type\": \"\",\n        \"description\": \"\"\n      }\n    },\n    {\n      \"column\": \"platforms\",\n      \"properties\": {\n        \"dtype\": \"category\",\n        \"num_unique_values\": 7,\n        \"samples\": [\n          \"windows;mac;linux\",\n          \"windows;mac\"\n        ],\n        \"semantic_type\": \"\",\n        \"description\": \"\"\n      }\n    },\n    {\n      \"column\": \"required_age\",\n      \"properties\": {\n        \"dtype\": \"number\",\n        \"std\": 2,\n        \"min\": 0,\n        \"max\": 18,\n        \"num_unique_values\": 6,\n        \"samples\": [\n          0,\n          18\n        ],\n        \"semantic_type\": \"\",\n        \"description\": \"\"\n      }\n    },\n    {\n      \"column\": \"categories\",\n      \"properties\": {\n        \"dtype\": \"category\",\n        \"num_unique_values\": 3333,\n        \"samples\": [\n          \"Single-player;Multi-player;Steam Achievements;Full controller support;Steam Cloud\",\n          \"Single-player;Local Multi-Player;Local Co-op;Steam Achievements;Steam Cloud\"\n        ],\n        \"semantic_type\": \"\",\n        \"description\": \"\"\n      }\n    },\n    {\n      \"column\": \"genres\",\n      \"properties\": {\n        \"dtype\": \"category\",\n        \"num_unique_values\": 1552,\n        \"samples\": [\n          \"Action;Adventure;Free to Play;Indie;Strategy\",\n          \"Action;Casual;Free to Play;Massively Multiplayer\"\n        ],\n        \"semantic_type\": \"\",\n        \"description\": \"\"\n      }\n    },\n    {\n      \"column\": \"steamspy_tags\",\n      \"properties\": {\n        \"dtype\": \"category\",\n        \"num_unique_values\": 6423,\n        \"samples\": [\n          \"Action;Platformer;Remake\",\n          \"Visual Novel;RPG;Indie\"\n        ],\n        \"semantic_type\": \"\",\n        \"description\": \"\"\n      }\n    },\n    {\n      \"column\": \"achievements\",\n      \"properties\": {\n        \"dtype\": \"number\",\n        \"std\": 352,\n        \"min\": 0,\n        \"max\": 9821,\n        \"num_unique_values\": 410,\n        \"samples\": [\n          102,\n          295\n        ],\n        \"semantic_type\": \"\",\n        \"description\": \"\"\n      }\n    },\n    {\n      \"column\": \"positive_ratings\",\n      \"properties\": {\n        \"dtype\": \"number\",\n        \"std\": 18988,\n        \"min\": 0,\n        \"max\": 2644404,\n        \"num_unique_values\": 2800,\n        \"samples\": [\n          2182,\n          286\n        ],\n        \"semantic_type\": \"\",\n        \"description\": \"\"\n      }\n    },\n    {\n      \"column\": \"negative_ratings\",\n      \"properties\": {\n        \"dtype\": \"number\",\n        \"std\": 4284,\n        \"min\": 0,\n        \"max\": 487076,\n        \"num_unique_values\": 1492,\n        \"samples\": [\n          1117,\n          1059\n        ],\n        \"semantic_type\": \"\",\n        \"description\": \"\"\n      }\n    },\n    {\n      \"column\": \"average_playtime\",\n      \"properties\": {\n        \"dtype\": \"number\",\n        \"std\": 1827,\n        \"min\": 0,\n        \"max\": 190625,\n        \"num_unique_values\": 1345,\n        \"samples\": [\n          141,\n          2990\n        ],\n        \"semantic_type\": \"\",\n        \"description\": \"\"\n      }\n    },\n    {\n      \"column\": \"median_playtime\",\n      \"properties\": {\n        \"dtype\": \"number\",\n        \"std\": 2353,\n        \"min\": 0,\n        \"max\": 190625,\n        \"num_unique_values\": 1312,\n        \"samples\": [\n          869,\n          846\n        ],\n        \"semantic_type\": \"\",\n        \"description\": \"\"\n      }\n    },\n    {\n      \"column\": \"owners\",\n      \"properties\": {\n        \"dtype\": \"category\",\n        \"num_unique_values\": 13,\n        \"samples\": [\n          \"200000-500000\",\n          \"50000-100000\"\n        ],\n        \"semantic_type\": \"\",\n        \"description\": \"\"\n      }\n    },\n    {\n      \"column\": \"price\",\n      \"properties\": {\n        \"dtype\": \"number\",\n        \"std\": 7.874922274392826,\n        \"min\": 0.0,\n        \"max\": 421.99,\n        \"num_unique_values\": 282,\n        \"samples\": [\n          4.65,\n          14.49\n        ],\n        \"semantic_type\": \"\",\n        \"description\": \"\"\n      }\n    }\n  ]\n}"
            }
          },
          "metadata": {},
          "execution_count": 26
        }
      ]
    },
    {
      "cell_type": "code",
      "source": [
        "tags_df.head(1)"
      ],
      "metadata": {
        "colab": {
          "base_uri": "https://localhost:8080/",
          "height": 130
        },
        "id": "HfsS6dN8wjoo",
        "outputId": "bdd044c9-79e0-46f5-96e2-a67df250e73d"
      },
      "execution_count": 27,
      "outputs": [
        {
          "output_type": "execute_result",
          "data": {
            "text/plain": [
              "   appid  1980s  1990s  2.5d  2d  2d_fighter  360_video  3d  3d_platformer  \\\n",
              "0     10    144    564     0   0           0          0   0              0   \n",
              "\n",
              "   3d_vision  ...  warhammer_40k  web_publishing  werewolves  western  \\\n",
              "0          0  ...              0               0           0        0   \n",
              "\n",
              "   word_game  world_war_i  world_war_ii  wrestling  zombies  e_sports  \n",
              "0          0            0             0          0        0       550  \n",
              "\n",
              "[1 rows x 372 columns]"
            ],
            "text/html": [
              "\n",
              "  <div id=\"df-7a49f03e-b47b-457d-854b-1c98658fbce2\" class=\"colab-df-container\">\n",
              "    <div>\n",
              "<style scoped>\n",
              "    .dataframe tbody tr th:only-of-type {\n",
              "        vertical-align: middle;\n",
              "    }\n",
              "\n",
              "    .dataframe tbody tr th {\n",
              "        vertical-align: top;\n",
              "    }\n",
              "\n",
              "    .dataframe thead th {\n",
              "        text-align: right;\n",
              "    }\n",
              "</style>\n",
              "<table border=\"1\" class=\"dataframe\">\n",
              "  <thead>\n",
              "    <tr style=\"text-align: right;\">\n",
              "      <th></th>\n",
              "      <th>appid</th>\n",
              "      <th>1980s</th>\n",
              "      <th>1990s</th>\n",
              "      <th>2.5d</th>\n",
              "      <th>2d</th>\n",
              "      <th>2d_fighter</th>\n",
              "      <th>360_video</th>\n",
              "      <th>3d</th>\n",
              "      <th>3d_platformer</th>\n",
              "      <th>3d_vision</th>\n",
              "      <th>...</th>\n",
              "      <th>warhammer_40k</th>\n",
              "      <th>web_publishing</th>\n",
              "      <th>werewolves</th>\n",
              "      <th>western</th>\n",
              "      <th>word_game</th>\n",
              "      <th>world_war_i</th>\n",
              "      <th>world_war_ii</th>\n",
              "      <th>wrestling</th>\n",
              "      <th>zombies</th>\n",
              "      <th>e_sports</th>\n",
              "    </tr>\n",
              "  </thead>\n",
              "  <tbody>\n",
              "    <tr>\n",
              "      <th>0</th>\n",
              "      <td>10</td>\n",
              "      <td>144</td>\n",
              "      <td>564</td>\n",
              "      <td>0</td>\n",
              "      <td>0</td>\n",
              "      <td>0</td>\n",
              "      <td>0</td>\n",
              "      <td>0</td>\n",
              "      <td>0</td>\n",
              "      <td>0</td>\n",
              "      <td>...</td>\n",
              "      <td>0</td>\n",
              "      <td>0</td>\n",
              "      <td>0</td>\n",
              "      <td>0</td>\n",
              "      <td>0</td>\n",
              "      <td>0</td>\n",
              "      <td>0</td>\n",
              "      <td>0</td>\n",
              "      <td>0</td>\n",
              "      <td>550</td>\n",
              "    </tr>\n",
              "  </tbody>\n",
              "</table>\n",
              "<p>1 rows × 372 columns</p>\n",
              "</div>\n",
              "    <div class=\"colab-df-buttons\">\n",
              "\n",
              "  <div class=\"colab-df-container\">\n",
              "    <button class=\"colab-df-convert\" onclick=\"convertToInteractive('df-7a49f03e-b47b-457d-854b-1c98658fbce2')\"\n",
              "            title=\"Convert this dataframe to an interactive table.\"\n",
              "            style=\"display:none;\">\n",
              "\n",
              "  <svg xmlns=\"http://www.w3.org/2000/svg\" height=\"24px\" viewBox=\"0 -960 960 960\">\n",
              "    <path d=\"M120-120v-720h720v720H120Zm60-500h600v-160H180v160Zm220 220h160v-160H400v160Zm0 220h160v-160H400v160ZM180-400h160v-160H180v160Zm440 0h160v-160H620v160ZM180-180h160v-160H180v160Zm440 0h160v-160H620v160Z\"/>\n",
              "  </svg>\n",
              "    </button>\n",
              "\n",
              "  <style>\n",
              "    .colab-df-container {\n",
              "      display:flex;\n",
              "      gap: 12px;\n",
              "    }\n",
              "\n",
              "    .colab-df-convert {\n",
              "      background-color: #E8F0FE;\n",
              "      border: none;\n",
              "      border-radius: 50%;\n",
              "      cursor: pointer;\n",
              "      display: none;\n",
              "      fill: #1967D2;\n",
              "      height: 32px;\n",
              "      padding: 0 0 0 0;\n",
              "      width: 32px;\n",
              "    }\n",
              "\n",
              "    .colab-df-convert:hover {\n",
              "      background-color: #E2EBFA;\n",
              "      box-shadow: 0px 1px 2px rgba(60, 64, 67, 0.3), 0px 1px 3px 1px rgba(60, 64, 67, 0.15);\n",
              "      fill: #174EA6;\n",
              "    }\n",
              "\n",
              "    .colab-df-buttons div {\n",
              "      margin-bottom: 4px;\n",
              "    }\n",
              "\n",
              "    [theme=dark] .colab-df-convert {\n",
              "      background-color: #3B4455;\n",
              "      fill: #D2E3FC;\n",
              "    }\n",
              "\n",
              "    [theme=dark] .colab-df-convert:hover {\n",
              "      background-color: #434B5C;\n",
              "      box-shadow: 0px 1px 3px 1px rgba(0, 0, 0, 0.15);\n",
              "      filter: drop-shadow(0px 1px 2px rgba(0, 0, 0, 0.3));\n",
              "      fill: #FFFFFF;\n",
              "    }\n",
              "  </style>\n",
              "\n",
              "    <script>\n",
              "      const buttonEl =\n",
              "        document.querySelector('#df-7a49f03e-b47b-457d-854b-1c98658fbce2 button.colab-df-convert');\n",
              "      buttonEl.style.display =\n",
              "        google.colab.kernel.accessAllowed ? 'block' : 'none';\n",
              "\n",
              "      async function convertToInteractive(key) {\n",
              "        const element = document.querySelector('#df-7a49f03e-b47b-457d-854b-1c98658fbce2');\n",
              "        const dataTable =\n",
              "          await google.colab.kernel.invokeFunction('convertToInteractive',\n",
              "                                                    [key], {});\n",
              "        if (!dataTable) return;\n",
              "\n",
              "        const docLinkHtml = 'Like what you see? Visit the ' +\n",
              "          '<a target=\"_blank\" href=https://colab.research.google.com/notebooks/data_table.ipynb>data table notebook</a>'\n",
              "          + ' to learn more about interactive tables.';\n",
              "        element.innerHTML = '';\n",
              "        dataTable['output_type'] = 'display_data';\n",
              "        await google.colab.output.renderOutput(dataTable, element);\n",
              "        const docLink = document.createElement('div');\n",
              "        docLink.innerHTML = docLinkHtml;\n",
              "        element.appendChild(docLink);\n",
              "      }\n",
              "    </script>\n",
              "  </div>\n",
              "\n",
              "\n",
              "    </div>\n",
              "  </div>\n"
            ],
            "application/vnd.google.colaboratory.intrinsic+json": {
              "type": "dataframe",
              "variable_name": "tags_df"
            }
          },
          "metadata": {},
          "execution_count": 27
        }
      ]
    },
    {
      "cell_type": "code",
      "source": [
        "#create a subset of game and merge it with tags_df\n",
        "subset = games[['appid','name']]\n",
        "tagged = pd.merge(subset, tags_df, on='appid')\n"
      ],
      "metadata": {
        "id": "dDBU401Z9D5B"
      },
      "execution_count": 28,
      "outputs": []
    },
    {
      "cell_type": "code",
      "source": [
        "print(tags_df.columns.tolist())"
      ],
      "metadata": {
        "id": "hIyrZIXamNmY",
        "outputId": "eee6c0f8-0e82-4351-b84d-64fd0bbcdf42",
        "colab": {
          "base_uri": "https://localhost:8080/"
        }
      },
      "execution_count": 29,
      "outputs": [
        {
          "output_type": "stream",
          "name": "stdout",
          "text": [
            "['appid', '1980s', '1990s', '2.5d', '2d', '2d_fighter', '360_video', '3d', '3d_platformer', '3d_vision', '4_player_local', '4x', '6dof', 'atv', 'abstract', 'action', 'action_rpg', 'action_adventure', 'addictive', 'adventure', 'agriculture', 'aliens', 'alternate_history', 'america', 'animation_&_modeling', 'anime', 'arcade', 'arena_shooter', 'artificial_intelligence', 'assassin', 'asynchronous_multiplayer', 'atmospheric', 'audio_production', 'bmx', 'base_building', 'baseball', 'based_on_a_novel', 'basketball', 'batman', 'battle_royale', 'beat_em_up', 'beautiful', 'benchmark', 'bikes', 'blood', 'board_game', 'bowling', 'building', 'bullet_hell', 'bullet_time', 'crpg', 'capitalism', 'card_game', 'cartoon', 'cartoony', 'casual', 'cats', 'character_action_game', 'character_customization', 'chess', 'choices_matter', 'choose_your_own_adventure', 'cinematic', 'city_builder', 'class_based', 'classic', 'clicker', 'co_op', 'co_op_campaign', 'cold_war', 'colorful', 'comedy', 'comic_book', 'competitive', 'conspiracy', 'controller', 'conversation', 'crafting', 'crime', 'crowdfunded', 'cult_classic', 'cute', 'cyberpunk', 'cycling', 'dark', 'dark_comedy', 'dark_fantasy', 'dark_humor', 'dating_sim', 'demons', 'design_&_illustration', 'destruction', 'detective', 'difficult', 'dinosaurs', 'diplomacy', 'documentary', 'dog', 'dragons', 'drama', 'driving', 'dungeon_crawler', 'dungeons_&_dragons', 'dynamic_narration', 'dystopian_', 'early_access', 'economy', 'education', 'emotional', 'epic', 'episodic', 'experience', 'experimental', 'exploration', 'fmv', 'fps', 'faith', 'family_friendly', 'fantasy', 'fast_paced', 'feature_film', 'female_protagonist', 'fighting', 'first_person', 'fishing', 'flight', 'football', 'foreign', 'free_to_play', 'funny', 'futuristic', 'gambling', 'game_development', 'gamemaker', 'games_workshop', 'gaming', 'god_game', 'golf', 'gore', 'gothic', 'grand_strategy', 'great_soundtrack', 'grid_based_movement', 'gun_customization', 'hack_and_slash', 'hacking', 'hand_drawn', 'hardware', 'heist', 'hex_grid', 'hidden_object', 'historical', 'hockey', 'horror', 'horses', 'hunting', 'illuminati', 'indie', 'intentionally_awkward_controls', 'interactive_fiction', 'inventory_management', 'investigation', 'isometric', 'jrpg', 'jet', 'kickstarter', 'lego', 'lara_croft', 'lemmings', 'level_editor', 'linear', 'local_co_op', 'local_multiplayer', 'logic', 'loot', 'lore_rich', 'lovecraftian', 'mmorpg', 'moba', 'magic', 'management', 'mars', 'martial_arts', 'massively_multiplayer', 'masterpiece', 'match_3', 'mature', 'mechs', 'medieval', 'memes', 'metroidvania', 'military', 'mini_golf', 'minigames', 'minimalist', 'mining', 'mod', 'moddable', 'modern', 'motocross', 'motorbike', 'mouse_only', 'movie', 'multiplayer', 'multiple_endings', 'music', 'music_based_procedural_generation', 'mystery', 'mystery_dungeon', 'mythology', 'nsfw', 'narration', 'naval', 'ninja', 'noir', 'nonlinear', 'nudity', 'offroad', 'old_school', 'on_rails_shooter', 'online_co_op', 'open_world', 'otome', 'parkour', 'parody_', 'party_based_rpg', 'perma_death', 'philisophical', 'photo_editing', 'physics', 'pinball', 'pirates', 'pixel_graphics', 'platformer', 'point_&_click', 'political', 'politics', 'pool', 'post_apocalyptic', 'procedural_generation', 'programming', 'psychedelic', 'psychological', 'psychological_horror', 'puzzle', 'puzzle_platformer', 'pve', 'pvp', 'quick_time_events', 'rpg', 'rpgmaker', 'rts', 'racing', 'real_time_tactics', 'real_time', 'real_time_with_pause', 'realistic', 'relaxing', 'remake', 'replay_value', 'resource_management', 'retro', 'rhythm', 'robots', 'rogue_like', 'rogue_lite', 'romance', 'rome', 'runner', 'sailing', 'sandbox', 'satire', 'sci_fi', 'science', 'score_attack', 'sequel', 'sexual_content', 'shoot_em_up', 'shooter', 'short', 'side_scroller', 'silent_protagonist', 'simulation', 'singleplayer', 'skateboarding', 'skating', 'skiing', 'sniper', 'snow', 'snowboarding', 'soccer', 'software', 'software_training', 'sokoban', 'souls_like', 'soundtrack', 'space', 'space_sim', 'spectacle_fighter', 'spelling', 'split_screen', 'sports', 'star_wars', 'stealth', 'steam_machine', 'steampunk', 'story_rich', 'strategy', 'strategy_rpg', 'stylized', 'submarine', 'superhero', 'supernatural', 'surreal', 'survival', 'survival_horror', 'swordplay', 'tactical', 'tactical_rpg', 'tanks', 'team_based', 'tennis', 'text_based', 'third_person', 'third_person_shooter', 'thriller', 'time_attack', 'time_management', 'time_manipulation', 'time_travel', 'top_down', 'top_down_shooter', 'touch_friendly', 'tower_defense', 'trackir', 'trading', 'trading_card_game', 'trains', 'transhumanism', 'turn_based', 'turn_based_combat', 'turn_based_strategy', 'turn_based_tactics', 'tutorial', 'twin_stick_shooter', 'typing', 'underground', 'underwater', 'unforgiving', 'utilities', 'vr', 'vr_only', 'vampire', 'video_production', 'villain_protagonist', 'violent', 'visual_novel', 'voice_control', 'voxel', 'walking_simulator', 'war', 'wargame', 'warhammer_40k', 'web_publishing', 'werewolves', 'western', 'word_game', 'world_war_i', 'world_war_ii', 'wrestling', 'zombies', 'e_sports']\n"
          ]
        }
      ]
    },
    {
      "cell_type": "code",
      "source": [
        "desc_df.head(1)"
      ],
      "metadata": {
        "colab": {
          "base_uri": "https://localhost:8080/",
          "height": 80
        },
        "id": "_2sQAjdNT2-H",
        "outputId": "8322f231-ac34-4666-a470-3f9520dd7143"
      },
      "execution_count": 30,
      "outputs": [
        {
          "output_type": "execute_result",
          "data": {
            "text/plain": [
              "   steam_appid                               detailed_description  \\\n",
              "0           10  Play the world's number 1 online action game. ...   \n",
              "\n",
              "                                      about_the_game  \\\n",
              "0  Play the world's number 1 online action game. ...   \n",
              "\n",
              "                                   short_description  \n",
              "0  Play the world's number 1 online action game. ...  "
            ],
            "text/html": [
              "\n",
              "  <div id=\"df-d8f2fd75-955b-4aec-903c-5ddef08fb8d9\" class=\"colab-df-container\">\n",
              "    <div>\n",
              "<style scoped>\n",
              "    .dataframe tbody tr th:only-of-type {\n",
              "        vertical-align: middle;\n",
              "    }\n",
              "\n",
              "    .dataframe tbody tr th {\n",
              "        vertical-align: top;\n",
              "    }\n",
              "\n",
              "    .dataframe thead th {\n",
              "        text-align: right;\n",
              "    }\n",
              "</style>\n",
              "<table border=\"1\" class=\"dataframe\">\n",
              "  <thead>\n",
              "    <tr style=\"text-align: right;\">\n",
              "      <th></th>\n",
              "      <th>steam_appid</th>\n",
              "      <th>detailed_description</th>\n",
              "      <th>about_the_game</th>\n",
              "      <th>short_description</th>\n",
              "    </tr>\n",
              "  </thead>\n",
              "  <tbody>\n",
              "    <tr>\n",
              "      <th>0</th>\n",
              "      <td>10</td>\n",
              "      <td>Play the world's number 1 online action game. ...</td>\n",
              "      <td>Play the world's number 1 online action game. ...</td>\n",
              "      <td>Play the world's number 1 online action game. ...</td>\n",
              "    </tr>\n",
              "  </tbody>\n",
              "</table>\n",
              "</div>\n",
              "    <div class=\"colab-df-buttons\">\n",
              "\n",
              "  <div class=\"colab-df-container\">\n",
              "    <button class=\"colab-df-convert\" onclick=\"convertToInteractive('df-d8f2fd75-955b-4aec-903c-5ddef08fb8d9')\"\n",
              "            title=\"Convert this dataframe to an interactive table.\"\n",
              "            style=\"display:none;\">\n",
              "\n",
              "  <svg xmlns=\"http://www.w3.org/2000/svg\" height=\"24px\" viewBox=\"0 -960 960 960\">\n",
              "    <path d=\"M120-120v-720h720v720H120Zm60-500h600v-160H180v160Zm220 220h160v-160H400v160Zm0 220h160v-160H400v160ZM180-400h160v-160H180v160Zm440 0h160v-160H620v160ZM180-180h160v-160H180v160Zm440 0h160v-160H620v160Z\"/>\n",
              "  </svg>\n",
              "    </button>\n",
              "\n",
              "  <style>\n",
              "    .colab-df-container {\n",
              "      display:flex;\n",
              "      gap: 12px;\n",
              "    }\n",
              "\n",
              "    .colab-df-convert {\n",
              "      background-color: #E8F0FE;\n",
              "      border: none;\n",
              "      border-radius: 50%;\n",
              "      cursor: pointer;\n",
              "      display: none;\n",
              "      fill: #1967D2;\n",
              "      height: 32px;\n",
              "      padding: 0 0 0 0;\n",
              "      width: 32px;\n",
              "    }\n",
              "\n",
              "    .colab-df-convert:hover {\n",
              "      background-color: #E2EBFA;\n",
              "      box-shadow: 0px 1px 2px rgba(60, 64, 67, 0.3), 0px 1px 3px 1px rgba(60, 64, 67, 0.15);\n",
              "      fill: #174EA6;\n",
              "    }\n",
              "\n",
              "    .colab-df-buttons div {\n",
              "      margin-bottom: 4px;\n",
              "    }\n",
              "\n",
              "    [theme=dark] .colab-df-convert {\n",
              "      background-color: #3B4455;\n",
              "      fill: #D2E3FC;\n",
              "    }\n",
              "\n",
              "    [theme=dark] .colab-df-convert:hover {\n",
              "      background-color: #434B5C;\n",
              "      box-shadow: 0px 1px 3px 1px rgba(0, 0, 0, 0.15);\n",
              "      filter: drop-shadow(0px 1px 2px rgba(0, 0, 0, 0.3));\n",
              "      fill: #FFFFFF;\n",
              "    }\n",
              "  </style>\n",
              "\n",
              "    <script>\n",
              "      const buttonEl =\n",
              "        document.querySelector('#df-d8f2fd75-955b-4aec-903c-5ddef08fb8d9 button.colab-df-convert');\n",
              "      buttonEl.style.display =\n",
              "        google.colab.kernel.accessAllowed ? 'block' : 'none';\n",
              "\n",
              "      async function convertToInteractive(key) {\n",
              "        const element = document.querySelector('#df-d8f2fd75-955b-4aec-903c-5ddef08fb8d9');\n",
              "        const dataTable =\n",
              "          await google.colab.kernel.invokeFunction('convertToInteractive',\n",
              "                                                    [key], {});\n",
              "        if (!dataTable) return;\n",
              "\n",
              "        const docLinkHtml = 'Like what you see? Visit the ' +\n",
              "          '<a target=\"_blank\" href=https://colab.research.google.com/notebooks/data_table.ipynb>data table notebook</a>'\n",
              "          + ' to learn more about interactive tables.';\n",
              "        element.innerHTML = '';\n",
              "        dataTable['output_type'] = 'display_data';\n",
              "        await google.colab.output.renderOutput(dataTable, element);\n",
              "        const docLink = document.createElement('div');\n",
              "        docLink.innerHTML = docLinkHtml;\n",
              "        element.appendChild(docLink);\n",
              "      }\n",
              "    </script>\n",
              "  </div>\n",
              "\n",
              "\n",
              "    </div>\n",
              "  </div>\n"
            ],
            "application/vnd.google.colaboratory.intrinsic+json": {
              "type": "dataframe",
              "variable_name": "desc_df",
              "summary": "{\n  \"name\": \"desc_df\",\n  \"rows\": 27334,\n  \"fields\": [\n    {\n      \"column\": \"steam_appid\",\n      \"properties\": {\n        \"dtype\": \"number\",\n        \"std\": 251211,\n        \"min\": 10,\n        \"max\": 1069460,\n        \"num_unique_values\": 27334,\n        \"samples\": [\n          200980,\n          872350,\n          396930\n        ],\n        \"semantic_type\": \"\",\n        \"description\": \"\"\n      }\n    },\n    {\n      \"column\": \"detailed_description\",\n      \"properties\": {\n        \"dtype\": \"string\",\n        \"num_unique_values\": 27315,\n        \"samples\": [\n          \"With this modernized History Edition, dive into the diversified mix of enthralling build-up matches and exciting real-time fights. Manifold landscapes await to be explored and populated. Includes the main game plus both expansions.<br />\\r\\n<br />\\r\\nIMPROVEMENT HIGHLIGHTS: Windows 10 compatible, multiplayer via Uplay\",\n          \"-------------------<br><strong>This app contains content typically considered mature, such as frequent nudity, or sexual content.</strong><br>The story of the game is the same as &quot;My Butler&quot; for the smartphone version.<br>-------------------<br><br>- What is &quot;My Butler&quot;?<br>This is a game where you can enjoy falling in love with your personal butler. Each butler is a celebrity; sometimes they'll approach you softly...and sometimes forcefully. <br><br>- The Story<br>When your aunt asks you to work part-time for her talent agency, you didn't expect to be asked to live in her mansion for three months! Living together with you as a butlers are an actor, an idol, or a model \\u2014 all super-famous. But, each one comes with his own problems...<br><br>- The Guys<br>YONEKURA Shohei<br>A popular actor. He's arrogant, and likes to tease people. What's the real intention behind his sweet whispers and doting behavior?<br><br>KIRA Yosuke<br>A famous model who works overseas. He knows how to treat a lady but troubles you every once in a while with his sadistic outbursts.<br><br>KAMISAKI Makoto<br>An idol that everyone's talking about. Even though he's blunt and sarcastic, he tries his best to serve you. It seems like he's been interested in you from the beginning...<br><br>- You should play this game if...<br>...you want to fall in love with a handsome guy.<br>...you like romance novels, manga, or TV shows.<br>...you like romance games.<br>...you like idols and celebrities.<br>...you like butlers.<br><br>-------------------<br>Character design : Kisaragi Mizu (RED FLAGSHIP)\",\n          \"<i>\\u201cTWINKLE STAR SPRITES \\u201d</i>, a competitive 2D top-down view scrolling shooter released on NEOGEO MVS in 1996, departs for new adventures on the Steam gaming platform!<br>Master your shots, and aim for the magical Twinkle Star\\u201d!<h2 class=\\\"bb_tag\\\"> MAIN FEATURES</h2><strong>\\u30fbARCADE:</strong><br>Pick up your favorite character among the 9 cute characters available in \\u201cCHARACTER MODE\\u201d, and play until you clear the game. Choose \\u201cSTORY MODE\\u201d, and accompany \\u201cLord Ran\\u201d in her adventures in search of the lost \\u201cTwinkle Star\\u201d.<br>Play locally in \\u201cVERSUS MODE\\u201d with a friend for intense and epic shooting battles!<br><br><strong>\\u30fbMULTIPLAYER:</strong><br>Connect to Steam, and use the \\u201cINVITE A FRIEND\\u201d and \\u201cLOBBY\\u201d features to play against a buddy or challenge the best players worldwide!<br><br><strong>\\u30fbLEADERBOARDS:</strong><br>Check your current rank &amp; score in <i>\\u201cTWINKLE STAR SPRITES\\u201d</i>  at any time, as well as those of your friends and other top shooters!<br><br><strong>\\u30fbSETTINGS:</strong><br>Configure your language, video, and sound volume settings to your preference for the most pleasant <i>\\u201cTWINKLE STAR SPRITES\\u201d</i> experience ever.<br><br><strong>** WILL NOT RUN ON Windows XP **</strong><br><br><a href=\\\"http://store.steampowered.com/bigpicture/\\\" target=\\\"_blank\\\" rel=\\\"noreferrer\\\"  ><img src=\\\"https://steamcdn-a.akamaihd.net/steam/apps/220440/extras/controller_support.png\\\" ></a>\"\n        ],\n        \"semantic_type\": \"\",\n        \"description\": \"\"\n      }\n    },\n    {\n      \"column\": \"about_the_game\",\n      \"properties\": {\n        \"dtype\": \"string\",\n        \"num_unique_values\": 27315,\n        \"samples\": [\n          \"With this modernized History Edition, dive into the diversified mix of enthralling build-up matches and exciting real-time fights. Manifold landscapes await to be explored and populated. Includes the main game plus both expansions.<br />\\r\\n<br />\\r\\nIMPROVEMENT HIGHLIGHTS: Windows 10 compatible, multiplayer via Uplay\",\n          \"-------------------<br><strong>This app contains content typically considered mature, such as frequent nudity, or sexual content.</strong><br>The story of the game is the same as &quot;My Butler&quot; for the smartphone version.<br>-------------------<br><br>- What is &quot;My Butler&quot;?<br>This is a game where you can enjoy falling in love with your personal butler. Each butler is a celebrity; sometimes they'll approach you softly...and sometimes forcefully. <br><br>- The Story<br>When your aunt asks you to work part-time for her talent agency, you didn't expect to be asked to live in her mansion for three months! Living together with you as a butlers are an actor, an idol, or a model \\u2014 all super-famous. But, each one comes with his own problems...<br><br>- The Guys<br>YONEKURA Shohei<br>A popular actor. He's arrogant, and likes to tease people. What's the real intention behind his sweet whispers and doting behavior?<br><br>KIRA Yosuke<br>A famous model who works overseas. He knows how to treat a lady but troubles you every once in a while with his sadistic outbursts.<br><br>KAMISAKI Makoto<br>An idol that everyone's talking about. Even though he's blunt and sarcastic, he tries his best to serve you. It seems like he's been interested in you from the beginning...<br><br>- You should play this game if...<br>...you want to fall in love with a handsome guy.<br>...you like romance novels, manga, or TV shows.<br>...you like romance games.<br>...you like idols and celebrities.<br>...you like butlers.<br><br>-------------------<br>Character design : Kisaragi Mizu (RED FLAGSHIP)\",\n          \"<i>\\u201cTWINKLE STAR SPRITES \\u201d</i>, a competitive 2D top-down view scrolling shooter released on NEOGEO MVS in 1996, departs for new adventures on the Steam gaming platform!<br>Master your shots, and aim for the magical Twinkle Star\\u201d!<h2 class=\\\"bb_tag\\\"> MAIN FEATURES</h2><strong>\\u30fbARCADE:</strong><br>Pick up your favorite character among the 9 cute characters available in \\u201cCHARACTER MODE\\u201d, and play until you clear the game. Choose \\u201cSTORY MODE\\u201d, and accompany \\u201cLord Ran\\u201d in her adventures in search of the lost \\u201cTwinkle Star\\u201d.<br>Play locally in \\u201cVERSUS MODE\\u201d with a friend for intense and epic shooting battles!<br><br><strong>\\u30fbMULTIPLAYER:</strong><br>Connect to Steam, and use the \\u201cINVITE A FRIEND\\u201d and \\u201cLOBBY\\u201d features to play against a buddy or challenge the best players worldwide!<br><br><strong>\\u30fbLEADERBOARDS:</strong><br>Check your current rank &amp; score in <i>\\u201cTWINKLE STAR SPRITES\\u201d</i>  at any time, as well as those of your friends and other top shooters!<br><br><strong>\\u30fbSETTINGS:</strong><br>Configure your language, video, and sound volume settings to your preference for the most pleasant <i>\\u201cTWINKLE STAR SPRITES\\u201d</i> experience ever.<br><br><strong>** WILL NOT RUN ON Windows XP **</strong><br><br><a href=\\\"http://store.steampowered.com/bigpicture/\\\" target=\\\"_blank\\\" rel=\\\"noreferrer\\\"  ><img src=\\\"https://steamcdn-a.akamaihd.net/steam/apps/220440/extras/controller_support.png\\\" ></a>\"\n        ],\n        \"semantic_type\": \"\",\n        \"description\": \"\"\n      }\n    },\n    {\n      \"column\": \"short_description\",\n      \"properties\": {\n        \"dtype\": \"string\",\n        \"num_unique_values\": 27204,\n        \"samples\": [\n          \"Imagination is the key, as you enter a magical storybook full of mystery and wonder, unusual creatures, and enigmatic puzzles! Create your own original Stickman and then watch it come to life in DRAW A STICKMAN: EPIC 2! Jump in to this action-packed adventure that allows for endless creativity!\",\n          \"Spark the electric jester is an action/platformer video game heavily based on best classics from the 16-bit era from both sides of the aisle.\",\n          \"Professional Farmer: American Dream \\u2013 the latest spin-off from the Professional Farmer series \\u2013 takes you to a ranch set in the captivating landscapes of the Midwest.\"\n        ],\n        \"semantic_type\": \"\",\n        \"description\": \"\"\n      }\n    }\n  ]\n}"
            }
          },
          "metadata": {},
          "execution_count": 30
        }
      ]
    },
    {
      "cell_type": "code",
      "source": [
        "desc_df = desc_df.rename(columns={'steam_appid': 'appid'})"
      ],
      "metadata": {
        "id": "LpDwgY3yVGvX"
      },
      "execution_count": 31,
      "outputs": []
    },
    {
      "cell_type": "code",
      "source": [
        "desc_df.head(1)"
      ],
      "metadata": {
        "colab": {
          "base_uri": "https://localhost:8080/",
          "height": 80
        },
        "id": "yiDqAS7_VI4F",
        "outputId": "e80334b3-b107-4c06-b423-7967e0b2acc6"
      },
      "execution_count": 32,
      "outputs": [
        {
          "output_type": "execute_result",
          "data": {
            "text/plain": [
              "   appid                               detailed_description  \\\n",
              "0     10  Play the world's number 1 online action game. ...   \n",
              "\n",
              "                                      about_the_game  \\\n",
              "0  Play the world's number 1 online action game. ...   \n",
              "\n",
              "                                   short_description  \n",
              "0  Play the world's number 1 online action game. ...  "
            ],
            "text/html": [
              "\n",
              "  <div id=\"df-6d43b944-500c-4f2f-8d1d-b1a6e741f466\" class=\"colab-df-container\">\n",
              "    <div>\n",
              "<style scoped>\n",
              "    .dataframe tbody tr th:only-of-type {\n",
              "        vertical-align: middle;\n",
              "    }\n",
              "\n",
              "    .dataframe tbody tr th {\n",
              "        vertical-align: top;\n",
              "    }\n",
              "\n",
              "    .dataframe thead th {\n",
              "        text-align: right;\n",
              "    }\n",
              "</style>\n",
              "<table border=\"1\" class=\"dataframe\">\n",
              "  <thead>\n",
              "    <tr style=\"text-align: right;\">\n",
              "      <th></th>\n",
              "      <th>appid</th>\n",
              "      <th>detailed_description</th>\n",
              "      <th>about_the_game</th>\n",
              "      <th>short_description</th>\n",
              "    </tr>\n",
              "  </thead>\n",
              "  <tbody>\n",
              "    <tr>\n",
              "      <th>0</th>\n",
              "      <td>10</td>\n",
              "      <td>Play the world's number 1 online action game. ...</td>\n",
              "      <td>Play the world's number 1 online action game. ...</td>\n",
              "      <td>Play the world's number 1 online action game. ...</td>\n",
              "    </tr>\n",
              "  </tbody>\n",
              "</table>\n",
              "</div>\n",
              "    <div class=\"colab-df-buttons\">\n",
              "\n",
              "  <div class=\"colab-df-container\">\n",
              "    <button class=\"colab-df-convert\" onclick=\"convertToInteractive('df-6d43b944-500c-4f2f-8d1d-b1a6e741f466')\"\n",
              "            title=\"Convert this dataframe to an interactive table.\"\n",
              "            style=\"display:none;\">\n",
              "\n",
              "  <svg xmlns=\"http://www.w3.org/2000/svg\" height=\"24px\" viewBox=\"0 -960 960 960\">\n",
              "    <path d=\"M120-120v-720h720v720H120Zm60-500h600v-160H180v160Zm220 220h160v-160H400v160Zm0 220h160v-160H400v160ZM180-400h160v-160H180v160Zm440 0h160v-160H620v160ZM180-180h160v-160H180v160Zm440 0h160v-160H620v160Z\"/>\n",
              "  </svg>\n",
              "    </button>\n",
              "\n",
              "  <style>\n",
              "    .colab-df-container {\n",
              "      display:flex;\n",
              "      gap: 12px;\n",
              "    }\n",
              "\n",
              "    .colab-df-convert {\n",
              "      background-color: #E8F0FE;\n",
              "      border: none;\n",
              "      border-radius: 50%;\n",
              "      cursor: pointer;\n",
              "      display: none;\n",
              "      fill: #1967D2;\n",
              "      height: 32px;\n",
              "      padding: 0 0 0 0;\n",
              "      width: 32px;\n",
              "    }\n",
              "\n",
              "    .colab-df-convert:hover {\n",
              "      background-color: #E2EBFA;\n",
              "      box-shadow: 0px 1px 2px rgba(60, 64, 67, 0.3), 0px 1px 3px 1px rgba(60, 64, 67, 0.15);\n",
              "      fill: #174EA6;\n",
              "    }\n",
              "\n",
              "    .colab-df-buttons div {\n",
              "      margin-bottom: 4px;\n",
              "    }\n",
              "\n",
              "    [theme=dark] .colab-df-convert {\n",
              "      background-color: #3B4455;\n",
              "      fill: #D2E3FC;\n",
              "    }\n",
              "\n",
              "    [theme=dark] .colab-df-convert:hover {\n",
              "      background-color: #434B5C;\n",
              "      box-shadow: 0px 1px 3px 1px rgba(0, 0, 0, 0.15);\n",
              "      filter: drop-shadow(0px 1px 2px rgba(0, 0, 0, 0.3));\n",
              "      fill: #FFFFFF;\n",
              "    }\n",
              "  </style>\n",
              "\n",
              "    <script>\n",
              "      const buttonEl =\n",
              "        document.querySelector('#df-6d43b944-500c-4f2f-8d1d-b1a6e741f466 button.colab-df-convert');\n",
              "      buttonEl.style.display =\n",
              "        google.colab.kernel.accessAllowed ? 'block' : 'none';\n",
              "\n",
              "      async function convertToInteractive(key) {\n",
              "        const element = document.querySelector('#df-6d43b944-500c-4f2f-8d1d-b1a6e741f466');\n",
              "        const dataTable =\n",
              "          await google.colab.kernel.invokeFunction('convertToInteractive',\n",
              "                                                    [key], {});\n",
              "        if (!dataTable) return;\n",
              "\n",
              "        const docLinkHtml = 'Like what you see? Visit the ' +\n",
              "          '<a target=\"_blank\" href=https://colab.research.google.com/notebooks/data_table.ipynb>data table notebook</a>'\n",
              "          + ' to learn more about interactive tables.';\n",
              "        element.innerHTML = '';\n",
              "        dataTable['output_type'] = 'display_data';\n",
              "        await google.colab.output.renderOutput(dataTable, element);\n",
              "        const docLink = document.createElement('div');\n",
              "        docLink.innerHTML = docLinkHtml;\n",
              "        element.appendChild(docLink);\n",
              "      }\n",
              "    </script>\n",
              "  </div>\n",
              "\n",
              "\n",
              "    </div>\n",
              "  </div>\n"
            ],
            "application/vnd.google.colaboratory.intrinsic+json": {
              "type": "dataframe",
              "variable_name": "desc_df",
              "summary": "{\n  \"name\": \"desc_df\",\n  \"rows\": 27334,\n  \"fields\": [\n    {\n      \"column\": \"appid\",\n      \"properties\": {\n        \"dtype\": \"number\",\n        \"std\": 251211,\n        \"min\": 10,\n        \"max\": 1069460,\n        \"num_unique_values\": 27334,\n        \"samples\": [\n          200980,\n          872350,\n          396930\n        ],\n        \"semantic_type\": \"\",\n        \"description\": \"\"\n      }\n    },\n    {\n      \"column\": \"detailed_description\",\n      \"properties\": {\n        \"dtype\": \"string\",\n        \"num_unique_values\": 27315,\n        \"samples\": [\n          \"With this modernized History Edition, dive into the diversified mix of enthralling build-up matches and exciting real-time fights. Manifold landscapes await to be explored and populated. Includes the main game plus both expansions.<br />\\r\\n<br />\\r\\nIMPROVEMENT HIGHLIGHTS: Windows 10 compatible, multiplayer via Uplay\",\n          \"-------------------<br><strong>This app contains content typically considered mature, such as frequent nudity, or sexual content.</strong><br>The story of the game is the same as &quot;My Butler&quot; for the smartphone version.<br>-------------------<br><br>- What is &quot;My Butler&quot;?<br>This is a game where you can enjoy falling in love with your personal butler. Each butler is a celebrity; sometimes they'll approach you softly...and sometimes forcefully. <br><br>- The Story<br>When your aunt asks you to work part-time for her talent agency, you didn't expect to be asked to live in her mansion for three months! Living together with you as a butlers are an actor, an idol, or a model \\u2014 all super-famous. But, each one comes with his own problems...<br><br>- The Guys<br>YONEKURA Shohei<br>A popular actor. He's arrogant, and likes to tease people. What's the real intention behind his sweet whispers and doting behavior?<br><br>KIRA Yosuke<br>A famous model who works overseas. He knows how to treat a lady but troubles you every once in a while with his sadistic outbursts.<br><br>KAMISAKI Makoto<br>An idol that everyone's talking about. Even though he's blunt and sarcastic, he tries his best to serve you. It seems like he's been interested in you from the beginning...<br><br>- You should play this game if...<br>...you want to fall in love with a handsome guy.<br>...you like romance novels, manga, or TV shows.<br>...you like romance games.<br>...you like idols and celebrities.<br>...you like butlers.<br><br>-------------------<br>Character design : Kisaragi Mizu (RED FLAGSHIP)\",\n          \"<i>\\u201cTWINKLE STAR SPRITES \\u201d</i>, a competitive 2D top-down view scrolling shooter released on NEOGEO MVS in 1996, departs for new adventures on the Steam gaming platform!<br>Master your shots, and aim for the magical Twinkle Star\\u201d!<h2 class=\\\"bb_tag\\\"> MAIN FEATURES</h2><strong>\\u30fbARCADE:</strong><br>Pick up your favorite character among the 9 cute characters available in \\u201cCHARACTER MODE\\u201d, and play until you clear the game. Choose \\u201cSTORY MODE\\u201d, and accompany \\u201cLord Ran\\u201d in her adventures in search of the lost \\u201cTwinkle Star\\u201d.<br>Play locally in \\u201cVERSUS MODE\\u201d with a friend for intense and epic shooting battles!<br><br><strong>\\u30fbMULTIPLAYER:</strong><br>Connect to Steam, and use the \\u201cINVITE A FRIEND\\u201d and \\u201cLOBBY\\u201d features to play against a buddy or challenge the best players worldwide!<br><br><strong>\\u30fbLEADERBOARDS:</strong><br>Check your current rank &amp; score in <i>\\u201cTWINKLE STAR SPRITES\\u201d</i>  at any time, as well as those of your friends and other top shooters!<br><br><strong>\\u30fbSETTINGS:</strong><br>Configure your language, video, and sound volume settings to your preference for the most pleasant <i>\\u201cTWINKLE STAR SPRITES\\u201d</i> experience ever.<br><br><strong>** WILL NOT RUN ON Windows XP **</strong><br><br><a href=\\\"http://store.steampowered.com/bigpicture/\\\" target=\\\"_blank\\\" rel=\\\"noreferrer\\\"  ><img src=\\\"https://steamcdn-a.akamaihd.net/steam/apps/220440/extras/controller_support.png\\\" ></a>\"\n        ],\n        \"semantic_type\": \"\",\n        \"description\": \"\"\n      }\n    },\n    {\n      \"column\": \"about_the_game\",\n      \"properties\": {\n        \"dtype\": \"string\",\n        \"num_unique_values\": 27315,\n        \"samples\": [\n          \"With this modernized History Edition, dive into the diversified mix of enthralling build-up matches and exciting real-time fights. Manifold landscapes await to be explored and populated. Includes the main game plus both expansions.<br />\\r\\n<br />\\r\\nIMPROVEMENT HIGHLIGHTS: Windows 10 compatible, multiplayer via Uplay\",\n          \"-------------------<br><strong>This app contains content typically considered mature, such as frequent nudity, or sexual content.</strong><br>The story of the game is the same as &quot;My Butler&quot; for the smartphone version.<br>-------------------<br><br>- What is &quot;My Butler&quot;?<br>This is a game where you can enjoy falling in love with your personal butler. Each butler is a celebrity; sometimes they'll approach you softly...and sometimes forcefully. <br><br>- The Story<br>When your aunt asks you to work part-time for her talent agency, you didn't expect to be asked to live in her mansion for three months! Living together with you as a butlers are an actor, an idol, or a model \\u2014 all super-famous. But, each one comes with his own problems...<br><br>- The Guys<br>YONEKURA Shohei<br>A popular actor. He's arrogant, and likes to tease people. What's the real intention behind his sweet whispers and doting behavior?<br><br>KIRA Yosuke<br>A famous model who works overseas. He knows how to treat a lady but troubles you every once in a while with his sadistic outbursts.<br><br>KAMISAKI Makoto<br>An idol that everyone's talking about. Even though he's blunt and sarcastic, he tries his best to serve you. It seems like he's been interested in you from the beginning...<br><br>- You should play this game if...<br>...you want to fall in love with a handsome guy.<br>...you like romance novels, manga, or TV shows.<br>...you like romance games.<br>...you like idols and celebrities.<br>...you like butlers.<br><br>-------------------<br>Character design : Kisaragi Mizu (RED FLAGSHIP)\",\n          \"<i>\\u201cTWINKLE STAR SPRITES \\u201d</i>, a competitive 2D top-down view scrolling shooter released on NEOGEO MVS in 1996, departs for new adventures on the Steam gaming platform!<br>Master your shots, and aim for the magical Twinkle Star\\u201d!<h2 class=\\\"bb_tag\\\"> MAIN FEATURES</h2><strong>\\u30fbARCADE:</strong><br>Pick up your favorite character among the 9 cute characters available in \\u201cCHARACTER MODE\\u201d, and play until you clear the game. Choose \\u201cSTORY MODE\\u201d, and accompany \\u201cLord Ran\\u201d in her adventures in search of the lost \\u201cTwinkle Star\\u201d.<br>Play locally in \\u201cVERSUS MODE\\u201d with a friend for intense and epic shooting battles!<br><br><strong>\\u30fbMULTIPLAYER:</strong><br>Connect to Steam, and use the \\u201cINVITE A FRIEND\\u201d and \\u201cLOBBY\\u201d features to play against a buddy or challenge the best players worldwide!<br><br><strong>\\u30fbLEADERBOARDS:</strong><br>Check your current rank &amp; score in <i>\\u201cTWINKLE STAR SPRITES\\u201d</i>  at any time, as well as those of your friends and other top shooters!<br><br><strong>\\u30fbSETTINGS:</strong><br>Configure your language, video, and sound volume settings to your preference for the most pleasant <i>\\u201cTWINKLE STAR SPRITES\\u201d</i> experience ever.<br><br><strong>** WILL NOT RUN ON Windows XP **</strong><br><br><a href=\\\"http://store.steampowered.com/bigpicture/\\\" target=\\\"_blank\\\" rel=\\\"noreferrer\\\"  ><img src=\\\"https://steamcdn-a.akamaihd.net/steam/apps/220440/extras/controller_support.png\\\" ></a>\"\n        ],\n        \"semantic_type\": \"\",\n        \"description\": \"\"\n      }\n    },\n    {\n      \"column\": \"short_description\",\n      \"properties\": {\n        \"dtype\": \"string\",\n        \"num_unique_values\": 27204,\n        \"samples\": [\n          \"Imagination is the key, as you enter a magical storybook full of mystery and wonder, unusual creatures, and enigmatic puzzles! Create your own original Stickman and then watch it come to life in DRAW A STICKMAN: EPIC 2! Jump in to this action-packed adventure that allows for endless creativity!\",\n          \"Spark the electric jester is an action/platformer video game heavily based on best classics from the 16-bit era from both sides of the aisle.\",\n          \"Professional Farmer: American Dream \\u2013 the latest spin-off from the Professional Farmer series \\u2013 takes you to a ranch set in the captivating landscapes of the Midwest.\"\n        ],\n        \"semantic_type\": \"\",\n        \"description\": \"\"\n      }\n    }\n  ]\n}"
            }
          },
          "metadata": {},
          "execution_count": 32
        }
      ]
    },
    {
      "cell_type": "code",
      "source": [
        "media_df.head(1)"
      ],
      "metadata": {
        "colab": {
          "base_uri": "https://localhost:8080/",
          "height": 80
        },
        "id": "m_SPGQ1fT8b8",
        "outputId": "de721996-48e9-428d-ba40-5702b5e09d4b"
      },
      "execution_count": 33,
      "outputs": [
        {
          "output_type": "execute_result",
          "data": {
            "text/plain": [
              "   steam_appid                                       header_image  \\\n",
              "0           10  https://steamcdn-a.akamaihd.net/steam/apps/10/...   \n",
              "\n",
              "                                         screenshots  \\\n",
              "0  [{'id': 0, 'path_thumbnail': 'https://steamcdn...   \n",
              "\n",
              "                                          background movies  \n",
              "0  https://steamcdn-a.akamaihd.net/steam/apps/10/...    NaN  "
            ],
            "text/html": [
              "\n",
              "  <div id=\"df-6692b1c7-dc0f-4bef-8986-9b2bbb7039a8\" class=\"colab-df-container\">\n",
              "    <div>\n",
              "<style scoped>\n",
              "    .dataframe tbody tr th:only-of-type {\n",
              "        vertical-align: middle;\n",
              "    }\n",
              "\n",
              "    .dataframe tbody tr th {\n",
              "        vertical-align: top;\n",
              "    }\n",
              "\n",
              "    .dataframe thead th {\n",
              "        text-align: right;\n",
              "    }\n",
              "</style>\n",
              "<table border=\"1\" class=\"dataframe\">\n",
              "  <thead>\n",
              "    <tr style=\"text-align: right;\">\n",
              "      <th></th>\n",
              "      <th>steam_appid</th>\n",
              "      <th>header_image</th>\n",
              "      <th>screenshots</th>\n",
              "      <th>background</th>\n",
              "      <th>movies</th>\n",
              "    </tr>\n",
              "  </thead>\n",
              "  <tbody>\n",
              "    <tr>\n",
              "      <th>0</th>\n",
              "      <td>10</td>\n",
              "      <td>https://steamcdn-a.akamaihd.net/steam/apps/10/...</td>\n",
              "      <td>[{'id': 0, 'path_thumbnail': 'https://steamcdn...</td>\n",
              "      <td>https://steamcdn-a.akamaihd.net/steam/apps/10/...</td>\n",
              "      <td>NaN</td>\n",
              "    </tr>\n",
              "  </tbody>\n",
              "</table>\n",
              "</div>\n",
              "    <div class=\"colab-df-buttons\">\n",
              "\n",
              "  <div class=\"colab-df-container\">\n",
              "    <button class=\"colab-df-convert\" onclick=\"convertToInteractive('df-6692b1c7-dc0f-4bef-8986-9b2bbb7039a8')\"\n",
              "            title=\"Convert this dataframe to an interactive table.\"\n",
              "            style=\"display:none;\">\n",
              "\n",
              "  <svg xmlns=\"http://www.w3.org/2000/svg\" height=\"24px\" viewBox=\"0 -960 960 960\">\n",
              "    <path d=\"M120-120v-720h720v720H120Zm60-500h600v-160H180v160Zm220 220h160v-160H400v160Zm0 220h160v-160H400v160ZM180-400h160v-160H180v160Zm440 0h160v-160H620v160ZM180-180h160v-160H180v160Zm440 0h160v-160H620v160Z\"/>\n",
              "  </svg>\n",
              "    </button>\n",
              "\n",
              "  <style>\n",
              "    .colab-df-container {\n",
              "      display:flex;\n",
              "      gap: 12px;\n",
              "    }\n",
              "\n",
              "    .colab-df-convert {\n",
              "      background-color: #E8F0FE;\n",
              "      border: none;\n",
              "      border-radius: 50%;\n",
              "      cursor: pointer;\n",
              "      display: none;\n",
              "      fill: #1967D2;\n",
              "      height: 32px;\n",
              "      padding: 0 0 0 0;\n",
              "      width: 32px;\n",
              "    }\n",
              "\n",
              "    .colab-df-convert:hover {\n",
              "      background-color: #E2EBFA;\n",
              "      box-shadow: 0px 1px 2px rgba(60, 64, 67, 0.3), 0px 1px 3px 1px rgba(60, 64, 67, 0.15);\n",
              "      fill: #174EA6;\n",
              "    }\n",
              "\n",
              "    .colab-df-buttons div {\n",
              "      margin-bottom: 4px;\n",
              "    }\n",
              "\n",
              "    [theme=dark] .colab-df-convert {\n",
              "      background-color: #3B4455;\n",
              "      fill: #D2E3FC;\n",
              "    }\n",
              "\n",
              "    [theme=dark] .colab-df-convert:hover {\n",
              "      background-color: #434B5C;\n",
              "      box-shadow: 0px 1px 3px 1px rgba(0, 0, 0, 0.15);\n",
              "      filter: drop-shadow(0px 1px 2px rgba(0, 0, 0, 0.3));\n",
              "      fill: #FFFFFF;\n",
              "    }\n",
              "  </style>\n",
              "\n",
              "    <script>\n",
              "      const buttonEl =\n",
              "        document.querySelector('#df-6692b1c7-dc0f-4bef-8986-9b2bbb7039a8 button.colab-df-convert');\n",
              "      buttonEl.style.display =\n",
              "        google.colab.kernel.accessAllowed ? 'block' : 'none';\n",
              "\n",
              "      async function convertToInteractive(key) {\n",
              "        const element = document.querySelector('#df-6692b1c7-dc0f-4bef-8986-9b2bbb7039a8');\n",
              "        const dataTable =\n",
              "          await google.colab.kernel.invokeFunction('convertToInteractive',\n",
              "                                                    [key], {});\n",
              "        if (!dataTable) return;\n",
              "\n",
              "        const docLinkHtml = 'Like what you see? Visit the ' +\n",
              "          '<a target=\"_blank\" href=https://colab.research.google.com/notebooks/data_table.ipynb>data table notebook</a>'\n",
              "          + ' to learn more about interactive tables.';\n",
              "        element.innerHTML = '';\n",
              "        dataTable['output_type'] = 'display_data';\n",
              "        await google.colab.output.renderOutput(dataTable, element);\n",
              "        const docLink = document.createElement('div');\n",
              "        docLink.innerHTML = docLinkHtml;\n",
              "        element.appendChild(docLink);\n",
              "      }\n",
              "    </script>\n",
              "  </div>\n",
              "\n",
              "\n",
              "    </div>\n",
              "  </div>\n"
            ],
            "application/vnd.google.colaboratory.intrinsic+json": {
              "type": "dataframe",
              "variable_name": "media_df",
              "summary": "{\n  \"name\": \"media_df\",\n  \"rows\": 27332,\n  \"fields\": [\n    {\n      \"column\": \"steam_appid\",\n      \"properties\": {\n        \"dtype\": \"number\",\n        \"std\": 251212,\n        \"min\": 10,\n        \"max\": 1069460,\n        \"num_unique_values\": 27332,\n        \"samples\": [\n          200980,\n          872340,\n          396930\n        ],\n        \"semantic_type\": \"\",\n        \"description\": \"\"\n      }\n    },\n    {\n      \"column\": \"header_image\",\n      \"properties\": {\n        \"dtype\": \"string\",\n        \"num_unique_values\": 27332,\n        \"samples\": [\n          \"https://steamcdn-a.akamaihd.net/steam/apps/200980/header.jpg?t=1447354714\",\n          \"https://steamcdn-a.akamaihd.net/steam/apps/872340/header.jpg?t=1550178088\",\n          \"https://steamcdn-a.akamaihd.net/steam/apps/396930/header.jpg?t=1462749923\"\n        ],\n        \"semantic_type\": \"\",\n        \"description\": \"\"\n      }\n    },\n    {\n      \"column\": \"screenshots\",\n      \"properties\": {\n        \"dtype\": \"string\",\n        \"num_unique_values\": 27332,\n        \"samples\": [\n          \"[{'id': 0, 'path_thumbnail': 'https://steamcdn-a.akamaihd.net/steam/apps/200980/ss_7aa4dcb9cf357361245d175eb6852a6890ef946d.600x338.jpg?t=1447354714', 'path_full': 'https://steamcdn-a.akamaihd.net/steam/apps/200980/ss_7aa4dcb9cf357361245d175eb6852a6890ef946d.1920x1080.jpg?t=1447354714'}, {'id': 1, 'path_thumbnail': 'https://steamcdn-a.akamaihd.net/steam/apps/200980/ss_c121268354bb17ac503b47ec6fd51579a4d66b68.600x338.jpg?t=1447354714', 'path_full': 'https://steamcdn-a.akamaihd.net/steam/apps/200980/ss_c121268354bb17ac503b47ec6fd51579a4d66b68.1920x1080.jpg?t=1447354714'}, {'id': 2, 'path_thumbnail': 'https://steamcdn-a.akamaihd.net/steam/apps/200980/ss_23c001d43f10fd0ead2f29b4d5a6ea6f218125f0.600x338.jpg?t=1447354714', 'path_full': 'https://steamcdn-a.akamaihd.net/steam/apps/200980/ss_23c001d43f10fd0ead2f29b4d5a6ea6f218125f0.1920x1080.jpg?t=1447354714'}, {'id': 3, 'path_thumbnail': 'https://steamcdn-a.akamaihd.net/steam/apps/200980/ss_bb13ce778d720869fe3a247c7e58a651178ee2bd.600x338.jpg?t=1447354714', 'path_full': 'https://steamcdn-a.akamaihd.net/steam/apps/200980/ss_bb13ce778d720869fe3a247c7e58a651178ee2bd.1920x1080.jpg?t=1447354714'}, {'id': 4, 'path_thumbnail': 'https://steamcdn-a.akamaihd.net/steam/apps/200980/ss_2c9aceda6851d10ff4f720a1dbf65698db824365.600x338.jpg?t=1447354714', 'path_full': 'https://steamcdn-a.akamaihd.net/steam/apps/200980/ss_2c9aceda6851d10ff4f720a1dbf65698db824365.1920x1080.jpg?t=1447354714'}]\",\n          \"[{'id': 0, 'path_thumbnail': 'https://steamcdn-a.akamaihd.net/steam/apps/872340/ss_44184e6265bf6594a9935f2e243c6b2aad645b0a.600x338.jpg?t=1550178088', 'path_full': 'https://steamcdn-a.akamaihd.net/steam/apps/872340/ss_44184e6265bf6594a9935f2e243c6b2aad645b0a.1920x1080.jpg?t=1550178088'}, {'id': 1, 'path_thumbnail': 'https://steamcdn-a.akamaihd.net/steam/apps/872340/ss_935d41edf98d258ce9a9f253a0774372a88dbfc4.600x338.jpg?t=1550178088', 'path_full': 'https://steamcdn-a.akamaihd.net/steam/apps/872340/ss_935d41edf98d258ce9a9f253a0774372a88dbfc4.1920x1080.jpg?t=1550178088'}, {'id': 2, 'path_thumbnail': 'https://steamcdn-a.akamaihd.net/steam/apps/872340/ss_3eb7704e54a4a1512b0f90091ca0ce830cb9b84f.600x338.jpg?t=1550178088', 'path_full': 'https://steamcdn-a.akamaihd.net/steam/apps/872340/ss_3eb7704e54a4a1512b0f90091ca0ce830cb9b84f.1920x1080.jpg?t=1550178088'}, {'id': 3, 'path_thumbnail': 'https://steamcdn-a.akamaihd.net/steam/apps/872340/ss_205604ebb6cc2002fd7db6feec5fbddb4b9edd59.600x338.jpg?t=1550178088', 'path_full': 'https://steamcdn-a.akamaihd.net/steam/apps/872340/ss_205604ebb6cc2002fd7db6feec5fbddb4b9edd59.1920x1080.jpg?t=1550178088'}, {'id': 4, 'path_thumbnail': 'https://steamcdn-a.akamaihd.net/steam/apps/872340/ss_5c65be43c96fffe9cea794dc3fcf12703a15e2b6.600x338.jpg?t=1550178088', 'path_full': 'https://steamcdn-a.akamaihd.net/steam/apps/872340/ss_5c65be43c96fffe9cea794dc3fcf12703a15e2b6.1920x1080.jpg?t=1550178088'}, {'id': 5, 'path_thumbnail': 'https://steamcdn-a.akamaihd.net/steam/apps/872340/ss_f6564e08dc10651f9d3fa28818612c8d02e5a0fb.600x338.jpg?t=1550178088', 'path_full': 'https://steamcdn-a.akamaihd.net/steam/apps/872340/ss_f6564e08dc10651f9d3fa28818612c8d02e5a0fb.1920x1080.jpg?t=1550178088'}, {'id': 6, 'path_thumbnail': 'https://steamcdn-a.akamaihd.net/steam/apps/872340/ss_2a914ea39885ff351fb167422fa34ef76afcb5b7.600x338.jpg?t=1550178088', 'path_full': 'https://steamcdn-a.akamaihd.net/steam/apps/872340/ss_2a914ea39885ff351fb167422fa34ef76afcb5b7.1920x1080.jpg?t=1550178088'}, {'id': 7, 'path_thumbnail': 'https://steamcdn-a.akamaihd.net/steam/apps/872340/ss_eb423834b0ca2d66649e9ca50a1a73daf2a59516.600x338.jpg?t=1550178088', 'path_full': 'https://steamcdn-a.akamaihd.net/steam/apps/872340/ss_eb423834b0ca2d66649e9ca50a1a73daf2a59516.1920x1080.jpg?t=1550178088'}, {'id': 8, 'path_thumbnail': 'https://steamcdn-a.akamaihd.net/steam/apps/872340/ss_184caecb959d06b0a8cbef753c04be240a9c1a07.600x338.jpg?t=1550178088', 'path_full': 'https://steamcdn-a.akamaihd.net/steam/apps/872340/ss_184caecb959d06b0a8cbef753c04be240a9c1a07.1920x1080.jpg?t=1550178088'}, {'id': 9, 'path_thumbnail': 'https://steamcdn-a.akamaihd.net/steam/apps/872340/ss_66d96498a14105bc49820c0cfc809ae1c2b82d3e.600x338.jpg?t=1550178088', 'path_full': 'https://steamcdn-a.akamaihd.net/steam/apps/872340/ss_66d96498a14105bc49820c0cfc809ae1c2b82d3e.1920x1080.jpg?t=1550178088'}, {'id': 10, 'path_thumbnail': 'https://steamcdn-a.akamaihd.net/steam/apps/872340/ss_77cfaa653dcf18ab89bd2e5788483c6c6dca5729.600x338.jpg?t=1550178088', 'path_full': 'https://steamcdn-a.akamaihd.net/steam/apps/872340/ss_77cfaa653dcf18ab89bd2e5788483c6c6dca5729.1920x1080.jpg?t=1550178088'}, {'id': 11, 'path_thumbnail': 'https://steamcdn-a.akamaihd.net/steam/apps/872340/ss_9bd2a1fea0182a5ef8c22078ddf5ae8ed6668e5d.600x338.jpg?t=1550178088', 'path_full': 'https://steamcdn-a.akamaihd.net/steam/apps/872340/ss_9bd2a1fea0182a5ef8c22078ddf5ae8ed6668e5d.1920x1080.jpg?t=1550178088'}, {'id': 12, 'path_thumbnail': 'https://steamcdn-a.akamaihd.net/steam/apps/872340/ss_989b02a3afc04525b81d96d6db8415637bb3d864.600x338.jpg?t=1550178088', 'path_full': 'https://steamcdn-a.akamaihd.net/steam/apps/872340/ss_989b02a3afc04525b81d96d6db8415637bb3d864.1920x1080.jpg?t=1550178088'}]\",\n          \"[{'id': 0, 'path_thumbnail': 'https://steamcdn-a.akamaihd.net/steam/apps/396930/ss_08baa915c19002eef0c3125a24529060f2a8ddee.600x338.jpg?t=1462749923', 'path_full': 'https://steamcdn-a.akamaihd.net/steam/apps/396930/ss_08baa915c19002eef0c3125a24529060f2a8ddee.1920x1080.jpg?t=1462749923'}, {'id': 1, 'path_thumbnail': 'https://steamcdn-a.akamaihd.net/steam/apps/396930/ss_109df2242beda4b7ed87626ba5a06c76def2c707.600x338.jpg?t=1462749923', 'path_full': 'https://steamcdn-a.akamaihd.net/steam/apps/396930/ss_109df2242beda4b7ed87626ba5a06c76def2c707.1920x1080.jpg?t=1462749923'}, {'id': 2, 'path_thumbnail': 'https://steamcdn-a.akamaihd.net/steam/apps/396930/ss_8799b97e4d4cbd57e6dd35ba2f3af0df19d72950.600x338.jpg?t=1462749923', 'path_full': 'https://steamcdn-a.akamaihd.net/steam/apps/396930/ss_8799b97e4d4cbd57e6dd35ba2f3af0df19d72950.1920x1080.jpg?t=1462749923'}, {'id': 3, 'path_thumbnail': 'https://steamcdn-a.akamaihd.net/steam/apps/396930/ss_57fbd73626b40223ac56b52162cf6e18d5892d93.600x338.jpg?t=1462749923', 'path_full': 'https://steamcdn-a.akamaihd.net/steam/apps/396930/ss_57fbd73626b40223ac56b52162cf6e18d5892d93.1920x1080.jpg?t=1462749923'}, {'id': 4, 'path_thumbnail': 'https://steamcdn-a.akamaihd.net/steam/apps/396930/ss_a6df104159d12f634df785b360b58222bbaba056.600x338.jpg?t=1462749923', 'path_full': 'https://steamcdn-a.akamaihd.net/steam/apps/396930/ss_a6df104159d12f634df785b360b58222bbaba056.1920x1080.jpg?t=1462749923'}, {'id': 5, 'path_thumbnail': 'https://steamcdn-a.akamaihd.net/steam/apps/396930/ss_8b30be511cd7c4fca213d8a8338500164b97b877.600x338.jpg?t=1462749923', 'path_full': 'https://steamcdn-a.akamaihd.net/steam/apps/396930/ss_8b30be511cd7c4fca213d8a8338500164b97b877.1920x1080.jpg?t=1462749923'}, {'id': 6, 'path_thumbnail': 'https://steamcdn-a.akamaihd.net/steam/apps/396930/ss_dde87d19dbce888b609d2092c38284166de903c9.600x338.jpg?t=1462749923', 'path_full': 'https://steamcdn-a.akamaihd.net/steam/apps/396930/ss_dde87d19dbce888b609d2092c38284166de903c9.1920x1080.jpg?t=1462749923'}, {'id': 7, 'path_thumbnail': 'https://steamcdn-a.akamaihd.net/steam/apps/396930/ss_09cf9712ec6ff6f4ee36bd7c7e6ec59d209cc786.600x338.jpg?t=1462749923', 'path_full': 'https://steamcdn-a.akamaihd.net/steam/apps/396930/ss_09cf9712ec6ff6f4ee36bd7c7e6ec59d209cc786.1920x1080.jpg?t=1462749923'}, {'id': 8, 'path_thumbnail': 'https://steamcdn-a.akamaihd.net/steam/apps/396930/ss_3f4474ccfaa74e6f9577990ef2748c7a35899255.600x338.jpg?t=1462749923', 'path_full': 'https://steamcdn-a.akamaihd.net/steam/apps/396930/ss_3f4474ccfaa74e6f9577990ef2748c7a35899255.1920x1080.jpg?t=1462749923'}, {'id': 9, 'path_thumbnail': 'https://steamcdn-a.akamaihd.net/steam/apps/396930/ss_2446d25574ccd034acabe9e7d7137172fee63338.600x338.jpg?t=1462749923', 'path_full': 'https://steamcdn-a.akamaihd.net/steam/apps/396930/ss_2446d25574ccd034acabe9e7d7137172fee63338.1920x1080.jpg?t=1462749923'}, {'id': 10, 'path_thumbnail': 'https://steamcdn-a.akamaihd.net/steam/apps/396930/ss_550a1bde701f1355f25c73e5f00108887d3a7e6a.600x338.jpg?t=1462749923', 'path_full': 'https://steamcdn-a.akamaihd.net/steam/apps/396930/ss_550a1bde701f1355f25c73e5f00108887d3a7e6a.1920x1080.jpg?t=1462749923'}, {'id': 11, 'path_thumbnail': 'https://steamcdn-a.akamaihd.net/steam/apps/396930/ss_d2511dabf85fdbd10b54eb2b3f5904b02a84fc9a.600x338.jpg?t=1462749923', 'path_full': 'https://steamcdn-a.akamaihd.net/steam/apps/396930/ss_d2511dabf85fdbd10b54eb2b3f5904b02a84fc9a.1920x1080.jpg?t=1462749923'}, {'id': 12, 'path_thumbnail': 'https://steamcdn-a.akamaihd.net/steam/apps/396930/ss_aab02f4a91cdc3703388147a3f990e75fb244958.600x338.jpg?t=1462749923', 'path_full': 'https://steamcdn-a.akamaihd.net/steam/apps/396930/ss_aab02f4a91cdc3703388147a3f990e75fb244958.1920x1080.jpg?t=1462749923'}, {'id': 13, 'path_thumbnail': 'https://steamcdn-a.akamaihd.net/steam/apps/396930/ss_473f6d3c14446cfdd01857e6519592e45117bda7.600x338.jpg?t=1462749923', 'path_full': 'https://steamcdn-a.akamaihd.net/steam/apps/396930/ss_473f6d3c14446cfdd01857e6519592e45117bda7.1920x1080.jpg?t=1462749923'}, {'id': 14, 'path_thumbnail': 'https://steamcdn-a.akamaihd.net/steam/apps/396930/ss_31e37fb19bc02dedf002b4cf08dc74c71522a418.600x338.jpg?t=1462749923', 'path_full': 'https://steamcdn-a.akamaihd.net/steam/apps/396930/ss_31e37fb19bc02dedf002b4cf08dc74c71522a418.1920x1080.jpg?t=1462749923'}]\"\n        ],\n        \"semantic_type\": \"\",\n        \"description\": \"\"\n      }\n    },\n    {\n      \"column\": \"background\",\n      \"properties\": {\n        \"dtype\": \"string\",\n        \"num_unique_values\": 27332,\n        \"samples\": [\n          \"https://steamcdn-a.akamaihd.net/steam/apps/200980/page_bg_generated_v6b.jpg?t=1447354714\",\n          \"https://steamcdn-a.akamaihd.net/steam/apps/872340/page_bg_generated_v6b.jpg?t=1550178088\",\n          \"https://steamcdn-a.akamaihd.net/steam/apps/396930/page_bg_generated_v6b.jpg?t=1462749923\"\n        ],\n        \"semantic_type\": \"\",\n        \"description\": \"\"\n      }\n    },\n    {\n      \"column\": \"movies\",\n      \"properties\": {\n        \"dtype\": \"string\",\n        \"num_unique_values\": 25639,\n        \"samples\": [\n          \"[{'id': 256718812, 'name': 'Coach Bus Simulator Parking', 'thumbnail': 'https://steamcdn-a.akamaihd.net/steam/apps/256718812/movie.293x165.jpg?t=1529912114', 'webm': {'480': 'http://steamcdn-a.akamaihd.net/steam/apps/256718812/movie480.webm?t=1529912114', 'max': 'http://steamcdn-a.akamaihd.net/steam/apps/256718812/movie_max.webm?t=1529912114'}, 'highlight': True}]\",\n          \"[{'id': 2039260, 'name': 'Initial Promo Trailer - V.2 Updated Video', 'thumbnail': 'https://steamcdn-a.akamaihd.net/steam/apps/2039260/movie.293x165.jpg?t=1447374521', 'webm': {'480': 'http://steamcdn-a.akamaihd.net/steam/apps/2039260/movie480.webm?t=1447374521', 'max': 'http://steamcdn-a.akamaihd.net/steam/apps/2039260/movie_max.webm?t=1447374521'}, 'highlight': True}]\",\n          \"[{'id': 256676890, 'name': 'Batman - The Telltale Series - Season Accolades Trailer', 'thumbnail': 'https://steamcdn-a.akamaihd.net/steam/apps/256676890/movie.293x165.jpg?t=1482370328', 'webm': {'480': 'http://steamcdn-a.akamaihd.net/steam/apps/256676890/movie480.webm?t=1482370328', 'max': 'http://steamcdn-a.akamaihd.net/steam/apps/256676890/movie_max.webm?t=1482370328'}, 'highlight': True}, {'id': 256676273, 'name': 'Batman - The Telltale Series - Episode 5 Launch Trailer', 'thumbnail': 'https://steamcdn-a.akamaihd.net/steam/apps/256676273/movie.293x165.jpg?t=1481696125', 'webm': {'480': 'http://steamcdn-a.akamaihd.net/steam/apps/256676273/movie480.webm?t=1481696125', 'max': 'http://steamcdn-a.akamaihd.net/steam/apps/256676273/movie_max.webm?t=1481696125'}, 'highlight': True}, {'id': 256675163, 'name': 'Batman - The Telltale Series - Episode 4 Launch Trailer', 'thumbnail': 'https://steamcdn-a.akamaihd.net/steam/apps/256675163/movie.293x165.jpg?t=1481696135', 'webm': {'480': 'http://steamcdn-a.akamaihd.net/steam/apps/256675163/movie480.webm?t=1481696135', 'max': 'http://steamcdn-a.akamaihd.net/steam/apps/256675163/movie_max.webm?t=1481696135'}, 'highlight': True}, {'id': 256673189, 'name': 'Batman - The Telltale Series - Episode 3 Launch Trailer', 'thumbnail': 'https://steamcdn-a.akamaihd.net/steam/apps/256673189/movie.293x165.jpg?t=1477415240', 'webm': {'480': 'http://steamcdn-a.akamaihd.net/steam/apps/256673189/movie480.webm?t=1477415240', 'max': 'http://steamcdn-a.akamaihd.net/steam/apps/256673189/movie_max.webm?t=1477415240'}, 'highlight': True}, {'id': 256670854, 'name': 'Batman - The Telltale Series - Episode 2 Launch Trailer', 'thumbnail': 'https://steamcdn-a.akamaihd.net/steam/apps/256670854/movie.293x165.jpg?t=1474390847', 'webm': {'480': 'http://steamcdn-a.akamaihd.net/steam/apps/256670854/movie480.webm?t=1474390847', 'max': 'http://steamcdn-a.akamaihd.net/steam/apps/256670854/movie_max.webm?t=1474390847'}, 'highlight': True}, {'id': 256667223, 'name': 'Debut Trailer', 'thumbnail': 'https://steamcdn-a.akamaihd.net/steam/apps/256667223/movie.293x165.jpg?t=1468940460', 'webm': {'480': 'http://steamcdn-a.akamaihd.net/steam/apps/256667223/movie480.webm?t=1468940460', 'max': 'http://steamcdn-a.akamaihd.net/steam/apps/256667223/movie_max.webm?t=1468940460'}, 'highlight': True}]\"\n        ],\n        \"semantic_type\": \"\",\n        \"description\": \"\"\n      }\n    }\n  ]\n}"
            }
          },
          "metadata": {},
          "execution_count": 33
        }
      ]
    },
    {
      "cell_type": "code",
      "source": [
        "games = games.merge(desc_df,on = 'appid')"
      ],
      "metadata": {
        "id": "Wn-MvJgUUF_k"
      },
      "execution_count": 34,
      "outputs": []
    },
    {
      "cell_type": "code",
      "source": [
        "games.shape"
      ],
      "metadata": {
        "colab": {
          "base_uri": "https://localhost:8080/"
        },
        "id": "Jov3N3kow4cG",
        "outputId": "a0ad1159-eae4-4b83-cf74-6fcc58c8ddc9"
      },
      "execution_count": 35,
      "outputs": [
        {
          "output_type": "execute_result",
          "data": {
            "text/plain": [
              "(27075, 21)"
            ]
          },
          "metadata": {},
          "execution_count": 35
        }
      ]
    },
    {
      "cell_type": "code",
      "source": [
        "games.head(1)"
      ],
      "metadata": {
        "colab": {
          "base_uri": "https://localhost:8080/",
          "height": 199
        },
        "id": "14gQepmoVQuv",
        "outputId": "0bfa6dfe-a987-4744-8607-bc776a5abbb3"
      },
      "execution_count": 36,
      "outputs": [
        {
          "output_type": "execute_result",
          "data": {
            "text/plain": [
              "   appid            name release_date  english developer publisher  \\\n",
              "0     10  Counter-Strike   2000-11-01        1     Valve     Valve   \n",
              "\n",
              "           platforms  required_age  \\\n",
              "0  windows;mac;linux             0   \n",
              "\n",
              "                                          categories  genres  ...  \\\n",
              "0  Multi-player;Online Multi-Player;Local Multi-P...  Action  ...   \n",
              "\n",
              "  achievements  positive_ratings  negative_ratings  average_playtime  \\\n",
              "0            0            124534              3339             17612   \n",
              "\n",
              "   median_playtime             owners price  \\\n",
              "0              317  10000000-20000000  7.19   \n",
              "\n",
              "                                detailed_description  \\\n",
              "0  Play the world's number 1 online action game. ...   \n",
              "\n",
              "                                      about_the_game  \\\n",
              "0  Play the world's number 1 online action game. ...   \n",
              "\n",
              "                                   short_description  \n",
              "0  Play the world's number 1 online action game. ...  \n",
              "\n",
              "[1 rows x 21 columns]"
            ],
            "text/html": [
              "\n",
              "  <div id=\"df-9c483bb2-1d59-412f-a4aa-805ee969b2d5\" class=\"colab-df-container\">\n",
              "    <div>\n",
              "<style scoped>\n",
              "    .dataframe tbody tr th:only-of-type {\n",
              "        vertical-align: middle;\n",
              "    }\n",
              "\n",
              "    .dataframe tbody tr th {\n",
              "        vertical-align: top;\n",
              "    }\n",
              "\n",
              "    .dataframe thead th {\n",
              "        text-align: right;\n",
              "    }\n",
              "</style>\n",
              "<table border=\"1\" class=\"dataframe\">\n",
              "  <thead>\n",
              "    <tr style=\"text-align: right;\">\n",
              "      <th></th>\n",
              "      <th>appid</th>\n",
              "      <th>name</th>\n",
              "      <th>release_date</th>\n",
              "      <th>english</th>\n",
              "      <th>developer</th>\n",
              "      <th>publisher</th>\n",
              "      <th>platforms</th>\n",
              "      <th>required_age</th>\n",
              "      <th>categories</th>\n",
              "      <th>genres</th>\n",
              "      <th>...</th>\n",
              "      <th>achievements</th>\n",
              "      <th>positive_ratings</th>\n",
              "      <th>negative_ratings</th>\n",
              "      <th>average_playtime</th>\n",
              "      <th>median_playtime</th>\n",
              "      <th>owners</th>\n",
              "      <th>price</th>\n",
              "      <th>detailed_description</th>\n",
              "      <th>about_the_game</th>\n",
              "      <th>short_description</th>\n",
              "    </tr>\n",
              "  </thead>\n",
              "  <tbody>\n",
              "    <tr>\n",
              "      <th>0</th>\n",
              "      <td>10</td>\n",
              "      <td>Counter-Strike</td>\n",
              "      <td>2000-11-01</td>\n",
              "      <td>1</td>\n",
              "      <td>Valve</td>\n",
              "      <td>Valve</td>\n",
              "      <td>windows;mac;linux</td>\n",
              "      <td>0</td>\n",
              "      <td>Multi-player;Online Multi-Player;Local Multi-P...</td>\n",
              "      <td>Action</td>\n",
              "      <td>...</td>\n",
              "      <td>0</td>\n",
              "      <td>124534</td>\n",
              "      <td>3339</td>\n",
              "      <td>17612</td>\n",
              "      <td>317</td>\n",
              "      <td>10000000-20000000</td>\n",
              "      <td>7.19</td>\n",
              "      <td>Play the world's number 1 online action game. ...</td>\n",
              "      <td>Play the world's number 1 online action game. ...</td>\n",
              "      <td>Play the world's number 1 online action game. ...</td>\n",
              "    </tr>\n",
              "  </tbody>\n",
              "</table>\n",
              "<p>1 rows × 21 columns</p>\n",
              "</div>\n",
              "    <div class=\"colab-df-buttons\">\n",
              "\n",
              "  <div class=\"colab-df-container\">\n",
              "    <button class=\"colab-df-convert\" onclick=\"convertToInteractive('df-9c483bb2-1d59-412f-a4aa-805ee969b2d5')\"\n",
              "            title=\"Convert this dataframe to an interactive table.\"\n",
              "            style=\"display:none;\">\n",
              "\n",
              "  <svg xmlns=\"http://www.w3.org/2000/svg\" height=\"24px\" viewBox=\"0 -960 960 960\">\n",
              "    <path d=\"M120-120v-720h720v720H120Zm60-500h600v-160H180v160Zm220 220h160v-160H400v160Zm0 220h160v-160H400v160ZM180-400h160v-160H180v160Zm440 0h160v-160H620v160ZM180-180h160v-160H180v160Zm440 0h160v-160H620v160Z\"/>\n",
              "  </svg>\n",
              "    </button>\n",
              "\n",
              "  <style>\n",
              "    .colab-df-container {\n",
              "      display:flex;\n",
              "      gap: 12px;\n",
              "    }\n",
              "\n",
              "    .colab-df-convert {\n",
              "      background-color: #E8F0FE;\n",
              "      border: none;\n",
              "      border-radius: 50%;\n",
              "      cursor: pointer;\n",
              "      display: none;\n",
              "      fill: #1967D2;\n",
              "      height: 32px;\n",
              "      padding: 0 0 0 0;\n",
              "      width: 32px;\n",
              "    }\n",
              "\n",
              "    .colab-df-convert:hover {\n",
              "      background-color: #E2EBFA;\n",
              "      box-shadow: 0px 1px 2px rgba(60, 64, 67, 0.3), 0px 1px 3px 1px rgba(60, 64, 67, 0.15);\n",
              "      fill: #174EA6;\n",
              "    }\n",
              "\n",
              "    .colab-df-buttons div {\n",
              "      margin-bottom: 4px;\n",
              "    }\n",
              "\n",
              "    [theme=dark] .colab-df-convert {\n",
              "      background-color: #3B4455;\n",
              "      fill: #D2E3FC;\n",
              "    }\n",
              "\n",
              "    [theme=dark] .colab-df-convert:hover {\n",
              "      background-color: #434B5C;\n",
              "      box-shadow: 0px 1px 3px 1px rgba(0, 0, 0, 0.15);\n",
              "      filter: drop-shadow(0px 1px 2px rgba(0, 0, 0, 0.3));\n",
              "      fill: #FFFFFF;\n",
              "    }\n",
              "  </style>\n",
              "\n",
              "    <script>\n",
              "      const buttonEl =\n",
              "        document.querySelector('#df-9c483bb2-1d59-412f-a4aa-805ee969b2d5 button.colab-df-convert');\n",
              "      buttonEl.style.display =\n",
              "        google.colab.kernel.accessAllowed ? 'block' : 'none';\n",
              "\n",
              "      async function convertToInteractive(key) {\n",
              "        const element = document.querySelector('#df-9c483bb2-1d59-412f-a4aa-805ee969b2d5');\n",
              "        const dataTable =\n",
              "          await google.colab.kernel.invokeFunction('convertToInteractive',\n",
              "                                                    [key], {});\n",
              "        if (!dataTable) return;\n",
              "\n",
              "        const docLinkHtml = 'Like what you see? Visit the ' +\n",
              "          '<a target=\"_blank\" href=https://colab.research.google.com/notebooks/data_table.ipynb>data table notebook</a>'\n",
              "          + ' to learn more about interactive tables.';\n",
              "        element.innerHTML = '';\n",
              "        dataTable['output_type'] = 'display_data';\n",
              "        await google.colab.output.renderOutput(dataTable, element);\n",
              "        const docLink = document.createElement('div');\n",
              "        docLink.innerHTML = docLinkHtml;\n",
              "        element.appendChild(docLink);\n",
              "      }\n",
              "    </script>\n",
              "  </div>\n",
              "\n",
              "\n",
              "    </div>\n",
              "  </div>\n"
            ],
            "application/vnd.google.colaboratory.intrinsic+json": {
              "type": "dataframe",
              "variable_name": "games"
            }
          },
          "metadata": {},
          "execution_count": 36
        }
      ]
    },
    {
      "cell_type": "markdown",
      "source": [
        "Select the columns that will be used:\n",
        "appid,\n",
        "name,\n",
        "developer,\n",
        "steamspy_tags\n",
        "\n"
      ],
      "metadata": {
        "id": "JPt7cPbU2R2B"
      }
    },
    {
      "cell_type": "code",
      "source": [
        "games.info()"
      ],
      "metadata": {
        "colab": {
          "base_uri": "https://localhost:8080/"
        },
        "id": "G3-j3_Tp2Jn6",
        "outputId": "90f25df4-f880-4c51-de05-36eb9d40b4d1"
      },
      "execution_count": 37,
      "outputs": [
        {
          "output_type": "stream",
          "name": "stdout",
          "text": [
            "<class 'pandas.core.frame.DataFrame'>\n",
            "RangeIndex: 27075 entries, 0 to 27074\n",
            "Data columns (total 21 columns):\n",
            " #   Column                Non-Null Count  Dtype  \n",
            "---  ------                --------------  -----  \n",
            " 0   appid                 27075 non-null  int64  \n",
            " 1   name                  27075 non-null  object \n",
            " 2   release_date          27075 non-null  object \n",
            " 3   english               27075 non-null  int64  \n",
            " 4   developer             27074 non-null  object \n",
            " 5   publisher             27061 non-null  object \n",
            " 6   platforms             27075 non-null  object \n",
            " 7   required_age          27075 non-null  int64  \n",
            " 8   categories            27075 non-null  object \n",
            " 9   genres                27075 non-null  object \n",
            " 10  steamspy_tags         27075 non-null  object \n",
            " 11  achievements          27075 non-null  int64  \n",
            " 12  positive_ratings      27075 non-null  int64  \n",
            " 13  negative_ratings      27075 non-null  int64  \n",
            " 14  average_playtime      27075 non-null  int64  \n",
            " 15  median_playtime       27075 non-null  int64  \n",
            " 16  owners                27075 non-null  object \n",
            " 17  price                 27075 non-null  float64\n",
            " 18  detailed_description  27075 non-null  object \n",
            " 19  about_the_game        27075 non-null  object \n",
            " 20  short_description     27075 non-null  object \n",
            "dtypes: float64(1), int64(8), object(12)\n",
            "memory usage: 4.3+ MB\n"
          ]
        }
      ]
    },
    {
      "cell_type": "code",
      "source": [
        "print(games.columns.tolist())\n"
      ],
      "metadata": {
        "colab": {
          "base_uri": "https://localhost:8080/"
        },
        "id": "yxsSxauW5HY2",
        "outputId": "66d9d9e0-f33d-4532-f4ee-61e146e203e2"
      },
      "execution_count": 38,
      "outputs": [
        {
          "output_type": "stream",
          "name": "stdout",
          "text": [
            "['appid', 'name', 'release_date', 'english', 'developer', 'publisher', 'platforms', 'required_age', 'categories', 'genres', 'steamspy_tags', 'achievements', 'positive_ratings', 'negative_ratings', 'average_playtime', 'median_playtime', 'owners', 'price', 'detailed_description', 'about_the_game', 'short_description']\n"
          ]
        }
      ]
    },
    {
      "cell_type": "code",
      "source": [],
      "metadata": {
        "id": "gs2fTH5v4cuT"
      },
      "execution_count": 38,
      "outputs": []
    },
    {
      "cell_type": "code",
      "source": [
        "games = games[['appid', 'name','developer','steamspy_tags']]"
      ],
      "metadata": {
        "id": "M5cH0MKn3NDq"
      },
      "execution_count": 39,
      "outputs": []
    },
    {
      "cell_type": "code",
      "source": [
        "games.head()"
      ],
      "metadata": {
        "colab": {
          "base_uri": "https://localhost:8080/",
          "height": 206
        },
        "id": "nv93iBXy3slj",
        "outputId": "cfe22e49-eb65-4f01-c6ba-d0108f3be5ed"
      },
      "execution_count": 40,
      "outputs": [
        {
          "output_type": "execute_result",
          "data": {
            "text/plain": [
              "   appid                       name         developer  \\\n",
              "0     10             Counter-Strike             Valve   \n",
              "1     20      Team Fortress Classic             Valve   \n",
              "2     30              Day of Defeat             Valve   \n",
              "3     40         Deathmatch Classic             Valve   \n",
              "4     50  Half-Life: Opposing Force  Gearbox Software   \n",
              "\n",
              "                  steamspy_tags  \n",
              "0        Action;FPS;Multiplayer  \n",
              "1        Action;FPS;Multiplayer  \n",
              "2  FPS;World War II;Multiplayer  \n",
              "3        Action;FPS;Multiplayer  \n",
              "4             FPS;Action;Sci-fi  "
            ],
            "text/html": [
              "\n",
              "  <div id=\"df-9f7b0b35-b40c-4c27-83fd-894c51ace660\" class=\"colab-df-container\">\n",
              "    <div>\n",
              "<style scoped>\n",
              "    .dataframe tbody tr th:only-of-type {\n",
              "        vertical-align: middle;\n",
              "    }\n",
              "\n",
              "    .dataframe tbody tr th {\n",
              "        vertical-align: top;\n",
              "    }\n",
              "\n",
              "    .dataframe thead th {\n",
              "        text-align: right;\n",
              "    }\n",
              "</style>\n",
              "<table border=\"1\" class=\"dataframe\">\n",
              "  <thead>\n",
              "    <tr style=\"text-align: right;\">\n",
              "      <th></th>\n",
              "      <th>appid</th>\n",
              "      <th>name</th>\n",
              "      <th>developer</th>\n",
              "      <th>steamspy_tags</th>\n",
              "    </tr>\n",
              "  </thead>\n",
              "  <tbody>\n",
              "    <tr>\n",
              "      <th>0</th>\n",
              "      <td>10</td>\n",
              "      <td>Counter-Strike</td>\n",
              "      <td>Valve</td>\n",
              "      <td>Action;FPS;Multiplayer</td>\n",
              "    </tr>\n",
              "    <tr>\n",
              "      <th>1</th>\n",
              "      <td>20</td>\n",
              "      <td>Team Fortress Classic</td>\n",
              "      <td>Valve</td>\n",
              "      <td>Action;FPS;Multiplayer</td>\n",
              "    </tr>\n",
              "    <tr>\n",
              "      <th>2</th>\n",
              "      <td>30</td>\n",
              "      <td>Day of Defeat</td>\n",
              "      <td>Valve</td>\n",
              "      <td>FPS;World War II;Multiplayer</td>\n",
              "    </tr>\n",
              "    <tr>\n",
              "      <th>3</th>\n",
              "      <td>40</td>\n",
              "      <td>Deathmatch Classic</td>\n",
              "      <td>Valve</td>\n",
              "      <td>Action;FPS;Multiplayer</td>\n",
              "    </tr>\n",
              "    <tr>\n",
              "      <th>4</th>\n",
              "      <td>50</td>\n",
              "      <td>Half-Life: Opposing Force</td>\n",
              "      <td>Gearbox Software</td>\n",
              "      <td>FPS;Action;Sci-fi</td>\n",
              "    </tr>\n",
              "  </tbody>\n",
              "</table>\n",
              "</div>\n",
              "    <div class=\"colab-df-buttons\">\n",
              "\n",
              "  <div class=\"colab-df-container\">\n",
              "    <button class=\"colab-df-convert\" onclick=\"convertToInteractive('df-9f7b0b35-b40c-4c27-83fd-894c51ace660')\"\n",
              "            title=\"Convert this dataframe to an interactive table.\"\n",
              "            style=\"display:none;\">\n",
              "\n",
              "  <svg xmlns=\"http://www.w3.org/2000/svg\" height=\"24px\" viewBox=\"0 -960 960 960\">\n",
              "    <path d=\"M120-120v-720h720v720H120Zm60-500h600v-160H180v160Zm220 220h160v-160H400v160Zm0 220h160v-160H400v160ZM180-400h160v-160H180v160Zm440 0h160v-160H620v160ZM180-180h160v-160H180v160Zm440 0h160v-160H620v160Z\"/>\n",
              "  </svg>\n",
              "    </button>\n",
              "\n",
              "  <style>\n",
              "    .colab-df-container {\n",
              "      display:flex;\n",
              "      gap: 12px;\n",
              "    }\n",
              "\n",
              "    .colab-df-convert {\n",
              "      background-color: #E8F0FE;\n",
              "      border: none;\n",
              "      border-radius: 50%;\n",
              "      cursor: pointer;\n",
              "      display: none;\n",
              "      fill: #1967D2;\n",
              "      height: 32px;\n",
              "      padding: 0 0 0 0;\n",
              "      width: 32px;\n",
              "    }\n",
              "\n",
              "    .colab-df-convert:hover {\n",
              "      background-color: #E2EBFA;\n",
              "      box-shadow: 0px 1px 2px rgba(60, 64, 67, 0.3), 0px 1px 3px 1px rgba(60, 64, 67, 0.15);\n",
              "      fill: #174EA6;\n",
              "    }\n",
              "\n",
              "    .colab-df-buttons div {\n",
              "      margin-bottom: 4px;\n",
              "    }\n",
              "\n",
              "    [theme=dark] .colab-df-convert {\n",
              "      background-color: #3B4455;\n",
              "      fill: #D2E3FC;\n",
              "    }\n",
              "\n",
              "    [theme=dark] .colab-df-convert:hover {\n",
              "      background-color: #434B5C;\n",
              "      box-shadow: 0px 1px 3px 1px rgba(0, 0, 0, 0.15);\n",
              "      filter: drop-shadow(0px 1px 2px rgba(0, 0, 0, 0.3));\n",
              "      fill: #FFFFFF;\n",
              "    }\n",
              "  </style>\n",
              "\n",
              "    <script>\n",
              "      const buttonEl =\n",
              "        document.querySelector('#df-9f7b0b35-b40c-4c27-83fd-894c51ace660 button.colab-df-convert');\n",
              "      buttonEl.style.display =\n",
              "        google.colab.kernel.accessAllowed ? 'block' : 'none';\n",
              "\n",
              "      async function convertToInteractive(key) {\n",
              "        const element = document.querySelector('#df-9f7b0b35-b40c-4c27-83fd-894c51ace660');\n",
              "        const dataTable =\n",
              "          await google.colab.kernel.invokeFunction('convertToInteractive',\n",
              "                                                    [key], {});\n",
              "        if (!dataTable) return;\n",
              "\n",
              "        const docLinkHtml = 'Like what you see? Visit the ' +\n",
              "          '<a target=\"_blank\" href=https://colab.research.google.com/notebooks/data_table.ipynb>data table notebook</a>'\n",
              "          + ' to learn more about interactive tables.';\n",
              "        element.innerHTML = '';\n",
              "        dataTable['output_type'] = 'display_data';\n",
              "        await google.colab.output.renderOutput(dataTable, element);\n",
              "        const docLink = document.createElement('div');\n",
              "        docLink.innerHTML = docLinkHtml;\n",
              "        element.appendChild(docLink);\n",
              "      }\n",
              "    </script>\n",
              "  </div>\n",
              "\n",
              "\n",
              "    <div id=\"df-bcfe6049-e727-489f-b977-7b6de3144433\">\n",
              "      <button class=\"colab-df-quickchart\" onclick=\"quickchart('df-bcfe6049-e727-489f-b977-7b6de3144433')\"\n",
              "                title=\"Suggest charts\"\n",
              "                style=\"display:none;\">\n",
              "\n",
              "<svg xmlns=\"http://www.w3.org/2000/svg\" height=\"24px\"viewBox=\"0 0 24 24\"\n",
              "     width=\"24px\">\n",
              "    <g>\n",
              "        <path d=\"M19 3H5c-1.1 0-2 .9-2 2v14c0 1.1.9 2 2 2h14c1.1 0 2-.9 2-2V5c0-1.1-.9-2-2-2zM9 17H7v-7h2v7zm4 0h-2V7h2v10zm4 0h-2v-4h2v4z\"/>\n",
              "    </g>\n",
              "</svg>\n",
              "      </button>\n",
              "\n",
              "<style>\n",
              "  .colab-df-quickchart {\n",
              "      --bg-color: #E8F0FE;\n",
              "      --fill-color: #1967D2;\n",
              "      --hover-bg-color: #E2EBFA;\n",
              "      --hover-fill-color: #174EA6;\n",
              "      --disabled-fill-color: #AAA;\n",
              "      --disabled-bg-color: #DDD;\n",
              "  }\n",
              "\n",
              "  [theme=dark] .colab-df-quickchart {\n",
              "      --bg-color: #3B4455;\n",
              "      --fill-color: #D2E3FC;\n",
              "      --hover-bg-color: #434B5C;\n",
              "      --hover-fill-color: #FFFFFF;\n",
              "      --disabled-bg-color: #3B4455;\n",
              "      --disabled-fill-color: #666;\n",
              "  }\n",
              "\n",
              "  .colab-df-quickchart {\n",
              "    background-color: var(--bg-color);\n",
              "    border: none;\n",
              "    border-radius: 50%;\n",
              "    cursor: pointer;\n",
              "    display: none;\n",
              "    fill: var(--fill-color);\n",
              "    height: 32px;\n",
              "    padding: 0;\n",
              "    width: 32px;\n",
              "  }\n",
              "\n",
              "  .colab-df-quickchart:hover {\n",
              "    background-color: var(--hover-bg-color);\n",
              "    box-shadow: 0 1px 2px rgba(60, 64, 67, 0.3), 0 1px 3px 1px rgba(60, 64, 67, 0.15);\n",
              "    fill: var(--button-hover-fill-color);\n",
              "  }\n",
              "\n",
              "  .colab-df-quickchart-complete:disabled,\n",
              "  .colab-df-quickchart-complete:disabled:hover {\n",
              "    background-color: var(--disabled-bg-color);\n",
              "    fill: var(--disabled-fill-color);\n",
              "    box-shadow: none;\n",
              "  }\n",
              "\n",
              "  .colab-df-spinner {\n",
              "    border: 2px solid var(--fill-color);\n",
              "    border-color: transparent;\n",
              "    border-bottom-color: var(--fill-color);\n",
              "    animation:\n",
              "      spin 1s steps(1) infinite;\n",
              "  }\n",
              "\n",
              "  @keyframes spin {\n",
              "    0% {\n",
              "      border-color: transparent;\n",
              "      border-bottom-color: var(--fill-color);\n",
              "      border-left-color: var(--fill-color);\n",
              "    }\n",
              "    20% {\n",
              "      border-color: transparent;\n",
              "      border-left-color: var(--fill-color);\n",
              "      border-top-color: var(--fill-color);\n",
              "    }\n",
              "    30% {\n",
              "      border-color: transparent;\n",
              "      border-left-color: var(--fill-color);\n",
              "      border-top-color: var(--fill-color);\n",
              "      border-right-color: var(--fill-color);\n",
              "    }\n",
              "    40% {\n",
              "      border-color: transparent;\n",
              "      border-right-color: var(--fill-color);\n",
              "      border-top-color: var(--fill-color);\n",
              "    }\n",
              "    60% {\n",
              "      border-color: transparent;\n",
              "      border-right-color: var(--fill-color);\n",
              "    }\n",
              "    80% {\n",
              "      border-color: transparent;\n",
              "      border-right-color: var(--fill-color);\n",
              "      border-bottom-color: var(--fill-color);\n",
              "    }\n",
              "    90% {\n",
              "      border-color: transparent;\n",
              "      border-bottom-color: var(--fill-color);\n",
              "    }\n",
              "  }\n",
              "</style>\n",
              "\n",
              "      <script>\n",
              "        async function quickchart(key) {\n",
              "          const quickchartButtonEl =\n",
              "            document.querySelector('#' + key + ' button');\n",
              "          quickchartButtonEl.disabled = true;  // To prevent multiple clicks.\n",
              "          quickchartButtonEl.classList.add('colab-df-spinner');\n",
              "          try {\n",
              "            const charts = await google.colab.kernel.invokeFunction(\n",
              "                'suggestCharts', [key], {});\n",
              "          } catch (error) {\n",
              "            console.error('Error during call to suggestCharts:', error);\n",
              "          }\n",
              "          quickchartButtonEl.classList.remove('colab-df-spinner');\n",
              "          quickchartButtonEl.classList.add('colab-df-quickchart-complete');\n",
              "        }\n",
              "        (() => {\n",
              "          let quickchartButtonEl =\n",
              "            document.querySelector('#df-bcfe6049-e727-489f-b977-7b6de3144433 button');\n",
              "          quickchartButtonEl.style.display =\n",
              "            google.colab.kernel.accessAllowed ? 'block' : 'none';\n",
              "        })();\n",
              "      </script>\n",
              "    </div>\n",
              "\n",
              "    </div>\n",
              "  </div>\n"
            ],
            "application/vnd.google.colaboratory.intrinsic+json": {
              "type": "dataframe",
              "variable_name": "games",
              "summary": "{\n  \"name\": \"games\",\n  \"rows\": 27075,\n  \"fields\": [\n    {\n      \"column\": \"appid\",\n      \"properties\": {\n        \"dtype\": \"number\",\n        \"std\": 250894,\n        \"min\": 10,\n        \"max\": 1069460,\n        \"num_unique_values\": 27075,\n        \"samples\": [\n          514520,\n          1012710,\n          279260\n        ],\n        \"semantic_type\": \"\",\n        \"description\": \"\"\n      }\n    },\n    {\n      \"column\": \"name\",\n      \"properties\": {\n        \"dtype\": \"string\",\n        \"num_unique_values\": 27033,\n        \"samples\": [\n          \"A Legionary's Life\",\n          \"Road Doom\",\n          \"Martha Madison: Simple Machines Volume 1\"\n        ],\n        \"semantic_type\": \"\",\n        \"description\": \"\"\n      }\n    },\n    {\n      \"column\": \"developer\",\n      \"properties\": {\n        \"dtype\": \"string\",\n        \"num_unique_values\": 17112,\n        \"samples\": [\n          \"Titan Studio\",\n          \"Startreming\",\n          \"Poni-Pachet SY\"\n        ],\n        \"semantic_type\": \"\",\n        \"description\": \"\"\n      }\n    },\n    {\n      \"column\": \"steamspy_tags\",\n      \"properties\": {\n        \"dtype\": \"category\",\n        \"num_unique_values\": 6423,\n        \"samples\": [\n          \"Action;Platformer;Remake\",\n          \"Visual Novel;RPG;Indie\",\n          \"Indie;Simulation;Gore\"\n        ],\n        \"semantic_type\": \"\",\n        \"description\": \"\"\n      }\n    }\n  ]\n}"
            }
          },
          "metadata": {},
          "execution_count": 40
        }
      ]
    },
    {
      "cell_type": "code",
      "source": [
        "games.isnull().sum()"
      ],
      "metadata": {
        "colab": {
          "base_uri": "https://localhost:8080/",
          "height": 209
        },
        "id": "eUwvtfol37AO",
        "outputId": "61ac2da5-e878-4518-9765-7e32619afd71"
      },
      "execution_count": 41,
      "outputs": [
        {
          "output_type": "execute_result",
          "data": {
            "text/plain": [
              "appid            0\n",
              "name             0\n",
              "developer        1\n",
              "steamspy_tags    0\n",
              "dtype: int64"
            ],
            "text/html": [
              "<div>\n",
              "<style scoped>\n",
              "    .dataframe tbody tr th:only-of-type {\n",
              "        vertical-align: middle;\n",
              "    }\n",
              "\n",
              "    .dataframe tbody tr th {\n",
              "        vertical-align: top;\n",
              "    }\n",
              "\n",
              "    .dataframe thead th {\n",
              "        text-align: right;\n",
              "    }\n",
              "</style>\n",
              "<table border=\"1\" class=\"dataframe\">\n",
              "  <thead>\n",
              "    <tr style=\"text-align: right;\">\n",
              "      <th></th>\n",
              "      <th>0</th>\n",
              "    </tr>\n",
              "  </thead>\n",
              "  <tbody>\n",
              "    <tr>\n",
              "      <th>appid</th>\n",
              "      <td>0</td>\n",
              "    </tr>\n",
              "    <tr>\n",
              "      <th>name</th>\n",
              "      <td>0</td>\n",
              "    </tr>\n",
              "    <tr>\n",
              "      <th>developer</th>\n",
              "      <td>1</td>\n",
              "    </tr>\n",
              "    <tr>\n",
              "      <th>steamspy_tags</th>\n",
              "      <td>0</td>\n",
              "    </tr>\n",
              "  </tbody>\n",
              "</table>\n",
              "</div><br><label><b>dtype:</b> int64</label>"
            ]
          },
          "metadata": {},
          "execution_count": 41
        }
      ]
    },
    {
      "cell_type": "code",
      "source": [
        "games.dropna(inplace=True)"
      ],
      "metadata": {
        "id": "_rCWJ5Tz577l"
      },
      "execution_count": 42,
      "outputs": []
    },
    {
      "cell_type": "code",
      "source": [
        "games.duplicated().sum()"
      ],
      "metadata": {
        "colab": {
          "base_uri": "https://localhost:8080/"
        },
        "id": "Igd5nvsO6Gcj",
        "outputId": "af66e011-f138-4605-8bd3-1205dbe3f2b9"
      },
      "execution_count": 43,
      "outputs": [
        {
          "output_type": "execute_result",
          "data": {
            "text/plain": [
              "np.int64(0)"
            ]
          },
          "metadata": {},
          "execution_count": 43
        }
      ]
    },
    {
      "cell_type": "code",
      "source": [
        "# games['short_description'][0]"
      ],
      "metadata": {
        "id": "AH0PnQxf6Oo5"
      },
      "execution_count": 44,
      "outputs": []
    },
    {
      "cell_type": "code",
      "source": [
        "games['steamspy_tags'][0]"
      ],
      "metadata": {
        "colab": {
          "base_uri": "https://localhost:8080/",
          "height": 35
        },
        "id": "rIJQ0n-_Tkb7",
        "outputId": "67e1d180-1968-472d-8438-7f28a1960f46"
      },
      "execution_count": 45,
      "outputs": [
        {
          "output_type": "execute_result",
          "data": {
            "text/plain": [
              "'Action;FPS;Multiplayer'"
            ],
            "application/vnd.google.colaboratory.intrinsic+json": {
              "type": "string"
            }
          },
          "metadata": {},
          "execution_count": 45
        }
      ]
    },
    {
      "cell_type": "code",
      "source": [
        "# convert string to list\n",
        "def string_to_list(st):\n",
        "  if pd.isnull(st):\n",
        "    return []\n",
        "  return st.lower().replace(';',' ').split()\n"
      ],
      "metadata": {
        "id": "znHVWTPPYmta"
      },
      "execution_count": 46,
      "outputs": []
    },
    {
      "cell_type": "code",
      "source": [
        "# games['short_description'] = games['short_description'].apply(string_to_list)"
      ],
      "metadata": {
        "id": "qoKJ6A5iZl1E"
      },
      "execution_count": 47,
      "outputs": []
    },
    {
      "cell_type": "code",
      "source": [
        "games.head(1)"
      ],
      "metadata": {
        "colab": {
          "base_uri": "https://localhost:8080/",
          "height": 80
        },
        "id": "tq_mr20vZy-k",
        "outputId": "da3e8a51-c7b8-400e-fdf3-7860f5d25018"
      },
      "execution_count": 48,
      "outputs": [
        {
          "output_type": "execute_result",
          "data": {
            "text/plain": [
              "   appid            name developer           steamspy_tags\n",
              "0     10  Counter-Strike     Valve  Action;FPS;Multiplayer"
            ],
            "text/html": [
              "\n",
              "  <div id=\"df-94c229b5-e634-4c55-bbed-e8613e02dcd0\" class=\"colab-df-container\">\n",
              "    <div>\n",
              "<style scoped>\n",
              "    .dataframe tbody tr th:only-of-type {\n",
              "        vertical-align: middle;\n",
              "    }\n",
              "\n",
              "    .dataframe tbody tr th {\n",
              "        vertical-align: top;\n",
              "    }\n",
              "\n",
              "    .dataframe thead th {\n",
              "        text-align: right;\n",
              "    }\n",
              "</style>\n",
              "<table border=\"1\" class=\"dataframe\">\n",
              "  <thead>\n",
              "    <tr style=\"text-align: right;\">\n",
              "      <th></th>\n",
              "      <th>appid</th>\n",
              "      <th>name</th>\n",
              "      <th>developer</th>\n",
              "      <th>steamspy_tags</th>\n",
              "    </tr>\n",
              "  </thead>\n",
              "  <tbody>\n",
              "    <tr>\n",
              "      <th>0</th>\n",
              "      <td>10</td>\n",
              "      <td>Counter-Strike</td>\n",
              "      <td>Valve</td>\n",
              "      <td>Action;FPS;Multiplayer</td>\n",
              "    </tr>\n",
              "  </tbody>\n",
              "</table>\n",
              "</div>\n",
              "    <div class=\"colab-df-buttons\">\n",
              "\n",
              "  <div class=\"colab-df-container\">\n",
              "    <button class=\"colab-df-convert\" onclick=\"convertToInteractive('df-94c229b5-e634-4c55-bbed-e8613e02dcd0')\"\n",
              "            title=\"Convert this dataframe to an interactive table.\"\n",
              "            style=\"display:none;\">\n",
              "\n",
              "  <svg xmlns=\"http://www.w3.org/2000/svg\" height=\"24px\" viewBox=\"0 -960 960 960\">\n",
              "    <path d=\"M120-120v-720h720v720H120Zm60-500h600v-160H180v160Zm220 220h160v-160H400v160Zm0 220h160v-160H400v160ZM180-400h160v-160H180v160Zm440 0h160v-160H620v160ZM180-180h160v-160H180v160Zm440 0h160v-160H620v160Z\"/>\n",
              "  </svg>\n",
              "    </button>\n",
              "\n",
              "  <style>\n",
              "    .colab-df-container {\n",
              "      display:flex;\n",
              "      gap: 12px;\n",
              "    }\n",
              "\n",
              "    .colab-df-convert {\n",
              "      background-color: #E8F0FE;\n",
              "      border: none;\n",
              "      border-radius: 50%;\n",
              "      cursor: pointer;\n",
              "      display: none;\n",
              "      fill: #1967D2;\n",
              "      height: 32px;\n",
              "      padding: 0 0 0 0;\n",
              "      width: 32px;\n",
              "    }\n",
              "\n",
              "    .colab-df-convert:hover {\n",
              "      background-color: #E2EBFA;\n",
              "      box-shadow: 0px 1px 2px rgba(60, 64, 67, 0.3), 0px 1px 3px 1px rgba(60, 64, 67, 0.15);\n",
              "      fill: #174EA6;\n",
              "    }\n",
              "\n",
              "    .colab-df-buttons div {\n",
              "      margin-bottom: 4px;\n",
              "    }\n",
              "\n",
              "    [theme=dark] .colab-df-convert {\n",
              "      background-color: #3B4455;\n",
              "      fill: #D2E3FC;\n",
              "    }\n",
              "\n",
              "    [theme=dark] .colab-df-convert:hover {\n",
              "      background-color: #434B5C;\n",
              "      box-shadow: 0px 1px 3px 1px rgba(0, 0, 0, 0.15);\n",
              "      filter: drop-shadow(0px 1px 2px rgba(0, 0, 0, 0.3));\n",
              "      fill: #FFFFFF;\n",
              "    }\n",
              "  </style>\n",
              "\n",
              "    <script>\n",
              "      const buttonEl =\n",
              "        document.querySelector('#df-94c229b5-e634-4c55-bbed-e8613e02dcd0 button.colab-df-convert');\n",
              "      buttonEl.style.display =\n",
              "        google.colab.kernel.accessAllowed ? 'block' : 'none';\n",
              "\n",
              "      async function convertToInteractive(key) {\n",
              "        const element = document.querySelector('#df-94c229b5-e634-4c55-bbed-e8613e02dcd0');\n",
              "        const dataTable =\n",
              "          await google.colab.kernel.invokeFunction('convertToInteractive',\n",
              "                                                    [key], {});\n",
              "        if (!dataTable) return;\n",
              "\n",
              "        const docLinkHtml = 'Like what you see? Visit the ' +\n",
              "          '<a target=\"_blank\" href=https://colab.research.google.com/notebooks/data_table.ipynb>data table notebook</a>'\n",
              "          + ' to learn more about interactive tables.';\n",
              "        element.innerHTML = '';\n",
              "        dataTable['output_type'] = 'display_data';\n",
              "        await google.colab.output.renderOutput(dataTable, element);\n",
              "        const docLink = document.createElement('div');\n",
              "        docLink.innerHTML = docLinkHtml;\n",
              "        element.appendChild(docLink);\n",
              "      }\n",
              "    </script>\n",
              "  </div>\n",
              "\n",
              "\n",
              "    </div>\n",
              "  </div>\n"
            ],
            "application/vnd.google.colaboratory.intrinsic+json": {
              "type": "dataframe",
              "variable_name": "games",
              "summary": "{\n  \"name\": \"games\",\n  \"rows\": 27074,\n  \"fields\": [\n    {\n      \"column\": \"appid\",\n      \"properties\": {\n        \"dtype\": \"number\",\n        \"std\": 250892,\n        \"min\": 10,\n        \"max\": 1069460,\n        \"num_unique_values\": 27074,\n        \"samples\": [\n          514520,\n          1012720,\n          279260\n        ],\n        \"semantic_type\": \"\",\n        \"description\": \"\"\n      }\n    },\n    {\n      \"column\": \"name\",\n      \"properties\": {\n        \"dtype\": \"string\",\n        \"num_unique_values\": 27032,\n        \"samples\": [\n          \"A Legionary's Life\",\n          \"Road Doom\",\n          \"Martha Madison: Simple Machines Volume 1\"\n        ],\n        \"semantic_type\": \"\",\n        \"description\": \"\"\n      }\n    },\n    {\n      \"column\": \"developer\",\n      \"properties\": {\n        \"dtype\": \"string\",\n        \"num_unique_values\": 17112,\n        \"samples\": [\n          \"Titan Studio\",\n          \"Startreming\",\n          \"Poni-Pachet SY\"\n        ],\n        \"semantic_type\": \"\",\n        \"description\": \"\"\n      }\n    },\n    {\n      \"column\": \"steamspy_tags\",\n      \"properties\": {\n        \"dtype\": \"category\",\n        \"num_unique_values\": 6423,\n        \"samples\": [\n          \"Action;Platformer;Remake\",\n          \"Visual Novel;RPG;Indie\",\n          \"Indie;Simulation;Gore\"\n        ],\n        \"semantic_type\": \"\",\n        \"description\": \"\"\n      }\n    }\n  ]\n}"
            }
          },
          "metadata": {},
          "execution_count": 48
        }
      ]
    },
    {
      "cell_type": "code",
      "source": [
        "#converting each column to list form\n",
        "games['developer'] = games['developer'].apply(string_to_list)\n",
        "games['steamspy_tags'] = games['steamspy_tags'].apply(string_to_list)\n",
        "games['new_name'] = games['name'].apply(string_to_list)\n"
      ],
      "metadata": {
        "id": "oV4r9R4lZ01_"
      },
      "execution_count": 49,
      "outputs": []
    },
    {
      "cell_type": "code",
      "source": [
        "games.head(1)"
      ],
      "metadata": {
        "colab": {
          "base_uri": "https://localhost:8080/",
          "height": 80
        },
        "id": "3xkKdC1kaImj",
        "outputId": "04cc7900-9b92-4586-ab02-23d577fa347e"
      },
      "execution_count": 50,
      "outputs": [
        {
          "output_type": "execute_result",
          "data": {
            "text/plain": [
              "   appid            name developer               steamspy_tags  \\\n",
              "0     10  Counter-Strike   [valve]  [action, fps, multiplayer]   \n",
              "\n",
              "           new_name  \n",
              "0  [counter-strike]  "
            ],
            "text/html": [
              "\n",
              "  <div id=\"df-f817e1d6-b43f-47e7-8a19-7252e48e0b7b\" class=\"colab-df-container\">\n",
              "    <div>\n",
              "<style scoped>\n",
              "    .dataframe tbody tr th:only-of-type {\n",
              "        vertical-align: middle;\n",
              "    }\n",
              "\n",
              "    .dataframe tbody tr th {\n",
              "        vertical-align: top;\n",
              "    }\n",
              "\n",
              "    .dataframe thead th {\n",
              "        text-align: right;\n",
              "    }\n",
              "</style>\n",
              "<table border=\"1\" class=\"dataframe\">\n",
              "  <thead>\n",
              "    <tr style=\"text-align: right;\">\n",
              "      <th></th>\n",
              "      <th>appid</th>\n",
              "      <th>name</th>\n",
              "      <th>developer</th>\n",
              "      <th>steamspy_tags</th>\n",
              "      <th>new_name</th>\n",
              "    </tr>\n",
              "  </thead>\n",
              "  <tbody>\n",
              "    <tr>\n",
              "      <th>0</th>\n",
              "      <td>10</td>\n",
              "      <td>Counter-Strike</td>\n",
              "      <td>[valve]</td>\n",
              "      <td>[action, fps, multiplayer]</td>\n",
              "      <td>[counter-strike]</td>\n",
              "    </tr>\n",
              "  </tbody>\n",
              "</table>\n",
              "</div>\n",
              "    <div class=\"colab-df-buttons\">\n",
              "\n",
              "  <div class=\"colab-df-container\">\n",
              "    <button class=\"colab-df-convert\" onclick=\"convertToInteractive('df-f817e1d6-b43f-47e7-8a19-7252e48e0b7b')\"\n",
              "            title=\"Convert this dataframe to an interactive table.\"\n",
              "            style=\"display:none;\">\n",
              "\n",
              "  <svg xmlns=\"http://www.w3.org/2000/svg\" height=\"24px\" viewBox=\"0 -960 960 960\">\n",
              "    <path d=\"M120-120v-720h720v720H120Zm60-500h600v-160H180v160Zm220 220h160v-160H400v160Zm0 220h160v-160H400v160ZM180-400h160v-160H180v160Zm440 0h160v-160H620v160ZM180-180h160v-160H180v160Zm440 0h160v-160H620v160Z\"/>\n",
              "  </svg>\n",
              "    </button>\n",
              "\n",
              "  <style>\n",
              "    .colab-df-container {\n",
              "      display:flex;\n",
              "      gap: 12px;\n",
              "    }\n",
              "\n",
              "    .colab-df-convert {\n",
              "      background-color: #E8F0FE;\n",
              "      border: none;\n",
              "      border-radius: 50%;\n",
              "      cursor: pointer;\n",
              "      display: none;\n",
              "      fill: #1967D2;\n",
              "      height: 32px;\n",
              "      padding: 0 0 0 0;\n",
              "      width: 32px;\n",
              "    }\n",
              "\n",
              "    .colab-df-convert:hover {\n",
              "      background-color: #E2EBFA;\n",
              "      box-shadow: 0px 1px 2px rgba(60, 64, 67, 0.3), 0px 1px 3px 1px rgba(60, 64, 67, 0.15);\n",
              "      fill: #174EA6;\n",
              "    }\n",
              "\n",
              "    .colab-df-buttons div {\n",
              "      margin-bottom: 4px;\n",
              "    }\n",
              "\n",
              "    [theme=dark] .colab-df-convert {\n",
              "      background-color: #3B4455;\n",
              "      fill: #D2E3FC;\n",
              "    }\n",
              "\n",
              "    [theme=dark] .colab-df-convert:hover {\n",
              "      background-color: #434B5C;\n",
              "      box-shadow: 0px 1px 3px 1px rgba(0, 0, 0, 0.15);\n",
              "      filter: drop-shadow(0px 1px 2px rgba(0, 0, 0, 0.3));\n",
              "      fill: #FFFFFF;\n",
              "    }\n",
              "  </style>\n",
              "\n",
              "    <script>\n",
              "      const buttonEl =\n",
              "        document.querySelector('#df-f817e1d6-b43f-47e7-8a19-7252e48e0b7b button.colab-df-convert');\n",
              "      buttonEl.style.display =\n",
              "        google.colab.kernel.accessAllowed ? 'block' : 'none';\n",
              "\n",
              "      async function convertToInteractive(key) {\n",
              "        const element = document.querySelector('#df-f817e1d6-b43f-47e7-8a19-7252e48e0b7b');\n",
              "        const dataTable =\n",
              "          await google.colab.kernel.invokeFunction('convertToInteractive',\n",
              "                                                    [key], {});\n",
              "        if (!dataTable) return;\n",
              "\n",
              "        const docLinkHtml = 'Like what you see? Visit the ' +\n",
              "          '<a target=\"_blank\" href=https://colab.research.google.com/notebooks/data_table.ipynb>data table notebook</a>'\n",
              "          + ' to learn more about interactive tables.';\n",
              "        element.innerHTML = '';\n",
              "        dataTable['output_type'] = 'display_data';\n",
              "        await google.colab.output.renderOutput(dataTable, element);\n",
              "        const docLink = document.createElement('div');\n",
              "        docLink.innerHTML = docLinkHtml;\n",
              "        element.appendChild(docLink);\n",
              "      }\n",
              "    </script>\n",
              "  </div>\n",
              "\n",
              "\n",
              "    </div>\n",
              "  </div>\n"
            ],
            "application/vnd.google.colaboratory.intrinsic+json": {
              "type": "dataframe",
              "variable_name": "games",
              "summary": "{\n  \"name\": \"games\",\n  \"rows\": 27074,\n  \"fields\": [\n    {\n      \"column\": \"appid\",\n      \"properties\": {\n        \"dtype\": \"number\",\n        \"std\": 250892,\n        \"min\": 10,\n        \"max\": 1069460,\n        \"num_unique_values\": 27074,\n        \"samples\": [\n          514520,\n          1012720,\n          279260\n        ],\n        \"semantic_type\": \"\",\n        \"description\": \"\"\n      }\n    },\n    {\n      \"column\": \"name\",\n      \"properties\": {\n        \"dtype\": \"string\",\n        \"num_unique_values\": 27032,\n        \"samples\": [\n          \"A Legionary's Life\",\n          \"Road Doom\",\n          \"Martha Madison: Simple Machines Volume 1\"\n        ],\n        \"semantic_type\": \"\",\n        \"description\": \"\"\n      }\n    },\n    {\n      \"column\": \"developer\",\n      \"properties\": {\n        \"dtype\": \"object\",\n        \"semantic_type\": \"\",\n        \"description\": \"\"\n      }\n    },\n    {\n      \"column\": \"steamspy_tags\",\n      \"properties\": {\n        \"dtype\": \"object\",\n        \"semantic_type\": \"\",\n        \"description\": \"\"\n      }\n    },\n    {\n      \"column\": \"new_name\",\n      \"properties\": {\n        \"dtype\": \"object\",\n        \"semantic_type\": \"\",\n        \"description\": \"\"\n      }\n    }\n  ]\n}"
            }
          },
          "metadata": {},
          "execution_count": 50
        }
      ]
    },
    {
      "cell_type": "code",
      "source": [
        "games['tags'] = games['new_name']+games['developer']+games['steamspy_tags']"
      ],
      "metadata": {
        "id": "sXiG1Wj7aMml"
      },
      "execution_count": 51,
      "outputs": []
    },
    {
      "cell_type": "code",
      "source": [
        "games.head(1)"
      ],
      "metadata": {
        "colab": {
          "base_uri": "https://localhost:8080/",
          "height": 80
        },
        "id": "rqV4ZOoyagy3",
        "outputId": "26640bb7-3b50-46fd-b062-4f8fbe8be633"
      },
      "execution_count": 52,
      "outputs": [
        {
          "output_type": "execute_result",
          "data": {
            "text/plain": [
              "   appid            name developer               steamspy_tags  \\\n",
              "0     10  Counter-Strike   [valve]  [action, fps, multiplayer]   \n",
              "\n",
              "           new_name                                               tags  \n",
              "0  [counter-strike]  [counter-strike, valve, action, fps, multiplayer]  "
            ],
            "text/html": [
              "\n",
              "  <div id=\"df-b404408d-ec03-4e60-bf9a-79e82120d908\" class=\"colab-df-container\">\n",
              "    <div>\n",
              "<style scoped>\n",
              "    .dataframe tbody tr th:only-of-type {\n",
              "        vertical-align: middle;\n",
              "    }\n",
              "\n",
              "    .dataframe tbody tr th {\n",
              "        vertical-align: top;\n",
              "    }\n",
              "\n",
              "    .dataframe thead th {\n",
              "        text-align: right;\n",
              "    }\n",
              "</style>\n",
              "<table border=\"1\" class=\"dataframe\">\n",
              "  <thead>\n",
              "    <tr style=\"text-align: right;\">\n",
              "      <th></th>\n",
              "      <th>appid</th>\n",
              "      <th>name</th>\n",
              "      <th>developer</th>\n",
              "      <th>steamspy_tags</th>\n",
              "      <th>new_name</th>\n",
              "      <th>tags</th>\n",
              "    </tr>\n",
              "  </thead>\n",
              "  <tbody>\n",
              "    <tr>\n",
              "      <th>0</th>\n",
              "      <td>10</td>\n",
              "      <td>Counter-Strike</td>\n",
              "      <td>[valve]</td>\n",
              "      <td>[action, fps, multiplayer]</td>\n",
              "      <td>[counter-strike]</td>\n",
              "      <td>[counter-strike, valve, action, fps, multiplayer]</td>\n",
              "    </tr>\n",
              "  </tbody>\n",
              "</table>\n",
              "</div>\n",
              "    <div class=\"colab-df-buttons\">\n",
              "\n",
              "  <div class=\"colab-df-container\">\n",
              "    <button class=\"colab-df-convert\" onclick=\"convertToInteractive('df-b404408d-ec03-4e60-bf9a-79e82120d908')\"\n",
              "            title=\"Convert this dataframe to an interactive table.\"\n",
              "            style=\"display:none;\">\n",
              "\n",
              "  <svg xmlns=\"http://www.w3.org/2000/svg\" height=\"24px\" viewBox=\"0 -960 960 960\">\n",
              "    <path d=\"M120-120v-720h720v720H120Zm60-500h600v-160H180v160Zm220 220h160v-160H400v160Zm0 220h160v-160H400v160ZM180-400h160v-160H180v160Zm440 0h160v-160H620v160ZM180-180h160v-160H180v160Zm440 0h160v-160H620v160Z\"/>\n",
              "  </svg>\n",
              "    </button>\n",
              "\n",
              "  <style>\n",
              "    .colab-df-container {\n",
              "      display:flex;\n",
              "      gap: 12px;\n",
              "    }\n",
              "\n",
              "    .colab-df-convert {\n",
              "      background-color: #E8F0FE;\n",
              "      border: none;\n",
              "      border-radius: 50%;\n",
              "      cursor: pointer;\n",
              "      display: none;\n",
              "      fill: #1967D2;\n",
              "      height: 32px;\n",
              "      padding: 0 0 0 0;\n",
              "      width: 32px;\n",
              "    }\n",
              "\n",
              "    .colab-df-convert:hover {\n",
              "      background-color: #E2EBFA;\n",
              "      box-shadow: 0px 1px 2px rgba(60, 64, 67, 0.3), 0px 1px 3px 1px rgba(60, 64, 67, 0.15);\n",
              "      fill: #174EA6;\n",
              "    }\n",
              "\n",
              "    .colab-df-buttons div {\n",
              "      margin-bottom: 4px;\n",
              "    }\n",
              "\n",
              "    [theme=dark] .colab-df-convert {\n",
              "      background-color: #3B4455;\n",
              "      fill: #D2E3FC;\n",
              "    }\n",
              "\n",
              "    [theme=dark] .colab-df-convert:hover {\n",
              "      background-color: #434B5C;\n",
              "      box-shadow: 0px 1px 3px 1px rgba(0, 0, 0, 0.15);\n",
              "      filter: drop-shadow(0px 1px 2px rgba(0, 0, 0, 0.3));\n",
              "      fill: #FFFFFF;\n",
              "    }\n",
              "  </style>\n",
              "\n",
              "    <script>\n",
              "      const buttonEl =\n",
              "        document.querySelector('#df-b404408d-ec03-4e60-bf9a-79e82120d908 button.colab-df-convert');\n",
              "      buttonEl.style.display =\n",
              "        google.colab.kernel.accessAllowed ? 'block' : 'none';\n",
              "\n",
              "      async function convertToInteractive(key) {\n",
              "        const element = document.querySelector('#df-b404408d-ec03-4e60-bf9a-79e82120d908');\n",
              "        const dataTable =\n",
              "          await google.colab.kernel.invokeFunction('convertToInteractive',\n",
              "                                                    [key], {});\n",
              "        if (!dataTable) return;\n",
              "\n",
              "        const docLinkHtml = 'Like what you see? Visit the ' +\n",
              "          '<a target=\"_blank\" href=https://colab.research.google.com/notebooks/data_table.ipynb>data table notebook</a>'\n",
              "          + ' to learn more about interactive tables.';\n",
              "        element.innerHTML = '';\n",
              "        dataTable['output_type'] = 'display_data';\n",
              "        await google.colab.output.renderOutput(dataTable, element);\n",
              "        const docLink = document.createElement('div');\n",
              "        docLink.innerHTML = docLinkHtml;\n",
              "        element.appendChild(docLink);\n",
              "      }\n",
              "    </script>\n",
              "  </div>\n",
              "\n",
              "\n",
              "    </div>\n",
              "  </div>\n"
            ],
            "application/vnd.google.colaboratory.intrinsic+json": {
              "type": "dataframe",
              "variable_name": "games",
              "summary": "{\n  \"name\": \"games\",\n  \"rows\": 27074,\n  \"fields\": [\n    {\n      \"column\": \"appid\",\n      \"properties\": {\n        \"dtype\": \"number\",\n        \"std\": 250892,\n        \"min\": 10,\n        \"max\": 1069460,\n        \"num_unique_values\": 27074,\n        \"samples\": [\n          514520,\n          1012720,\n          279260\n        ],\n        \"semantic_type\": \"\",\n        \"description\": \"\"\n      }\n    },\n    {\n      \"column\": \"name\",\n      \"properties\": {\n        \"dtype\": \"string\",\n        \"num_unique_values\": 27032,\n        \"samples\": [\n          \"A Legionary's Life\",\n          \"Road Doom\",\n          \"Martha Madison: Simple Machines Volume 1\"\n        ],\n        \"semantic_type\": \"\",\n        \"description\": \"\"\n      }\n    },\n    {\n      \"column\": \"developer\",\n      \"properties\": {\n        \"dtype\": \"object\",\n        \"semantic_type\": \"\",\n        \"description\": \"\"\n      }\n    },\n    {\n      \"column\": \"steamspy_tags\",\n      \"properties\": {\n        \"dtype\": \"object\",\n        \"semantic_type\": \"\",\n        \"description\": \"\"\n      }\n    },\n    {\n      \"column\": \"new_name\",\n      \"properties\": {\n        \"dtype\": \"object\",\n        \"semantic_type\": \"\",\n        \"description\": \"\"\n      }\n    },\n    {\n      \"column\": \"tags\",\n      \"properties\": {\n        \"dtype\": \"object\",\n        \"semantic_type\": \"\",\n        \"description\": \"\"\n      }\n    }\n  ]\n}"
            }
          },
          "metadata": {},
          "execution_count": 52
        }
      ]
    },
    {
      "cell_type": "markdown",
      "source": [
        "**Recommendation based on a single tags string**\n"
      ],
      "metadata": {
        "id": "pg7sm2Sa3uCz"
      }
    },
    {
      "cell_type": "code",
      "source": [
        "# df = games[['appid','name','tags']]"
      ],
      "metadata": {
        "id": "ktYftPFHaiaR"
      },
      "execution_count": 53,
      "outputs": []
    },
    {
      "cell_type": "code",
      "source": [
        "# df.head()"
      ],
      "metadata": {
        "id": "2Z-Fn6sgaosQ"
      },
      "execution_count": 54,
      "outputs": []
    },
    {
      "cell_type": "code",
      "source": [
        "# import nltk\n",
        "# from nltk.stem.porter import PorterStemmer\n",
        "# import re\n",
        "\n",
        "# ps = PorterStemmer()\n",
        "# #stemming and cleaning\n",
        "# def stem(t):\n",
        "#   t = re.sub('[^a-zA-Z]', ' ', t)\n",
        "#   t = t.lower()\n",
        "#   t = t.split()\n",
        "#   lst = []\n",
        "#   for word in t:\n",
        "#     lst.append(ps.stem(word))\n",
        "\n",
        "#   return \" \".join(lst)"
      ],
      "metadata": {
        "id": "keYL0tCBuL64"
      },
      "execution_count": 55,
      "outputs": []
    },
    {
      "cell_type": "code",
      "source": [
        "# ps.stem('loved')"
      ],
      "metadata": {
        "id": "lKxxDAf802rN"
      },
      "execution_count": 56,
      "outputs": []
    },
    {
      "cell_type": "code",
      "source": [
        "# df['tags'][0]"
      ],
      "metadata": {
        "id": "Dmf03iScaurG"
      },
      "execution_count": 57,
      "outputs": []
    },
    {
      "cell_type": "code",
      "source": [
        "# df['tags'][1]"
      ],
      "metadata": {
        "id": "rXqXIVkq1Jfg"
      },
      "execution_count": 58,
      "outputs": []
    },
    {
      "cell_type": "code",
      "source": [
        "# # convert list to string\n",
        "# df['tags'] = df['tags'].apply(lambda x: \" \".join(x) if isinstance(x, list) else x)"
      ],
      "metadata": {
        "id": "uL0TXmXJ2juw"
      },
      "execution_count": 59,
      "outputs": []
    },
    {
      "cell_type": "code",
      "source": [
        "# df.head()"
      ],
      "metadata": {
        "id": "34N1zZmUrLYM"
      },
      "execution_count": 60,
      "outputs": []
    },
    {
      "cell_type": "code",
      "source": [
        "# df['tags'] = df['tags'].apply(stem)"
      ],
      "metadata": {
        "id": "9iS22dLR11j5"
      },
      "execution_count": 61,
      "outputs": []
    },
    {
      "cell_type": "code",
      "source": [
        "# df.head()"
      ],
      "metadata": {
        "id": "ip0iTE5K8IMd"
      },
      "execution_count": 62,
      "outputs": []
    },
    {
      "cell_type": "code",
      "source": [
        "# # stemmed tags\n",
        "# df['tags'][0]"
      ],
      "metadata": {
        "id": "78nR8Inp12Tv"
      },
      "execution_count": 63,
      "outputs": []
    },
    {
      "cell_type": "markdown",
      "source": [
        "**Converting each steam genre into its own column by multi label binarizer**"
      ],
      "metadata": {
        "id": "COpJ6n0I6HGr"
      }
    },
    {
      "cell_type": "code",
      "source": [
        "# new_df = games"
      ],
      "metadata": {
        "id": "q9TMOeKI4-sb"
      },
      "execution_count": 64,
      "outputs": []
    },
    {
      "cell_type": "code",
      "source": [
        "# new_df"
      ],
      "metadata": {
        "id": "zPlzk1LB5Nbw"
      },
      "execution_count": 65,
      "outputs": []
    },
    {
      "cell_type": "code",
      "source": [
        "# #convert list to string\n",
        "# new_df[\"developer\"] = new_df[\"developer\"].apply(lambda x: \" \".join(x))\n",
        "\n"
      ],
      "metadata": {
        "id": "VXvHNdxp7KG-"
      },
      "execution_count": 66,
      "outputs": []
    },
    {
      "cell_type": "code",
      "source": [
        "# new_df.head(1)"
      ],
      "metadata": {
        "id": "KQXsHyqT7h2i"
      },
      "execution_count": 67,
      "outputs": []
    },
    {
      "cell_type": "code",
      "source": [
        "# from sklearn.preprocessing import LabelEncoder,MultiLabelBinarizer\n",
        "\n",
        "# label = LabelEncoder()\n",
        "# mlb = MultiLabelBinarizer()\n"
      ],
      "metadata": {
        "id": "xjEISz205Vs5"
      },
      "execution_count": 68,
      "outputs": []
    },
    {
      "cell_type": "code",
      "source": [
        "# #label encode the developer field\n",
        "# new_df[\"developer\"] = label.fit_transform(new_df[\"developer\"])"
      ],
      "metadata": {
        "id": "ph49HTIU5Vrg"
      },
      "execution_count": 69,
      "outputs": []
    },
    {
      "cell_type": "code",
      "source": [
        "# new_df.head(1)"
      ],
      "metadata": {
        "id": "Q79yB1Ih6_T-"
      },
      "execution_count": 70,
      "outputs": []
    },
    {
      "cell_type": "code",
      "source": [
        "# #Splitting steamspy_tags into multiple columns using MLB\n",
        "# new_df = new_df.join(pd.DataFrame(mlb.fit_transform(new_df['steamspy_tags']),\n",
        "#                           columns=mlb.classes_,\n",
        "#                           index=new_df.index))"
      ],
      "metadata": {
        "id": "PVdJ9YaZ70jD"
      },
      "execution_count": 71,
      "outputs": []
    },
    {
      "cell_type": "code",
      "source": [
        "# new_df.head(1)"
      ],
      "metadata": {
        "id": "Vx8hvGfV8Ljp"
      },
      "execution_count": 72,
      "outputs": []
    },
    {
      "cell_type": "code",
      "source": [
        "# print(new_df.columns.tolist())"
      ],
      "metadata": {
        "id": "h1QiaROf-HKN"
      },
      "execution_count": 73,
      "outputs": []
    },
    {
      "cell_type": "code",
      "source": [
        "# #dropping columns that are of no use\n",
        "# cols_to_drop = ['steamspy_tags', 'new_name', 'tags','&',\"'em\"]\n",
        "# new_df.drop(columns=[i for i in cols_to_drop if i in new_df.columns], inplace=True)\n"
      ],
      "metadata": {
        "id": "QUAeGTbz-ewv"
      },
      "execution_count": 74,
      "outputs": []
    },
    {
      "cell_type": "code",
      "source": [
        "# new_df.head(1)"
      ],
      "metadata": {
        "id": "07DLdAB5_T2p"
      },
      "execution_count": 75,
      "outputs": []
    },
    {
      "cell_type": "code",
      "source": [
        "# #since mlb.classes_ contain all the columns generated by mlb. loop through it to store only the remaining columns for feature extraction\n",
        "# remaining = [i for i in mlb.classes_ if i in new_df.columns]\n",
        "# features = ['developer']+ remaining\n",
        "# #combining developer tag for creating the matrix\n",
        "# v = new_df[features].values\n",
        "# #reducing the weight of developer so that there is diversity in the results\n",
        "# scale_v = v.copy().astype(float)\n",
        "# scale_v[:,0] *= 0.5\n"
      ],
      "metadata": {
        "id": "wXC4cS0pBCFU"
      },
      "execution_count": 76,
      "outputs": []
    },
    {
      "cell_type": "code",
      "source": [
        "# new_df.shape"
      ],
      "metadata": {
        "id": "8rStDYNCGcET"
      },
      "execution_count": 77,
      "outputs": []
    },
    {
      "cell_type": "code",
      "source": [
        "# pd.DataFrame(v).duplicated().sum()"
      ],
      "metadata": {
        "id": "qCWtIk9UkewR"
      },
      "execution_count": 78,
      "outputs": []
    },
    {
      "cell_type": "code",
      "source": [
        "# #use nearest neighbors for picking similar data points\n",
        "# from sklearn.neighbors import NearestNeighbors\n",
        "# model = NearestNeighbors(n_neighbors=6, algorithm='brute', metric='cosine')\n",
        "# model.fit(scale_v)"
      ],
      "metadata": {
        "id": "VhqKUmeIE1_j"
      },
      "execution_count": 79,
      "outputs": []
    },
    {
      "cell_type": "code",
      "source": [
        "# # Let's test on the first game in your dataset\n",
        "# test_index = 0\n",
        "# distances, indices = model.kneighbors([v[test_index]], n_neighbors=6)  # including itself\n",
        "\n",
        "# # Print results\n",
        "# print(\"Target Game:\", new_df.iloc[test_index]['name'])\n",
        "# print(\"\\nRecommended Games:\")\n",
        "# for i in range(1, 6):  # skip index 0 (it will be the same game)\n",
        "#     print(f\"{new_df.iloc[indices[0][i]]['name']} (distance: {distances[0][i]:.4f})\")\n"
      ],
      "metadata": {
        "id": "gbzoHZTXhxjG"
      },
      "execution_count": 80,
      "outputs": []
    },
    {
      "cell_type": "markdown",
      "source": [
        "**Using Pretagged dataset to generate optimal results**"
      ],
      "metadata": {
        "id": "-8EpLiba8AWu"
      }
    },
    {
      "cell_type": "code",
      "source": [
        "tagged.head(1)"
      ],
      "metadata": {
        "colab": {
          "base_uri": "https://localhost:8080/",
          "height": 147
        },
        "id": "3x-Ovgyf8F9l",
        "outputId": "a67a42e7-401c-45fe-bca8-4da446fed272"
      },
      "execution_count": 81,
      "outputs": [
        {
          "output_type": "execute_result",
          "data": {
            "text/plain": [
              "   appid            name  1980s  1990s  2.5d  2d  2d_fighter  360_video  3d  \\\n",
              "0     10  Counter-Strike    144    564     0   0           0          0   0   \n",
              "\n",
              "   3d_platformer  ...  warhammer_40k  web_publishing  werewolves  western  \\\n",
              "0              0  ...              0               0           0        0   \n",
              "\n",
              "   word_game  world_war_i  world_war_ii  wrestling  zombies  e_sports  \n",
              "0          0            0             0          0        0       550  \n",
              "\n",
              "[1 rows x 373 columns]"
            ],
            "text/html": [
              "\n",
              "  <div id=\"df-ce09a916-97b5-4e9e-95ee-c1a6ba74079b\" class=\"colab-df-container\">\n",
              "    <div>\n",
              "<style scoped>\n",
              "    .dataframe tbody tr th:only-of-type {\n",
              "        vertical-align: middle;\n",
              "    }\n",
              "\n",
              "    .dataframe tbody tr th {\n",
              "        vertical-align: top;\n",
              "    }\n",
              "\n",
              "    .dataframe thead th {\n",
              "        text-align: right;\n",
              "    }\n",
              "</style>\n",
              "<table border=\"1\" class=\"dataframe\">\n",
              "  <thead>\n",
              "    <tr style=\"text-align: right;\">\n",
              "      <th></th>\n",
              "      <th>appid</th>\n",
              "      <th>name</th>\n",
              "      <th>1980s</th>\n",
              "      <th>1990s</th>\n",
              "      <th>2.5d</th>\n",
              "      <th>2d</th>\n",
              "      <th>2d_fighter</th>\n",
              "      <th>360_video</th>\n",
              "      <th>3d</th>\n",
              "      <th>3d_platformer</th>\n",
              "      <th>...</th>\n",
              "      <th>warhammer_40k</th>\n",
              "      <th>web_publishing</th>\n",
              "      <th>werewolves</th>\n",
              "      <th>western</th>\n",
              "      <th>word_game</th>\n",
              "      <th>world_war_i</th>\n",
              "      <th>world_war_ii</th>\n",
              "      <th>wrestling</th>\n",
              "      <th>zombies</th>\n",
              "      <th>e_sports</th>\n",
              "    </tr>\n",
              "  </thead>\n",
              "  <tbody>\n",
              "    <tr>\n",
              "      <th>0</th>\n",
              "      <td>10</td>\n",
              "      <td>Counter-Strike</td>\n",
              "      <td>144</td>\n",
              "      <td>564</td>\n",
              "      <td>0</td>\n",
              "      <td>0</td>\n",
              "      <td>0</td>\n",
              "      <td>0</td>\n",
              "      <td>0</td>\n",
              "      <td>0</td>\n",
              "      <td>...</td>\n",
              "      <td>0</td>\n",
              "      <td>0</td>\n",
              "      <td>0</td>\n",
              "      <td>0</td>\n",
              "      <td>0</td>\n",
              "      <td>0</td>\n",
              "      <td>0</td>\n",
              "      <td>0</td>\n",
              "      <td>0</td>\n",
              "      <td>550</td>\n",
              "    </tr>\n",
              "  </tbody>\n",
              "</table>\n",
              "<p>1 rows × 373 columns</p>\n",
              "</div>\n",
              "    <div class=\"colab-df-buttons\">\n",
              "\n",
              "  <div class=\"colab-df-container\">\n",
              "    <button class=\"colab-df-convert\" onclick=\"convertToInteractive('df-ce09a916-97b5-4e9e-95ee-c1a6ba74079b')\"\n",
              "            title=\"Convert this dataframe to an interactive table.\"\n",
              "            style=\"display:none;\">\n",
              "\n",
              "  <svg xmlns=\"http://www.w3.org/2000/svg\" height=\"24px\" viewBox=\"0 -960 960 960\">\n",
              "    <path d=\"M120-120v-720h720v720H120Zm60-500h600v-160H180v160Zm220 220h160v-160H400v160Zm0 220h160v-160H400v160ZM180-400h160v-160H180v160Zm440 0h160v-160H620v160ZM180-180h160v-160H180v160Zm440 0h160v-160H620v160Z\"/>\n",
              "  </svg>\n",
              "    </button>\n",
              "\n",
              "  <style>\n",
              "    .colab-df-container {\n",
              "      display:flex;\n",
              "      gap: 12px;\n",
              "    }\n",
              "\n",
              "    .colab-df-convert {\n",
              "      background-color: #E8F0FE;\n",
              "      border: none;\n",
              "      border-radius: 50%;\n",
              "      cursor: pointer;\n",
              "      display: none;\n",
              "      fill: #1967D2;\n",
              "      height: 32px;\n",
              "      padding: 0 0 0 0;\n",
              "      width: 32px;\n",
              "    }\n",
              "\n",
              "    .colab-df-convert:hover {\n",
              "      background-color: #E2EBFA;\n",
              "      box-shadow: 0px 1px 2px rgba(60, 64, 67, 0.3), 0px 1px 3px 1px rgba(60, 64, 67, 0.15);\n",
              "      fill: #174EA6;\n",
              "    }\n",
              "\n",
              "    .colab-df-buttons div {\n",
              "      margin-bottom: 4px;\n",
              "    }\n",
              "\n",
              "    [theme=dark] .colab-df-convert {\n",
              "      background-color: #3B4455;\n",
              "      fill: #D2E3FC;\n",
              "    }\n",
              "\n",
              "    [theme=dark] .colab-df-convert:hover {\n",
              "      background-color: #434B5C;\n",
              "      box-shadow: 0px 1px 3px 1px rgba(0, 0, 0, 0.15);\n",
              "      filter: drop-shadow(0px 1px 2px rgba(0, 0, 0, 0.3));\n",
              "      fill: #FFFFFF;\n",
              "    }\n",
              "  </style>\n",
              "\n",
              "    <script>\n",
              "      const buttonEl =\n",
              "        document.querySelector('#df-ce09a916-97b5-4e9e-95ee-c1a6ba74079b button.colab-df-convert');\n",
              "      buttonEl.style.display =\n",
              "        google.colab.kernel.accessAllowed ? 'block' : 'none';\n",
              "\n",
              "      async function convertToInteractive(key) {\n",
              "        const element = document.querySelector('#df-ce09a916-97b5-4e9e-95ee-c1a6ba74079b');\n",
              "        const dataTable =\n",
              "          await google.colab.kernel.invokeFunction('convertToInteractive',\n",
              "                                                    [key], {});\n",
              "        if (!dataTable) return;\n",
              "\n",
              "        const docLinkHtml = 'Like what you see? Visit the ' +\n",
              "          '<a target=\"_blank\" href=https://colab.research.google.com/notebooks/data_table.ipynb>data table notebook</a>'\n",
              "          + ' to learn more about interactive tables.';\n",
              "        element.innerHTML = '';\n",
              "        dataTable['output_type'] = 'display_data';\n",
              "        await google.colab.output.renderOutput(dataTable, element);\n",
              "        const docLink = document.createElement('div');\n",
              "        docLink.innerHTML = docLinkHtml;\n",
              "        element.appendChild(docLink);\n",
              "      }\n",
              "    </script>\n",
              "  </div>\n",
              "\n",
              "\n",
              "    </div>\n",
              "  </div>\n"
            ],
            "application/vnd.google.colaboratory.intrinsic+json": {
              "type": "dataframe",
              "variable_name": "tagged"
            }
          },
          "metadata": {},
          "execution_count": 81
        }
      ]
    },
    {
      "cell_type": "markdown",
      "source": [
        "**Vectorization using TF-IDF**\n",
        "\n"
      ],
      "metadata": {
        "id": "sR3edwZH39F5"
      }
    },
    {
      "cell_type": "code",
      "source": [
        "#import necessary libraries for vectorization\n",
        "from sklearn.feature_extraction.text import TfidfVectorizer\n",
        "from sklearn.metrics.pairwise import cosine_similarity\n"
      ],
      "metadata": {
        "id": "RkPn9WsLzH4_"
      },
      "execution_count": 82,
      "outputs": []
    },
    {
      "cell_type": "code",
      "source": [
        "#select only the necessary columns\n",
        "feat = tagged.drop(columns=['appid','name'],axis = 1)"
      ],
      "metadata": {
        "id": "8AOImQZj-UQV"
      },
      "execution_count": 83,
      "outputs": []
    },
    {
      "cell_type": "code",
      "source": [
        "#apply tf-idf\n",
        "tfidf = TfidfVectorizer()\n",
        "matrix = tfidf.fit_transform(feat)"
      ],
      "metadata": {
        "id": "4jC4NeYj-hwZ"
      },
      "execution_count": 84,
      "outputs": []
    },
    {
      "cell_type": "code",
      "source": [
        "matrix"
      ],
      "metadata": {
        "colab": {
          "base_uri": "https://localhost:8080/"
        },
        "id": "ODzX0oim5MYC",
        "outputId": "486a439b-3dab-4f7b-8e41-1753c1a7e1b4"
      },
      "execution_count": 85,
      "outputs": [
        {
          "output_type": "execute_result",
          "data": {
            "text/plain": [
              "<Compressed Sparse Row sparse matrix of dtype 'float64'\n",
              "\twith 375 stored elements and shape (371, 375)>"
            ]
          },
          "metadata": {},
          "execution_count": 85
        }
      ]
    },
    {
      "cell_type": "code",
      "source": [
        "#matrix computation\n",
        "similarity_matrix = cosine_similarity(matrix)"
      ],
      "metadata": {
        "id": "OmxiQwFc--Rw"
      },
      "execution_count": 86,
      "outputs": []
    },
    {
      "cell_type": "code",
      "source": [
        "similarity_matrix"
      ],
      "metadata": {
        "colab": {
          "base_uri": "https://localhost:8080/"
        },
        "id": "nPiSIsba_J2P",
        "outputId": "a2209197-cbab-4410-8b4e-60bcfff0d31d"
      },
      "execution_count": 87,
      "outputs": [
        {
          "output_type": "execute_result",
          "data": {
            "text/plain": [
              "array([[1., 0., 0., ..., 0., 0., 0.],\n",
              "       [0., 1., 0., ..., 0., 0., 0.],\n",
              "       [0., 0., 1., ..., 0., 0., 0.],\n",
              "       ...,\n",
              "       [0., 0., 0., ..., 1., 0., 0.],\n",
              "       [0., 0., 0., ..., 0., 1., 0.],\n",
              "       [0., 0., 0., ..., 0., 0., 1.]])"
            ]
          },
          "metadata": {},
          "execution_count": 87
        }
      ]
    },
    {
      "cell_type": "code",
      "source": [
        "#recommend function\n",
        "def recommend(g):\n",
        "  g = g.lower()\n",
        "  idx = tagged[tagged['name'].str.lower()==g].index[0]\n",
        "\n",
        "  #calculate distance\n",
        "  d = similarity_matrix[idx]\n",
        "  #select the last 6 recommendations and skip the last one\n",
        "  lst = sorted(list(enumerate(d)),reverse=True, key=lambda x:x[1])[1:6]\n",
        "\n",
        "  recoms = [tagged.iloc[i[0]]['name']for i in lst]\n",
        "  return recoms"
      ],
      "metadata": {
        "id": "LXO1mw6y_NH4"
      },
      "execution_count": 88,
      "outputs": []
    },
    {
      "cell_type": "code",
      "source": [
        "#test recommendation function\n",
        "recommend(\"Counter-Strike\")"
      ],
      "metadata": {
        "id": "wuyIk3wy6txc",
        "colab": {
          "base_uri": "https://localhost:8080/"
        },
        "outputId": "6d8bc33c-ea16-4d4d-f606-5c76e079fb3f"
      },
      "execution_count": 89,
      "outputs": [
        {
          "output_type": "execute_result",
          "data": {
            "text/plain": [
              "['Team Fortress Classic',\n",
              " 'Day of Defeat',\n",
              " 'Deathmatch Classic',\n",
              " 'Half-Life: Opposing Force',\n",
              " 'Ricochet']"
            ]
          },
          "metadata": {},
          "execution_count": 89
        }
      ]
    },
    {
      "cell_type": "code",
      "source": [],
      "metadata": {
        "id": "3tYJOqNvhxhp"
      },
      "execution_count": 89,
      "outputs": []
    }
  ]
}