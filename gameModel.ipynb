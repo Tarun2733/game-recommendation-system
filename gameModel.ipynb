{
  "nbformat": 4,
  "nbformat_minor": 0,
  "metadata": {
    "colab": {
      "provenance": [],
      "gpuType": "T4",
      "authorship_tag": "ABX9TyNkYXrngUyBlQ/2AkMpyXe3",
      "include_colab_link": true
    },
    "kernelspec": {
      "name": "python3",
      "display_name": "Python 3"
    },
    "language_info": {
      "name": "python"
    },
    "accelerator": "GPU"
  },
  "cells": [
    {
      "cell_type": "markdown",
      "metadata": {
        "id": "view-in-github",
        "colab_type": "text"
      },
      "source": [
        "<a href=\"https://colab.research.google.com/github/Tarun2733/game-recommendation-system/blob/main/gameModel.ipynb\" target=\"_parent\"><img src=\"https://colab.research.google.com/assets/colab-badge.svg\" alt=\"Open In Colab\"/></a>"
      ]
    },
    {
      "cell_type": "code",
      "source": [
        "import torch\n",
        "torch.cuda.is_available()\n"
      ],
      "metadata": {
        "colab": {
          "base_uri": "https://localhost:8080/"
        },
        "id": "LZjKcWhO9_34",
        "outputId": "64ccf320-5678-4701-a2bb-9fc7ad331897"
      },
      "execution_count": 3,
      "outputs": [
        {
          "output_type": "execute_result",
          "data": {
            "text/plain": [
              "True"
            ]
          },
          "metadata": {},
          "execution_count": 3
        }
      ]
    },
    {
      "cell_type": "code",
      "source": [
        "!nvidia-smi\n"
      ],
      "metadata": {
        "colab": {
          "base_uri": "https://localhost:8080/"
        },
        "id": "722bNk6P-CfG",
        "outputId": "7cb4b1aa-a86f-46fc-dcb3-64213e78c53b"
      },
      "execution_count": 4,
      "outputs": [
        {
          "output_type": "stream",
          "name": "stdout",
          "text": [
            "Sun May 18 05:58:52 2025       \n",
            "+-----------------------------------------------------------------------------------------+\n",
            "| NVIDIA-SMI 550.54.15              Driver Version: 550.54.15      CUDA Version: 12.4     |\n",
            "|-----------------------------------------+------------------------+----------------------+\n",
            "| GPU  Name                 Persistence-M | Bus-Id          Disp.A | Volatile Uncorr. ECC |\n",
            "| Fan  Temp   Perf          Pwr:Usage/Cap |           Memory-Usage | GPU-Util  Compute M. |\n",
            "|                                         |                        |               MIG M. |\n",
            "|=========================================+========================+======================|\n",
            "|   0  Tesla T4                       Off |   00000000:00:04.0 Off |                    0 |\n",
            "| N/A   42C    P8             12W /   70W |       2MiB /  15360MiB |      0%      Default |\n",
            "|                                         |                        |                  N/A |\n",
            "+-----------------------------------------+------------------------+----------------------+\n",
            "                                                                                         \n",
            "+-----------------------------------------------------------------------------------------+\n",
            "| Processes:                                                                              |\n",
            "|  GPU   GI   CI        PID   Type   Process name                              GPU Memory |\n",
            "|        ID   ID                                                               Usage      |\n",
            "|=========================================================================================|\n",
            "|  No running processes found                                                             |\n",
            "+-----------------------------------------------------------------------------------------+\n"
          ]
        }
      ]
    },
    {
      "cell_type": "markdown",
      "source": [
        "Import Pandas and Numpy"
      ],
      "metadata": {
        "id": "yG6NOJdjrKxW"
      }
    },
    {
      "cell_type": "code",
      "execution_count": 5,
      "metadata": {
        "id": "8BlO7nefqnzA"
      },
      "outputs": [],
      "source": [
        "import pandas as pd\n",
        "import numpy as np"
      ]
    },
    {
      "cell_type": "code",
      "source": [
        "games = pd.read_csv('/content/steam.csv')\n",
        "tags_df = pd.read_csv('/content/steamspy_tag_data.csv')\n",
        "desc_df = pd.read_csv('/content/steam_description_data.csv')\n",
        "media_df = pd.read_csv('/content/steam_media_data.csv')\n",
        "\n"
      ],
      "metadata": {
        "id": "ckl8Liu_rKIn"
      },
      "execution_count": 6,
      "outputs": []
    },
    {
      "cell_type": "code",
      "source": [
        "games.head(1)"
      ],
      "metadata": {
        "colab": {
          "base_uri": "https://localhost:8080/",
          "height": 170
        },
        "id": "S3bXwZVwwTXT",
        "outputId": "fae4a34f-252f-40c3-e31e-d594c1a52985"
      },
      "execution_count": 7,
      "outputs": [
        {
          "output_type": "execute_result",
          "data": {
            "text/plain": [
              "   appid            name release_date  english developer publisher  \\\n",
              "0     10  Counter-Strike   2000-11-01        1     Valve     Valve   \n",
              "\n",
              "           platforms  required_age  \\\n",
              "0  windows;mac;linux             0   \n",
              "\n",
              "                                          categories  genres  \\\n",
              "0  Multi-player;Online Multi-Player;Local Multi-P...  Action   \n",
              "\n",
              "            steamspy_tags  achievements  positive_ratings  negative_ratings  \\\n",
              "0  Action;FPS;Multiplayer             0            124534              3339   \n",
              "\n",
              "   average_playtime  median_playtime             owners  price  \n",
              "0             17612              317  10000000-20000000   7.19  "
            ],
            "text/html": [
              "\n",
              "  <div id=\"df-9c2269e2-7d62-4253-b258-afcb193bfc32\" class=\"colab-df-container\">\n",
              "    <div>\n",
              "<style scoped>\n",
              "    .dataframe tbody tr th:only-of-type {\n",
              "        vertical-align: middle;\n",
              "    }\n",
              "\n",
              "    .dataframe tbody tr th {\n",
              "        vertical-align: top;\n",
              "    }\n",
              "\n",
              "    .dataframe thead th {\n",
              "        text-align: right;\n",
              "    }\n",
              "</style>\n",
              "<table border=\"1\" class=\"dataframe\">\n",
              "  <thead>\n",
              "    <tr style=\"text-align: right;\">\n",
              "      <th></th>\n",
              "      <th>appid</th>\n",
              "      <th>name</th>\n",
              "      <th>release_date</th>\n",
              "      <th>english</th>\n",
              "      <th>developer</th>\n",
              "      <th>publisher</th>\n",
              "      <th>platforms</th>\n",
              "      <th>required_age</th>\n",
              "      <th>categories</th>\n",
              "      <th>genres</th>\n",
              "      <th>steamspy_tags</th>\n",
              "      <th>achievements</th>\n",
              "      <th>positive_ratings</th>\n",
              "      <th>negative_ratings</th>\n",
              "      <th>average_playtime</th>\n",
              "      <th>median_playtime</th>\n",
              "      <th>owners</th>\n",
              "      <th>price</th>\n",
              "    </tr>\n",
              "  </thead>\n",
              "  <tbody>\n",
              "    <tr>\n",
              "      <th>0</th>\n",
              "      <td>10</td>\n",
              "      <td>Counter-Strike</td>\n",
              "      <td>2000-11-01</td>\n",
              "      <td>1</td>\n",
              "      <td>Valve</td>\n",
              "      <td>Valve</td>\n",
              "      <td>windows;mac;linux</td>\n",
              "      <td>0</td>\n",
              "      <td>Multi-player;Online Multi-Player;Local Multi-P...</td>\n",
              "      <td>Action</td>\n",
              "      <td>Action;FPS;Multiplayer</td>\n",
              "      <td>0</td>\n",
              "      <td>124534</td>\n",
              "      <td>3339</td>\n",
              "      <td>17612</td>\n",
              "      <td>317</td>\n",
              "      <td>10000000-20000000</td>\n",
              "      <td>7.19</td>\n",
              "    </tr>\n",
              "  </tbody>\n",
              "</table>\n",
              "</div>\n",
              "    <div class=\"colab-df-buttons\">\n",
              "\n",
              "  <div class=\"colab-df-container\">\n",
              "    <button class=\"colab-df-convert\" onclick=\"convertToInteractive('df-9c2269e2-7d62-4253-b258-afcb193bfc32')\"\n",
              "            title=\"Convert this dataframe to an interactive table.\"\n",
              "            style=\"display:none;\">\n",
              "\n",
              "  <svg xmlns=\"http://www.w3.org/2000/svg\" height=\"24px\" viewBox=\"0 -960 960 960\">\n",
              "    <path d=\"M120-120v-720h720v720H120Zm60-500h600v-160H180v160Zm220 220h160v-160H400v160Zm0 220h160v-160H400v160ZM180-400h160v-160H180v160Zm440 0h160v-160H620v160ZM180-180h160v-160H180v160Zm440 0h160v-160H620v160Z\"/>\n",
              "  </svg>\n",
              "    </button>\n",
              "\n",
              "  <style>\n",
              "    .colab-df-container {\n",
              "      display:flex;\n",
              "      gap: 12px;\n",
              "    }\n",
              "\n",
              "    .colab-df-convert {\n",
              "      background-color: #E8F0FE;\n",
              "      border: none;\n",
              "      border-radius: 50%;\n",
              "      cursor: pointer;\n",
              "      display: none;\n",
              "      fill: #1967D2;\n",
              "      height: 32px;\n",
              "      padding: 0 0 0 0;\n",
              "      width: 32px;\n",
              "    }\n",
              "\n",
              "    .colab-df-convert:hover {\n",
              "      background-color: #E2EBFA;\n",
              "      box-shadow: 0px 1px 2px rgba(60, 64, 67, 0.3), 0px 1px 3px 1px rgba(60, 64, 67, 0.15);\n",
              "      fill: #174EA6;\n",
              "    }\n",
              "\n",
              "    .colab-df-buttons div {\n",
              "      margin-bottom: 4px;\n",
              "    }\n",
              "\n",
              "    [theme=dark] .colab-df-convert {\n",
              "      background-color: #3B4455;\n",
              "      fill: #D2E3FC;\n",
              "    }\n",
              "\n",
              "    [theme=dark] .colab-df-convert:hover {\n",
              "      background-color: #434B5C;\n",
              "      box-shadow: 0px 1px 3px 1px rgba(0, 0, 0, 0.15);\n",
              "      filter: drop-shadow(0px 1px 2px rgba(0, 0, 0, 0.3));\n",
              "      fill: #FFFFFF;\n",
              "    }\n",
              "  </style>\n",
              "\n",
              "    <script>\n",
              "      const buttonEl =\n",
              "        document.querySelector('#df-9c2269e2-7d62-4253-b258-afcb193bfc32 button.colab-df-convert');\n",
              "      buttonEl.style.display =\n",
              "        google.colab.kernel.accessAllowed ? 'block' : 'none';\n",
              "\n",
              "      async function convertToInteractive(key) {\n",
              "        const element = document.querySelector('#df-9c2269e2-7d62-4253-b258-afcb193bfc32');\n",
              "        const dataTable =\n",
              "          await google.colab.kernel.invokeFunction('convertToInteractive',\n",
              "                                                    [key], {});\n",
              "        if (!dataTable) return;\n",
              "\n",
              "        const docLinkHtml = 'Like what you see? Visit the ' +\n",
              "          '<a target=\"_blank\" href=https://colab.research.google.com/notebooks/data_table.ipynb>data table notebook</a>'\n",
              "          + ' to learn more about interactive tables.';\n",
              "        element.innerHTML = '';\n",
              "        dataTable['output_type'] = 'display_data';\n",
              "        await google.colab.output.renderOutput(dataTable, element);\n",
              "        const docLink = document.createElement('div');\n",
              "        docLink.innerHTML = docLinkHtml;\n",
              "        element.appendChild(docLink);\n",
              "      }\n",
              "    </script>\n",
              "  </div>\n",
              "\n",
              "\n",
              "    </div>\n",
              "  </div>\n"
            ],
            "application/vnd.google.colaboratory.intrinsic+json": {
              "type": "dataframe",
              "variable_name": "games",
              "summary": "{\n  \"name\": \"games\",\n  \"rows\": 27075,\n  \"fields\": [\n    {\n      \"column\": \"appid\",\n      \"properties\": {\n        \"dtype\": \"number\",\n        \"std\": 250894,\n        \"min\": 10,\n        \"max\": 1069460,\n        \"num_unique_values\": 27075,\n        \"samples\": [\n          514520,\n          1012710,\n          279260\n        ],\n        \"semantic_type\": \"\",\n        \"description\": \"\"\n      }\n    },\n    {\n      \"column\": \"name\",\n      \"properties\": {\n        \"dtype\": \"string\",\n        \"num_unique_values\": 27033,\n        \"samples\": [\n          \"A Legionary's Life\",\n          \"Road Doom\",\n          \"Martha Madison: Simple Machines Volume 1\"\n        ],\n        \"semantic_type\": \"\",\n        \"description\": \"\"\n      }\n    },\n    {\n      \"column\": \"release_date\",\n      \"properties\": {\n        \"dtype\": \"object\",\n        \"num_unique_values\": 2619,\n        \"samples\": [\n          \"2017-11-30\",\n          \"2009-07-01\",\n          \"2015-07-09\"\n        ],\n        \"semantic_type\": \"\",\n        \"description\": \"\"\n      }\n    },\n    {\n      \"column\": \"english\",\n      \"properties\": {\n        \"dtype\": \"number\",\n        \"std\": 0,\n        \"min\": 0,\n        \"max\": 1,\n        \"num_unique_values\": 2,\n        \"samples\": [\n          0,\n          1\n        ],\n        \"semantic_type\": \"\",\n        \"description\": \"\"\n      }\n    },\n    {\n      \"column\": \"developer\",\n      \"properties\": {\n        \"dtype\": \"string\",\n        \"num_unique_values\": 17112,\n        \"samples\": [\n          \"Titan Studio\",\n          \"Startreming\"\n        ],\n        \"semantic_type\": \"\",\n        \"description\": \"\"\n      }\n    },\n    {\n      \"column\": \"publisher\",\n      \"properties\": {\n        \"dtype\": \"string\",\n        \"num_unique_values\": 14353,\n        \"samples\": [\n          \"Madowl Games\",\n          \"FunLimit\"\n        ],\n        \"semantic_type\": \"\",\n        \"description\": \"\"\n      }\n    },\n    {\n      \"column\": \"platforms\",\n      \"properties\": {\n        \"dtype\": \"category\",\n        \"num_unique_values\": 7,\n        \"samples\": [\n          \"windows;mac;linux\",\n          \"windows;mac\"\n        ],\n        \"semantic_type\": \"\",\n        \"description\": \"\"\n      }\n    },\n    {\n      \"column\": \"required_age\",\n      \"properties\": {\n        \"dtype\": \"number\",\n        \"std\": 2,\n        \"min\": 0,\n        \"max\": 18,\n        \"num_unique_values\": 6,\n        \"samples\": [\n          0,\n          18\n        ],\n        \"semantic_type\": \"\",\n        \"description\": \"\"\n      }\n    },\n    {\n      \"column\": \"categories\",\n      \"properties\": {\n        \"dtype\": \"category\",\n        \"num_unique_values\": 3333,\n        \"samples\": [\n          \"Single-player;Multi-player;Steam Achievements;Full controller support;Steam Cloud\",\n          \"Single-player;Local Multi-Player;Local Co-op;Steam Achievements;Steam Cloud\"\n        ],\n        \"semantic_type\": \"\",\n        \"description\": \"\"\n      }\n    },\n    {\n      \"column\": \"genres\",\n      \"properties\": {\n        \"dtype\": \"category\",\n        \"num_unique_values\": 1552,\n        \"samples\": [\n          \"Action;Adventure;Free to Play;Indie;Strategy\",\n          \"Action;Casual;Free to Play;Massively Multiplayer\"\n        ],\n        \"semantic_type\": \"\",\n        \"description\": \"\"\n      }\n    },\n    {\n      \"column\": \"steamspy_tags\",\n      \"properties\": {\n        \"dtype\": \"category\",\n        \"num_unique_values\": 6423,\n        \"samples\": [\n          \"Action;Platformer;Remake\",\n          \"Visual Novel;RPG;Indie\"\n        ],\n        \"semantic_type\": \"\",\n        \"description\": \"\"\n      }\n    },\n    {\n      \"column\": \"achievements\",\n      \"properties\": {\n        \"dtype\": \"number\",\n        \"std\": 352,\n        \"min\": 0,\n        \"max\": 9821,\n        \"num_unique_values\": 410,\n        \"samples\": [\n          102,\n          295\n        ],\n        \"semantic_type\": \"\",\n        \"description\": \"\"\n      }\n    },\n    {\n      \"column\": \"positive_ratings\",\n      \"properties\": {\n        \"dtype\": \"number\",\n        \"std\": 18988,\n        \"min\": 0,\n        \"max\": 2644404,\n        \"num_unique_values\": 2800,\n        \"samples\": [\n          2182,\n          286\n        ],\n        \"semantic_type\": \"\",\n        \"description\": \"\"\n      }\n    },\n    {\n      \"column\": \"negative_ratings\",\n      \"properties\": {\n        \"dtype\": \"number\",\n        \"std\": 4284,\n        \"min\": 0,\n        \"max\": 487076,\n        \"num_unique_values\": 1492,\n        \"samples\": [\n          1117,\n          1059\n        ],\n        \"semantic_type\": \"\",\n        \"description\": \"\"\n      }\n    },\n    {\n      \"column\": \"average_playtime\",\n      \"properties\": {\n        \"dtype\": \"number\",\n        \"std\": 1827,\n        \"min\": 0,\n        \"max\": 190625,\n        \"num_unique_values\": 1345,\n        \"samples\": [\n          141,\n          2990\n        ],\n        \"semantic_type\": \"\",\n        \"description\": \"\"\n      }\n    },\n    {\n      \"column\": \"median_playtime\",\n      \"properties\": {\n        \"dtype\": \"number\",\n        \"std\": 2353,\n        \"min\": 0,\n        \"max\": 190625,\n        \"num_unique_values\": 1312,\n        \"samples\": [\n          869,\n          846\n        ],\n        \"semantic_type\": \"\",\n        \"description\": \"\"\n      }\n    },\n    {\n      \"column\": \"owners\",\n      \"properties\": {\n        \"dtype\": \"category\",\n        \"num_unique_values\": 13,\n        \"samples\": [\n          \"200000-500000\",\n          \"50000-100000\"\n        ],\n        \"semantic_type\": \"\",\n        \"description\": \"\"\n      }\n    },\n    {\n      \"column\": \"price\",\n      \"properties\": {\n        \"dtype\": \"number\",\n        \"std\": 7.874922274392826,\n        \"min\": 0.0,\n        \"max\": 421.99,\n        \"num_unique_values\": 282,\n        \"samples\": [\n          4.65,\n          14.49\n        ],\n        \"semantic_type\": \"\",\n        \"description\": \"\"\n      }\n    }\n  ]\n}"
            }
          },
          "metadata": {},
          "execution_count": 7
        }
      ]
    },
    {
      "cell_type": "code",
      "source": [
        "tags_df.head(1)"
      ],
      "metadata": {
        "colab": {
          "base_uri": "https://localhost:8080/",
          "height": 130
        },
        "id": "HfsS6dN8wjoo",
        "outputId": "f6bf1e0a-8c04-400a-cdbd-294879ffebf3"
      },
      "execution_count": 8,
      "outputs": [
        {
          "output_type": "execute_result",
          "data": {
            "text/plain": [
              "   appid  1980s  1990s  2.5d  2d  2d_fighter  360_video  3d  3d_platformer  \\\n",
              "0     10    144    564     0   0           0          0   0              0   \n",
              "\n",
              "   3d_vision  ...  warhammer_40k  web_publishing  werewolves  western  \\\n",
              "0          0  ...              0               0           0        0   \n",
              "\n",
              "   word_game  world_war_i  world_war_ii  wrestling  zombies  e_sports  \n",
              "0          0            0             0          0        0       550  \n",
              "\n",
              "[1 rows x 372 columns]"
            ],
            "text/html": [
              "\n",
              "  <div id=\"df-73e741e9-6623-4bcb-988e-654d5d14aba1\" class=\"colab-df-container\">\n",
              "    <div>\n",
              "<style scoped>\n",
              "    .dataframe tbody tr th:only-of-type {\n",
              "        vertical-align: middle;\n",
              "    }\n",
              "\n",
              "    .dataframe tbody tr th {\n",
              "        vertical-align: top;\n",
              "    }\n",
              "\n",
              "    .dataframe thead th {\n",
              "        text-align: right;\n",
              "    }\n",
              "</style>\n",
              "<table border=\"1\" class=\"dataframe\">\n",
              "  <thead>\n",
              "    <tr style=\"text-align: right;\">\n",
              "      <th></th>\n",
              "      <th>appid</th>\n",
              "      <th>1980s</th>\n",
              "      <th>1990s</th>\n",
              "      <th>2.5d</th>\n",
              "      <th>2d</th>\n",
              "      <th>2d_fighter</th>\n",
              "      <th>360_video</th>\n",
              "      <th>3d</th>\n",
              "      <th>3d_platformer</th>\n",
              "      <th>3d_vision</th>\n",
              "      <th>...</th>\n",
              "      <th>warhammer_40k</th>\n",
              "      <th>web_publishing</th>\n",
              "      <th>werewolves</th>\n",
              "      <th>western</th>\n",
              "      <th>word_game</th>\n",
              "      <th>world_war_i</th>\n",
              "      <th>world_war_ii</th>\n",
              "      <th>wrestling</th>\n",
              "      <th>zombies</th>\n",
              "      <th>e_sports</th>\n",
              "    </tr>\n",
              "  </thead>\n",
              "  <tbody>\n",
              "    <tr>\n",
              "      <th>0</th>\n",
              "      <td>10</td>\n",
              "      <td>144</td>\n",
              "      <td>564</td>\n",
              "      <td>0</td>\n",
              "      <td>0</td>\n",
              "      <td>0</td>\n",
              "      <td>0</td>\n",
              "      <td>0</td>\n",
              "      <td>0</td>\n",
              "      <td>0</td>\n",
              "      <td>...</td>\n",
              "      <td>0</td>\n",
              "      <td>0</td>\n",
              "      <td>0</td>\n",
              "      <td>0</td>\n",
              "      <td>0</td>\n",
              "      <td>0</td>\n",
              "      <td>0</td>\n",
              "      <td>0</td>\n",
              "      <td>0</td>\n",
              "      <td>550</td>\n",
              "    </tr>\n",
              "  </tbody>\n",
              "</table>\n",
              "<p>1 rows × 372 columns</p>\n",
              "</div>\n",
              "    <div class=\"colab-df-buttons\">\n",
              "\n",
              "  <div class=\"colab-df-container\">\n",
              "    <button class=\"colab-df-convert\" onclick=\"convertToInteractive('df-73e741e9-6623-4bcb-988e-654d5d14aba1')\"\n",
              "            title=\"Convert this dataframe to an interactive table.\"\n",
              "            style=\"display:none;\">\n",
              "\n",
              "  <svg xmlns=\"http://www.w3.org/2000/svg\" height=\"24px\" viewBox=\"0 -960 960 960\">\n",
              "    <path d=\"M120-120v-720h720v720H120Zm60-500h600v-160H180v160Zm220 220h160v-160H400v160Zm0 220h160v-160H400v160ZM180-400h160v-160H180v160Zm440 0h160v-160H620v160ZM180-180h160v-160H180v160Zm440 0h160v-160H620v160Z\"/>\n",
              "  </svg>\n",
              "    </button>\n",
              "\n",
              "  <style>\n",
              "    .colab-df-container {\n",
              "      display:flex;\n",
              "      gap: 12px;\n",
              "    }\n",
              "\n",
              "    .colab-df-convert {\n",
              "      background-color: #E8F0FE;\n",
              "      border: none;\n",
              "      border-radius: 50%;\n",
              "      cursor: pointer;\n",
              "      display: none;\n",
              "      fill: #1967D2;\n",
              "      height: 32px;\n",
              "      padding: 0 0 0 0;\n",
              "      width: 32px;\n",
              "    }\n",
              "\n",
              "    .colab-df-convert:hover {\n",
              "      background-color: #E2EBFA;\n",
              "      box-shadow: 0px 1px 2px rgba(60, 64, 67, 0.3), 0px 1px 3px 1px rgba(60, 64, 67, 0.15);\n",
              "      fill: #174EA6;\n",
              "    }\n",
              "\n",
              "    .colab-df-buttons div {\n",
              "      margin-bottom: 4px;\n",
              "    }\n",
              "\n",
              "    [theme=dark] .colab-df-convert {\n",
              "      background-color: #3B4455;\n",
              "      fill: #D2E3FC;\n",
              "    }\n",
              "\n",
              "    [theme=dark] .colab-df-convert:hover {\n",
              "      background-color: #434B5C;\n",
              "      box-shadow: 0px 1px 3px 1px rgba(0, 0, 0, 0.15);\n",
              "      filter: drop-shadow(0px 1px 2px rgba(0, 0, 0, 0.3));\n",
              "      fill: #FFFFFF;\n",
              "    }\n",
              "  </style>\n",
              "\n",
              "    <script>\n",
              "      const buttonEl =\n",
              "        document.querySelector('#df-73e741e9-6623-4bcb-988e-654d5d14aba1 button.colab-df-convert');\n",
              "      buttonEl.style.display =\n",
              "        google.colab.kernel.accessAllowed ? 'block' : 'none';\n",
              "\n",
              "      async function convertToInteractive(key) {\n",
              "        const element = document.querySelector('#df-73e741e9-6623-4bcb-988e-654d5d14aba1');\n",
              "        const dataTable =\n",
              "          await google.colab.kernel.invokeFunction('convertToInteractive',\n",
              "                                                    [key], {});\n",
              "        if (!dataTable) return;\n",
              "\n",
              "        const docLinkHtml = 'Like what you see? Visit the ' +\n",
              "          '<a target=\"_blank\" href=https://colab.research.google.com/notebooks/data_table.ipynb>data table notebook</a>'\n",
              "          + ' to learn more about interactive tables.';\n",
              "        element.innerHTML = '';\n",
              "        dataTable['output_type'] = 'display_data';\n",
              "        await google.colab.output.renderOutput(dataTable, element);\n",
              "        const docLink = document.createElement('div');\n",
              "        docLink.innerHTML = docLinkHtml;\n",
              "        element.appendChild(docLink);\n",
              "      }\n",
              "    </script>\n",
              "  </div>\n",
              "\n",
              "\n",
              "    </div>\n",
              "  </div>\n"
            ],
            "application/vnd.google.colaboratory.intrinsic+json": {
              "type": "dataframe",
              "variable_name": "tags_df"
            }
          },
          "metadata": {},
          "execution_count": 8
        }
      ]
    },
    {
      "cell_type": "code",
      "source": [
        "desc_df.head(1)"
      ],
      "metadata": {
        "colab": {
          "base_uri": "https://localhost:8080/",
          "height": 98
        },
        "id": "_2sQAjdNT2-H",
        "outputId": "e79094a4-8c6b-4c6d-b1a8-d06c263661af"
      },
      "execution_count": 9,
      "outputs": [
        {
          "output_type": "execute_result",
          "data": {
            "text/plain": [
              "   steam_appid                               detailed_description  \\\n",
              "0           10  Play the world's number 1 online action game. ...   \n",
              "\n",
              "                                      about_the_game  \\\n",
              "0  Play the world's number 1 online action game. ...   \n",
              "\n",
              "                                   short_description  \n",
              "0  Play the world's number 1 online action game. ...  "
            ],
            "text/html": [
              "\n",
              "  <div id=\"df-a161d1dc-ac7f-4e0b-b27b-3706cda7b0b0\" class=\"colab-df-container\">\n",
              "    <div>\n",
              "<style scoped>\n",
              "    .dataframe tbody tr th:only-of-type {\n",
              "        vertical-align: middle;\n",
              "    }\n",
              "\n",
              "    .dataframe tbody tr th {\n",
              "        vertical-align: top;\n",
              "    }\n",
              "\n",
              "    .dataframe thead th {\n",
              "        text-align: right;\n",
              "    }\n",
              "</style>\n",
              "<table border=\"1\" class=\"dataframe\">\n",
              "  <thead>\n",
              "    <tr style=\"text-align: right;\">\n",
              "      <th></th>\n",
              "      <th>steam_appid</th>\n",
              "      <th>detailed_description</th>\n",
              "      <th>about_the_game</th>\n",
              "      <th>short_description</th>\n",
              "    </tr>\n",
              "  </thead>\n",
              "  <tbody>\n",
              "    <tr>\n",
              "      <th>0</th>\n",
              "      <td>10</td>\n",
              "      <td>Play the world's number 1 online action game. ...</td>\n",
              "      <td>Play the world's number 1 online action game. ...</td>\n",
              "      <td>Play the world's number 1 online action game. ...</td>\n",
              "    </tr>\n",
              "  </tbody>\n",
              "</table>\n",
              "</div>\n",
              "    <div class=\"colab-df-buttons\">\n",
              "\n",
              "  <div class=\"colab-df-container\">\n",
              "    <button class=\"colab-df-convert\" onclick=\"convertToInteractive('df-a161d1dc-ac7f-4e0b-b27b-3706cda7b0b0')\"\n",
              "            title=\"Convert this dataframe to an interactive table.\"\n",
              "            style=\"display:none;\">\n",
              "\n",
              "  <svg xmlns=\"http://www.w3.org/2000/svg\" height=\"24px\" viewBox=\"0 -960 960 960\">\n",
              "    <path d=\"M120-120v-720h720v720H120Zm60-500h600v-160H180v160Zm220 220h160v-160H400v160Zm0 220h160v-160H400v160ZM180-400h160v-160H180v160Zm440 0h160v-160H620v160ZM180-180h160v-160H180v160Zm440 0h160v-160H620v160Z\"/>\n",
              "  </svg>\n",
              "    </button>\n",
              "\n",
              "  <style>\n",
              "    .colab-df-container {\n",
              "      display:flex;\n",
              "      gap: 12px;\n",
              "    }\n",
              "\n",
              "    .colab-df-convert {\n",
              "      background-color: #E8F0FE;\n",
              "      border: none;\n",
              "      border-radius: 50%;\n",
              "      cursor: pointer;\n",
              "      display: none;\n",
              "      fill: #1967D2;\n",
              "      height: 32px;\n",
              "      padding: 0 0 0 0;\n",
              "      width: 32px;\n",
              "    }\n",
              "\n",
              "    .colab-df-convert:hover {\n",
              "      background-color: #E2EBFA;\n",
              "      box-shadow: 0px 1px 2px rgba(60, 64, 67, 0.3), 0px 1px 3px 1px rgba(60, 64, 67, 0.15);\n",
              "      fill: #174EA6;\n",
              "    }\n",
              "\n",
              "    .colab-df-buttons div {\n",
              "      margin-bottom: 4px;\n",
              "    }\n",
              "\n",
              "    [theme=dark] .colab-df-convert {\n",
              "      background-color: #3B4455;\n",
              "      fill: #D2E3FC;\n",
              "    }\n",
              "\n",
              "    [theme=dark] .colab-df-convert:hover {\n",
              "      background-color: #434B5C;\n",
              "      box-shadow: 0px 1px 3px 1px rgba(0, 0, 0, 0.15);\n",
              "      filter: drop-shadow(0px 1px 2px rgba(0, 0, 0, 0.3));\n",
              "      fill: #FFFFFF;\n",
              "    }\n",
              "  </style>\n",
              "\n",
              "    <script>\n",
              "      const buttonEl =\n",
              "        document.querySelector('#df-a161d1dc-ac7f-4e0b-b27b-3706cda7b0b0 button.colab-df-convert');\n",
              "      buttonEl.style.display =\n",
              "        google.colab.kernel.accessAllowed ? 'block' : 'none';\n",
              "\n",
              "      async function convertToInteractive(key) {\n",
              "        const element = document.querySelector('#df-a161d1dc-ac7f-4e0b-b27b-3706cda7b0b0');\n",
              "        const dataTable =\n",
              "          await google.colab.kernel.invokeFunction('convertToInteractive',\n",
              "                                                    [key], {});\n",
              "        if (!dataTable) return;\n",
              "\n",
              "        const docLinkHtml = 'Like what you see? Visit the ' +\n",
              "          '<a target=\"_blank\" href=https://colab.research.google.com/notebooks/data_table.ipynb>data table notebook</a>'\n",
              "          + ' to learn more about interactive tables.';\n",
              "        element.innerHTML = '';\n",
              "        dataTable['output_type'] = 'display_data';\n",
              "        await google.colab.output.renderOutput(dataTable, element);\n",
              "        const docLink = document.createElement('div');\n",
              "        docLink.innerHTML = docLinkHtml;\n",
              "        element.appendChild(docLink);\n",
              "      }\n",
              "    </script>\n",
              "  </div>\n",
              "\n",
              "\n",
              "    </div>\n",
              "  </div>\n"
            ],
            "application/vnd.google.colaboratory.intrinsic+json": {
              "type": "dataframe",
              "variable_name": "desc_df",
              "summary": "{\n  \"name\": \"desc_df\",\n  \"rows\": 27334,\n  \"fields\": [\n    {\n      \"column\": \"steam_appid\",\n      \"properties\": {\n        \"dtype\": \"number\",\n        \"std\": 251211,\n        \"min\": 10,\n        \"max\": 1069460,\n        \"num_unique_values\": 27334,\n        \"samples\": [\n          200980,\n          872350,\n          396930\n        ],\n        \"semantic_type\": \"\",\n        \"description\": \"\"\n      }\n    },\n    {\n      \"column\": \"detailed_description\",\n      \"properties\": {\n        \"dtype\": \"string\",\n        \"num_unique_values\": 27315,\n        \"samples\": [\n          \"With this modernized History Edition, dive into the diversified mix of enthralling build-up matches and exciting real-time fights. Manifold landscapes await to be explored and populated. Includes the main game plus both expansions.<br />\\r\\n<br />\\r\\nIMPROVEMENT HIGHLIGHTS: Windows 10 compatible, multiplayer via Uplay\",\n          \"-------------------<br><strong>This app contains content typically considered mature, such as frequent nudity, or sexual content.</strong><br>The story of the game is the same as &quot;My Butler&quot; for the smartphone version.<br>-------------------<br><br>- What is &quot;My Butler&quot;?<br>This is a game where you can enjoy falling in love with your personal butler. Each butler is a celebrity; sometimes they'll approach you softly...and sometimes forcefully. <br><br>- The Story<br>When your aunt asks you to work part-time for her talent agency, you didn't expect to be asked to live in her mansion for three months! Living together with you as a butlers are an actor, an idol, or a model \\u2014 all super-famous. But, each one comes with his own problems...<br><br>- The Guys<br>YONEKURA Shohei<br>A popular actor. He's arrogant, and likes to tease people. What's the real intention behind his sweet whispers and doting behavior?<br><br>KIRA Yosuke<br>A famous model who works overseas. He knows how to treat a lady but troubles you every once in a while with his sadistic outbursts.<br><br>KAMISAKI Makoto<br>An idol that everyone's talking about. Even though he's blunt and sarcastic, he tries his best to serve you. It seems like he's been interested in you from the beginning...<br><br>- You should play this game if...<br>...you want to fall in love with a handsome guy.<br>...you like romance novels, manga, or TV shows.<br>...you like romance games.<br>...you like idols and celebrities.<br>...you like butlers.<br><br>-------------------<br>Character design : Kisaragi Mizu (RED FLAGSHIP)\",\n          \"<i>\\u201cTWINKLE STAR SPRITES \\u201d</i>, a competitive 2D top-down view scrolling shooter released on NEOGEO MVS in 1996, departs for new adventures on the Steam gaming platform!<br>Master your shots, and aim for the magical Twinkle Star\\u201d!<h2 class=\\\"bb_tag\\\"> MAIN FEATURES</h2><strong>\\u30fbARCADE:</strong><br>Pick up your favorite character among the 9 cute characters available in \\u201cCHARACTER MODE\\u201d, and play until you clear the game. Choose \\u201cSTORY MODE\\u201d, and accompany \\u201cLord Ran\\u201d in her adventures in search of the lost \\u201cTwinkle Star\\u201d.<br>Play locally in \\u201cVERSUS MODE\\u201d with a friend for intense and epic shooting battles!<br><br><strong>\\u30fbMULTIPLAYER:</strong><br>Connect to Steam, and use the \\u201cINVITE A FRIEND\\u201d and \\u201cLOBBY\\u201d features to play against a buddy or challenge the best players worldwide!<br><br><strong>\\u30fbLEADERBOARDS:</strong><br>Check your current rank &amp; score in <i>\\u201cTWINKLE STAR SPRITES\\u201d</i>  at any time, as well as those of your friends and other top shooters!<br><br><strong>\\u30fbSETTINGS:</strong><br>Configure your language, video, and sound volume settings to your preference for the most pleasant <i>\\u201cTWINKLE STAR SPRITES\\u201d</i> experience ever.<br><br><strong>** WILL NOT RUN ON Windows XP **</strong><br><br><a href=\\\"http://store.steampowered.com/bigpicture/\\\" target=\\\"_blank\\\" rel=\\\"noreferrer\\\"  ><img src=\\\"https://steamcdn-a.akamaihd.net/steam/apps/220440/extras/controller_support.png\\\" ></a>\"\n        ],\n        \"semantic_type\": \"\",\n        \"description\": \"\"\n      }\n    },\n    {\n      \"column\": \"about_the_game\",\n      \"properties\": {\n        \"dtype\": \"string\",\n        \"num_unique_values\": 27315,\n        \"samples\": [\n          \"With this modernized History Edition, dive into the diversified mix of enthralling build-up matches and exciting real-time fights. Manifold landscapes await to be explored and populated. Includes the main game plus both expansions.<br />\\r\\n<br />\\r\\nIMPROVEMENT HIGHLIGHTS: Windows 10 compatible, multiplayer via Uplay\",\n          \"-------------------<br><strong>This app contains content typically considered mature, such as frequent nudity, or sexual content.</strong><br>The story of the game is the same as &quot;My Butler&quot; for the smartphone version.<br>-------------------<br><br>- What is &quot;My Butler&quot;?<br>This is a game where you can enjoy falling in love with your personal butler. Each butler is a celebrity; sometimes they'll approach you softly...and sometimes forcefully. <br><br>- The Story<br>When your aunt asks you to work part-time for her talent agency, you didn't expect to be asked to live in her mansion for three months! Living together with you as a butlers are an actor, an idol, or a model \\u2014 all super-famous. But, each one comes with his own problems...<br><br>- The Guys<br>YONEKURA Shohei<br>A popular actor. He's arrogant, and likes to tease people. What's the real intention behind his sweet whispers and doting behavior?<br><br>KIRA Yosuke<br>A famous model who works overseas. He knows how to treat a lady but troubles you every once in a while with his sadistic outbursts.<br><br>KAMISAKI Makoto<br>An idol that everyone's talking about. Even though he's blunt and sarcastic, he tries his best to serve you. It seems like he's been interested in you from the beginning...<br><br>- You should play this game if...<br>...you want to fall in love with a handsome guy.<br>...you like romance novels, manga, or TV shows.<br>...you like romance games.<br>...you like idols and celebrities.<br>...you like butlers.<br><br>-------------------<br>Character design : Kisaragi Mizu (RED FLAGSHIP)\",\n          \"<i>\\u201cTWINKLE STAR SPRITES \\u201d</i>, a competitive 2D top-down view scrolling shooter released on NEOGEO MVS in 1996, departs for new adventures on the Steam gaming platform!<br>Master your shots, and aim for the magical Twinkle Star\\u201d!<h2 class=\\\"bb_tag\\\"> MAIN FEATURES</h2><strong>\\u30fbARCADE:</strong><br>Pick up your favorite character among the 9 cute characters available in \\u201cCHARACTER MODE\\u201d, and play until you clear the game. Choose \\u201cSTORY MODE\\u201d, and accompany \\u201cLord Ran\\u201d in her adventures in search of the lost \\u201cTwinkle Star\\u201d.<br>Play locally in \\u201cVERSUS MODE\\u201d with a friend for intense and epic shooting battles!<br><br><strong>\\u30fbMULTIPLAYER:</strong><br>Connect to Steam, and use the \\u201cINVITE A FRIEND\\u201d and \\u201cLOBBY\\u201d features to play against a buddy or challenge the best players worldwide!<br><br><strong>\\u30fbLEADERBOARDS:</strong><br>Check your current rank &amp; score in <i>\\u201cTWINKLE STAR SPRITES\\u201d</i>  at any time, as well as those of your friends and other top shooters!<br><br><strong>\\u30fbSETTINGS:</strong><br>Configure your language, video, and sound volume settings to your preference for the most pleasant <i>\\u201cTWINKLE STAR SPRITES\\u201d</i> experience ever.<br><br><strong>** WILL NOT RUN ON Windows XP **</strong><br><br><a href=\\\"http://store.steampowered.com/bigpicture/\\\" target=\\\"_blank\\\" rel=\\\"noreferrer\\\"  ><img src=\\\"https://steamcdn-a.akamaihd.net/steam/apps/220440/extras/controller_support.png\\\" ></a>\"\n        ],\n        \"semantic_type\": \"\",\n        \"description\": \"\"\n      }\n    },\n    {\n      \"column\": \"short_description\",\n      \"properties\": {\n        \"dtype\": \"string\",\n        \"num_unique_values\": 27204,\n        \"samples\": [\n          \"Imagination is the key, as you enter a magical storybook full of mystery and wonder, unusual creatures, and enigmatic puzzles! Create your own original Stickman and then watch it come to life in DRAW A STICKMAN: EPIC 2! Jump in to this action-packed adventure that allows for endless creativity!\",\n          \"Spark the electric jester is an action/platformer video game heavily based on best classics from the 16-bit era from both sides of the aisle.\",\n          \"Professional Farmer: American Dream \\u2013 the latest spin-off from the Professional Farmer series \\u2013 takes you to a ranch set in the captivating landscapes of the Midwest.\"\n        ],\n        \"semantic_type\": \"\",\n        \"description\": \"\"\n      }\n    }\n  ]\n}"
            }
          },
          "metadata": {},
          "execution_count": 9
        }
      ]
    },
    {
      "cell_type": "code",
      "source": [
        "desc_df = desc_df.rename(columns={'steam_appid': 'appid'})"
      ],
      "metadata": {
        "id": "LpDwgY3yVGvX"
      },
      "execution_count": 10,
      "outputs": []
    },
    {
      "cell_type": "code",
      "source": [
        "desc_df.head(1)"
      ],
      "metadata": {
        "colab": {
          "base_uri": "https://localhost:8080/",
          "height": 98
        },
        "id": "yiDqAS7_VI4F",
        "outputId": "04d835ce-4828-4813-b241-125e6f0f9046"
      },
      "execution_count": 11,
      "outputs": [
        {
          "output_type": "execute_result",
          "data": {
            "text/plain": [
              "   appid                               detailed_description  \\\n",
              "0     10  Play the world's number 1 online action game. ...   \n",
              "\n",
              "                                      about_the_game  \\\n",
              "0  Play the world's number 1 online action game. ...   \n",
              "\n",
              "                                   short_description  \n",
              "0  Play the world's number 1 online action game. ...  "
            ],
            "text/html": [
              "\n",
              "  <div id=\"df-0f039f06-24f5-4566-b075-739fbeccacdc\" class=\"colab-df-container\">\n",
              "    <div>\n",
              "<style scoped>\n",
              "    .dataframe tbody tr th:only-of-type {\n",
              "        vertical-align: middle;\n",
              "    }\n",
              "\n",
              "    .dataframe tbody tr th {\n",
              "        vertical-align: top;\n",
              "    }\n",
              "\n",
              "    .dataframe thead th {\n",
              "        text-align: right;\n",
              "    }\n",
              "</style>\n",
              "<table border=\"1\" class=\"dataframe\">\n",
              "  <thead>\n",
              "    <tr style=\"text-align: right;\">\n",
              "      <th></th>\n",
              "      <th>appid</th>\n",
              "      <th>detailed_description</th>\n",
              "      <th>about_the_game</th>\n",
              "      <th>short_description</th>\n",
              "    </tr>\n",
              "  </thead>\n",
              "  <tbody>\n",
              "    <tr>\n",
              "      <th>0</th>\n",
              "      <td>10</td>\n",
              "      <td>Play the world's number 1 online action game. ...</td>\n",
              "      <td>Play the world's number 1 online action game. ...</td>\n",
              "      <td>Play the world's number 1 online action game. ...</td>\n",
              "    </tr>\n",
              "  </tbody>\n",
              "</table>\n",
              "</div>\n",
              "    <div class=\"colab-df-buttons\">\n",
              "\n",
              "  <div class=\"colab-df-container\">\n",
              "    <button class=\"colab-df-convert\" onclick=\"convertToInteractive('df-0f039f06-24f5-4566-b075-739fbeccacdc')\"\n",
              "            title=\"Convert this dataframe to an interactive table.\"\n",
              "            style=\"display:none;\">\n",
              "\n",
              "  <svg xmlns=\"http://www.w3.org/2000/svg\" height=\"24px\" viewBox=\"0 -960 960 960\">\n",
              "    <path d=\"M120-120v-720h720v720H120Zm60-500h600v-160H180v160Zm220 220h160v-160H400v160Zm0 220h160v-160H400v160ZM180-400h160v-160H180v160Zm440 0h160v-160H620v160ZM180-180h160v-160H180v160Zm440 0h160v-160H620v160Z\"/>\n",
              "  </svg>\n",
              "    </button>\n",
              "\n",
              "  <style>\n",
              "    .colab-df-container {\n",
              "      display:flex;\n",
              "      gap: 12px;\n",
              "    }\n",
              "\n",
              "    .colab-df-convert {\n",
              "      background-color: #E8F0FE;\n",
              "      border: none;\n",
              "      border-radius: 50%;\n",
              "      cursor: pointer;\n",
              "      display: none;\n",
              "      fill: #1967D2;\n",
              "      height: 32px;\n",
              "      padding: 0 0 0 0;\n",
              "      width: 32px;\n",
              "    }\n",
              "\n",
              "    .colab-df-convert:hover {\n",
              "      background-color: #E2EBFA;\n",
              "      box-shadow: 0px 1px 2px rgba(60, 64, 67, 0.3), 0px 1px 3px 1px rgba(60, 64, 67, 0.15);\n",
              "      fill: #174EA6;\n",
              "    }\n",
              "\n",
              "    .colab-df-buttons div {\n",
              "      margin-bottom: 4px;\n",
              "    }\n",
              "\n",
              "    [theme=dark] .colab-df-convert {\n",
              "      background-color: #3B4455;\n",
              "      fill: #D2E3FC;\n",
              "    }\n",
              "\n",
              "    [theme=dark] .colab-df-convert:hover {\n",
              "      background-color: #434B5C;\n",
              "      box-shadow: 0px 1px 3px 1px rgba(0, 0, 0, 0.15);\n",
              "      filter: drop-shadow(0px 1px 2px rgba(0, 0, 0, 0.3));\n",
              "      fill: #FFFFFF;\n",
              "    }\n",
              "  </style>\n",
              "\n",
              "    <script>\n",
              "      const buttonEl =\n",
              "        document.querySelector('#df-0f039f06-24f5-4566-b075-739fbeccacdc button.colab-df-convert');\n",
              "      buttonEl.style.display =\n",
              "        google.colab.kernel.accessAllowed ? 'block' : 'none';\n",
              "\n",
              "      async function convertToInteractive(key) {\n",
              "        const element = document.querySelector('#df-0f039f06-24f5-4566-b075-739fbeccacdc');\n",
              "        const dataTable =\n",
              "          await google.colab.kernel.invokeFunction('convertToInteractive',\n",
              "                                                    [key], {});\n",
              "        if (!dataTable) return;\n",
              "\n",
              "        const docLinkHtml = 'Like what you see? Visit the ' +\n",
              "          '<a target=\"_blank\" href=https://colab.research.google.com/notebooks/data_table.ipynb>data table notebook</a>'\n",
              "          + ' to learn more about interactive tables.';\n",
              "        element.innerHTML = '';\n",
              "        dataTable['output_type'] = 'display_data';\n",
              "        await google.colab.output.renderOutput(dataTable, element);\n",
              "        const docLink = document.createElement('div');\n",
              "        docLink.innerHTML = docLinkHtml;\n",
              "        element.appendChild(docLink);\n",
              "      }\n",
              "    </script>\n",
              "  </div>\n",
              "\n",
              "\n",
              "    </div>\n",
              "  </div>\n"
            ],
            "application/vnd.google.colaboratory.intrinsic+json": {
              "type": "dataframe",
              "variable_name": "desc_df",
              "summary": "{\n  \"name\": \"desc_df\",\n  \"rows\": 27334,\n  \"fields\": [\n    {\n      \"column\": \"appid\",\n      \"properties\": {\n        \"dtype\": \"number\",\n        \"std\": 251211,\n        \"min\": 10,\n        \"max\": 1069460,\n        \"num_unique_values\": 27334,\n        \"samples\": [\n          200980,\n          872350,\n          396930\n        ],\n        \"semantic_type\": \"\",\n        \"description\": \"\"\n      }\n    },\n    {\n      \"column\": \"detailed_description\",\n      \"properties\": {\n        \"dtype\": \"string\",\n        \"num_unique_values\": 27315,\n        \"samples\": [\n          \"With this modernized History Edition, dive into the diversified mix of enthralling build-up matches and exciting real-time fights. Manifold landscapes await to be explored and populated. Includes the main game plus both expansions.<br />\\r\\n<br />\\r\\nIMPROVEMENT HIGHLIGHTS: Windows 10 compatible, multiplayer via Uplay\",\n          \"-------------------<br><strong>This app contains content typically considered mature, such as frequent nudity, or sexual content.</strong><br>The story of the game is the same as &quot;My Butler&quot; for the smartphone version.<br>-------------------<br><br>- What is &quot;My Butler&quot;?<br>This is a game where you can enjoy falling in love with your personal butler. Each butler is a celebrity; sometimes they'll approach you softly...and sometimes forcefully. <br><br>- The Story<br>When your aunt asks you to work part-time for her talent agency, you didn't expect to be asked to live in her mansion for three months! Living together with you as a butlers are an actor, an idol, or a model \\u2014 all super-famous. But, each one comes with his own problems...<br><br>- The Guys<br>YONEKURA Shohei<br>A popular actor. He's arrogant, and likes to tease people. What's the real intention behind his sweet whispers and doting behavior?<br><br>KIRA Yosuke<br>A famous model who works overseas. He knows how to treat a lady but troubles you every once in a while with his sadistic outbursts.<br><br>KAMISAKI Makoto<br>An idol that everyone's talking about. Even though he's blunt and sarcastic, he tries his best to serve you. It seems like he's been interested in you from the beginning...<br><br>- You should play this game if...<br>...you want to fall in love with a handsome guy.<br>...you like romance novels, manga, or TV shows.<br>...you like romance games.<br>...you like idols and celebrities.<br>...you like butlers.<br><br>-------------------<br>Character design : Kisaragi Mizu (RED FLAGSHIP)\",\n          \"<i>\\u201cTWINKLE STAR SPRITES \\u201d</i>, a competitive 2D top-down view scrolling shooter released on NEOGEO MVS in 1996, departs for new adventures on the Steam gaming platform!<br>Master your shots, and aim for the magical Twinkle Star\\u201d!<h2 class=\\\"bb_tag\\\"> MAIN FEATURES</h2><strong>\\u30fbARCADE:</strong><br>Pick up your favorite character among the 9 cute characters available in \\u201cCHARACTER MODE\\u201d, and play until you clear the game. Choose \\u201cSTORY MODE\\u201d, and accompany \\u201cLord Ran\\u201d in her adventures in search of the lost \\u201cTwinkle Star\\u201d.<br>Play locally in \\u201cVERSUS MODE\\u201d with a friend for intense and epic shooting battles!<br><br><strong>\\u30fbMULTIPLAYER:</strong><br>Connect to Steam, and use the \\u201cINVITE A FRIEND\\u201d and \\u201cLOBBY\\u201d features to play against a buddy or challenge the best players worldwide!<br><br><strong>\\u30fbLEADERBOARDS:</strong><br>Check your current rank &amp; score in <i>\\u201cTWINKLE STAR SPRITES\\u201d</i>  at any time, as well as those of your friends and other top shooters!<br><br><strong>\\u30fbSETTINGS:</strong><br>Configure your language, video, and sound volume settings to your preference for the most pleasant <i>\\u201cTWINKLE STAR SPRITES\\u201d</i> experience ever.<br><br><strong>** WILL NOT RUN ON Windows XP **</strong><br><br><a href=\\\"http://store.steampowered.com/bigpicture/\\\" target=\\\"_blank\\\" rel=\\\"noreferrer\\\"  ><img src=\\\"https://steamcdn-a.akamaihd.net/steam/apps/220440/extras/controller_support.png\\\" ></a>\"\n        ],\n        \"semantic_type\": \"\",\n        \"description\": \"\"\n      }\n    },\n    {\n      \"column\": \"about_the_game\",\n      \"properties\": {\n        \"dtype\": \"string\",\n        \"num_unique_values\": 27315,\n        \"samples\": [\n          \"With this modernized History Edition, dive into the diversified mix of enthralling build-up matches and exciting real-time fights. Manifold landscapes await to be explored and populated. Includes the main game plus both expansions.<br />\\r\\n<br />\\r\\nIMPROVEMENT HIGHLIGHTS: Windows 10 compatible, multiplayer via Uplay\",\n          \"-------------------<br><strong>This app contains content typically considered mature, such as frequent nudity, or sexual content.</strong><br>The story of the game is the same as &quot;My Butler&quot; for the smartphone version.<br>-------------------<br><br>- What is &quot;My Butler&quot;?<br>This is a game where you can enjoy falling in love with your personal butler. Each butler is a celebrity; sometimes they'll approach you softly...and sometimes forcefully. <br><br>- The Story<br>When your aunt asks you to work part-time for her talent agency, you didn't expect to be asked to live in her mansion for three months! Living together with you as a butlers are an actor, an idol, or a model \\u2014 all super-famous. But, each one comes with his own problems...<br><br>- The Guys<br>YONEKURA Shohei<br>A popular actor. He's arrogant, and likes to tease people. What's the real intention behind his sweet whispers and doting behavior?<br><br>KIRA Yosuke<br>A famous model who works overseas. He knows how to treat a lady but troubles you every once in a while with his sadistic outbursts.<br><br>KAMISAKI Makoto<br>An idol that everyone's talking about. Even though he's blunt and sarcastic, he tries his best to serve you. It seems like he's been interested in you from the beginning...<br><br>- You should play this game if...<br>...you want to fall in love with a handsome guy.<br>...you like romance novels, manga, or TV shows.<br>...you like romance games.<br>...you like idols and celebrities.<br>...you like butlers.<br><br>-------------------<br>Character design : Kisaragi Mizu (RED FLAGSHIP)\",\n          \"<i>\\u201cTWINKLE STAR SPRITES \\u201d</i>, a competitive 2D top-down view scrolling shooter released on NEOGEO MVS in 1996, departs for new adventures on the Steam gaming platform!<br>Master your shots, and aim for the magical Twinkle Star\\u201d!<h2 class=\\\"bb_tag\\\"> MAIN FEATURES</h2><strong>\\u30fbARCADE:</strong><br>Pick up your favorite character among the 9 cute characters available in \\u201cCHARACTER MODE\\u201d, and play until you clear the game. Choose \\u201cSTORY MODE\\u201d, and accompany \\u201cLord Ran\\u201d in her adventures in search of the lost \\u201cTwinkle Star\\u201d.<br>Play locally in \\u201cVERSUS MODE\\u201d with a friend for intense and epic shooting battles!<br><br><strong>\\u30fbMULTIPLAYER:</strong><br>Connect to Steam, and use the \\u201cINVITE A FRIEND\\u201d and \\u201cLOBBY\\u201d features to play against a buddy or challenge the best players worldwide!<br><br><strong>\\u30fbLEADERBOARDS:</strong><br>Check your current rank &amp; score in <i>\\u201cTWINKLE STAR SPRITES\\u201d</i>  at any time, as well as those of your friends and other top shooters!<br><br><strong>\\u30fbSETTINGS:</strong><br>Configure your language, video, and sound volume settings to your preference for the most pleasant <i>\\u201cTWINKLE STAR SPRITES\\u201d</i> experience ever.<br><br><strong>** WILL NOT RUN ON Windows XP **</strong><br><br><a href=\\\"http://store.steampowered.com/bigpicture/\\\" target=\\\"_blank\\\" rel=\\\"noreferrer\\\"  ><img src=\\\"https://steamcdn-a.akamaihd.net/steam/apps/220440/extras/controller_support.png\\\" ></a>\"\n        ],\n        \"semantic_type\": \"\",\n        \"description\": \"\"\n      }\n    },\n    {\n      \"column\": \"short_description\",\n      \"properties\": {\n        \"dtype\": \"string\",\n        \"num_unique_values\": 27204,\n        \"samples\": [\n          \"Imagination is the key, as you enter a magical storybook full of mystery and wonder, unusual creatures, and enigmatic puzzles! Create your own original Stickman and then watch it come to life in DRAW A STICKMAN: EPIC 2! Jump in to this action-packed adventure that allows for endless creativity!\",\n          \"Spark the electric jester is an action/platformer video game heavily based on best classics from the 16-bit era from both sides of the aisle.\",\n          \"Professional Farmer: American Dream \\u2013 the latest spin-off from the Professional Farmer series \\u2013 takes you to a ranch set in the captivating landscapes of the Midwest.\"\n        ],\n        \"semantic_type\": \"\",\n        \"description\": \"\"\n      }\n    }\n  ]\n}"
            }
          },
          "metadata": {},
          "execution_count": 11
        }
      ]
    },
    {
      "cell_type": "code",
      "source": [
        "media_df.head(1)"
      ],
      "metadata": {
        "colab": {
          "base_uri": "https://localhost:8080/",
          "height": 135
        },
        "id": "m_SPGQ1fT8b8",
        "outputId": "e3419519-7de3-47c9-f9e2-157282ff260e"
      },
      "execution_count": 12,
      "outputs": [
        {
          "output_type": "execute_result",
          "data": {
            "text/plain": [
              "   steam_appid                                       header_image  \\\n",
              "0           10  https://steamcdn-a.akamaihd.net/steam/apps/10/...   \n",
              "\n",
              "                                         screenshots  \\\n",
              "0  [{'id': 0, 'path_thumbnail': 'https://steamcdn...   \n",
              "\n",
              "                                          background movies  \n",
              "0  https://steamcdn-a.akamaihd.net/steam/apps/10/...    NaN  "
            ],
            "text/html": [
              "\n",
              "  <div id=\"df-050e1d70-02c5-4313-86f7-cc673e088652\" class=\"colab-df-container\">\n",
              "    <div>\n",
              "<style scoped>\n",
              "    .dataframe tbody tr th:only-of-type {\n",
              "        vertical-align: middle;\n",
              "    }\n",
              "\n",
              "    .dataframe tbody tr th {\n",
              "        vertical-align: top;\n",
              "    }\n",
              "\n",
              "    .dataframe thead th {\n",
              "        text-align: right;\n",
              "    }\n",
              "</style>\n",
              "<table border=\"1\" class=\"dataframe\">\n",
              "  <thead>\n",
              "    <tr style=\"text-align: right;\">\n",
              "      <th></th>\n",
              "      <th>steam_appid</th>\n",
              "      <th>header_image</th>\n",
              "      <th>screenshots</th>\n",
              "      <th>background</th>\n",
              "      <th>movies</th>\n",
              "    </tr>\n",
              "  </thead>\n",
              "  <tbody>\n",
              "    <tr>\n",
              "      <th>0</th>\n",
              "      <td>10</td>\n",
              "      <td>https://steamcdn-a.akamaihd.net/steam/apps/10/...</td>\n",
              "      <td>[{'id': 0, 'path_thumbnail': 'https://steamcdn...</td>\n",
              "      <td>https://steamcdn-a.akamaihd.net/steam/apps/10/...</td>\n",
              "      <td>NaN</td>\n",
              "    </tr>\n",
              "  </tbody>\n",
              "</table>\n",
              "</div>\n",
              "    <div class=\"colab-df-buttons\">\n",
              "\n",
              "  <div class=\"colab-df-container\">\n",
              "    <button class=\"colab-df-convert\" onclick=\"convertToInteractive('df-050e1d70-02c5-4313-86f7-cc673e088652')\"\n",
              "            title=\"Convert this dataframe to an interactive table.\"\n",
              "            style=\"display:none;\">\n",
              "\n",
              "  <svg xmlns=\"http://www.w3.org/2000/svg\" height=\"24px\" viewBox=\"0 -960 960 960\">\n",
              "    <path d=\"M120-120v-720h720v720H120Zm60-500h600v-160H180v160Zm220 220h160v-160H400v160Zm0 220h160v-160H400v160ZM180-400h160v-160H180v160Zm440 0h160v-160H620v160ZM180-180h160v-160H180v160Zm440 0h160v-160H620v160Z\"/>\n",
              "  </svg>\n",
              "    </button>\n",
              "\n",
              "  <style>\n",
              "    .colab-df-container {\n",
              "      display:flex;\n",
              "      gap: 12px;\n",
              "    }\n",
              "\n",
              "    .colab-df-convert {\n",
              "      background-color: #E8F0FE;\n",
              "      border: none;\n",
              "      border-radius: 50%;\n",
              "      cursor: pointer;\n",
              "      display: none;\n",
              "      fill: #1967D2;\n",
              "      height: 32px;\n",
              "      padding: 0 0 0 0;\n",
              "      width: 32px;\n",
              "    }\n",
              "\n",
              "    .colab-df-convert:hover {\n",
              "      background-color: #E2EBFA;\n",
              "      box-shadow: 0px 1px 2px rgba(60, 64, 67, 0.3), 0px 1px 3px 1px rgba(60, 64, 67, 0.15);\n",
              "      fill: #174EA6;\n",
              "    }\n",
              "\n",
              "    .colab-df-buttons div {\n",
              "      margin-bottom: 4px;\n",
              "    }\n",
              "\n",
              "    [theme=dark] .colab-df-convert {\n",
              "      background-color: #3B4455;\n",
              "      fill: #D2E3FC;\n",
              "    }\n",
              "\n",
              "    [theme=dark] .colab-df-convert:hover {\n",
              "      background-color: #434B5C;\n",
              "      box-shadow: 0px 1px 3px 1px rgba(0, 0, 0, 0.15);\n",
              "      filter: drop-shadow(0px 1px 2px rgba(0, 0, 0, 0.3));\n",
              "      fill: #FFFFFF;\n",
              "    }\n",
              "  </style>\n",
              "\n",
              "    <script>\n",
              "      const buttonEl =\n",
              "        document.querySelector('#df-050e1d70-02c5-4313-86f7-cc673e088652 button.colab-df-convert');\n",
              "      buttonEl.style.display =\n",
              "        google.colab.kernel.accessAllowed ? 'block' : 'none';\n",
              "\n",
              "      async function convertToInteractive(key) {\n",
              "        const element = document.querySelector('#df-050e1d70-02c5-4313-86f7-cc673e088652');\n",
              "        const dataTable =\n",
              "          await google.colab.kernel.invokeFunction('convertToInteractive',\n",
              "                                                    [key], {});\n",
              "        if (!dataTable) return;\n",
              "\n",
              "        const docLinkHtml = 'Like what you see? Visit the ' +\n",
              "          '<a target=\"_blank\" href=https://colab.research.google.com/notebooks/data_table.ipynb>data table notebook</a>'\n",
              "          + ' to learn more about interactive tables.';\n",
              "        element.innerHTML = '';\n",
              "        dataTable['output_type'] = 'display_data';\n",
              "        await google.colab.output.renderOutput(dataTable, element);\n",
              "        const docLink = document.createElement('div');\n",
              "        docLink.innerHTML = docLinkHtml;\n",
              "        element.appendChild(docLink);\n",
              "      }\n",
              "    </script>\n",
              "  </div>\n",
              "\n",
              "\n",
              "    </div>\n",
              "  </div>\n"
            ],
            "application/vnd.google.colaboratory.intrinsic+json": {
              "type": "dataframe",
              "variable_name": "media_df",
              "summary": "{\n  \"name\": \"media_df\",\n  \"rows\": 27332,\n  \"fields\": [\n    {\n      \"column\": \"steam_appid\",\n      \"properties\": {\n        \"dtype\": \"number\",\n        \"std\": 251212,\n        \"min\": 10,\n        \"max\": 1069460,\n        \"num_unique_values\": 27332,\n        \"samples\": [\n          200980,\n          872340,\n          396930\n        ],\n        \"semantic_type\": \"\",\n        \"description\": \"\"\n      }\n    },\n    {\n      \"column\": \"header_image\",\n      \"properties\": {\n        \"dtype\": \"string\",\n        \"num_unique_values\": 27332,\n        \"samples\": [\n          \"https://steamcdn-a.akamaihd.net/steam/apps/200980/header.jpg?t=1447354714\",\n          \"https://steamcdn-a.akamaihd.net/steam/apps/872340/header.jpg?t=1550178088\",\n          \"https://steamcdn-a.akamaihd.net/steam/apps/396930/header.jpg?t=1462749923\"\n        ],\n        \"semantic_type\": \"\",\n        \"description\": \"\"\n      }\n    },\n    {\n      \"column\": \"screenshots\",\n      \"properties\": {\n        \"dtype\": \"string\",\n        \"num_unique_values\": 27332,\n        \"samples\": [\n          \"[{'id': 0, 'path_thumbnail': 'https://steamcdn-a.akamaihd.net/steam/apps/200980/ss_7aa4dcb9cf357361245d175eb6852a6890ef946d.600x338.jpg?t=1447354714', 'path_full': 'https://steamcdn-a.akamaihd.net/steam/apps/200980/ss_7aa4dcb9cf357361245d175eb6852a6890ef946d.1920x1080.jpg?t=1447354714'}, {'id': 1, 'path_thumbnail': 'https://steamcdn-a.akamaihd.net/steam/apps/200980/ss_c121268354bb17ac503b47ec6fd51579a4d66b68.600x338.jpg?t=1447354714', 'path_full': 'https://steamcdn-a.akamaihd.net/steam/apps/200980/ss_c121268354bb17ac503b47ec6fd51579a4d66b68.1920x1080.jpg?t=1447354714'}, {'id': 2, 'path_thumbnail': 'https://steamcdn-a.akamaihd.net/steam/apps/200980/ss_23c001d43f10fd0ead2f29b4d5a6ea6f218125f0.600x338.jpg?t=1447354714', 'path_full': 'https://steamcdn-a.akamaihd.net/steam/apps/200980/ss_23c001d43f10fd0ead2f29b4d5a6ea6f218125f0.1920x1080.jpg?t=1447354714'}, {'id': 3, 'path_thumbnail': 'https://steamcdn-a.akamaihd.net/steam/apps/200980/ss_bb13ce778d720869fe3a247c7e58a651178ee2bd.600x338.jpg?t=1447354714', 'path_full': 'https://steamcdn-a.akamaihd.net/steam/apps/200980/ss_bb13ce778d720869fe3a247c7e58a651178ee2bd.1920x1080.jpg?t=1447354714'}, {'id': 4, 'path_thumbnail': 'https://steamcdn-a.akamaihd.net/steam/apps/200980/ss_2c9aceda6851d10ff4f720a1dbf65698db824365.600x338.jpg?t=1447354714', 'path_full': 'https://steamcdn-a.akamaihd.net/steam/apps/200980/ss_2c9aceda6851d10ff4f720a1dbf65698db824365.1920x1080.jpg?t=1447354714'}]\",\n          \"[{'id': 0, 'path_thumbnail': 'https://steamcdn-a.akamaihd.net/steam/apps/872340/ss_44184e6265bf6594a9935f2e243c6b2aad645b0a.600x338.jpg?t=1550178088', 'path_full': 'https://steamcdn-a.akamaihd.net/steam/apps/872340/ss_44184e6265bf6594a9935f2e243c6b2aad645b0a.1920x1080.jpg?t=1550178088'}, {'id': 1, 'path_thumbnail': 'https://steamcdn-a.akamaihd.net/steam/apps/872340/ss_935d41edf98d258ce9a9f253a0774372a88dbfc4.600x338.jpg?t=1550178088', 'path_full': 'https://steamcdn-a.akamaihd.net/steam/apps/872340/ss_935d41edf98d258ce9a9f253a0774372a88dbfc4.1920x1080.jpg?t=1550178088'}, {'id': 2, 'path_thumbnail': 'https://steamcdn-a.akamaihd.net/steam/apps/872340/ss_3eb7704e54a4a1512b0f90091ca0ce830cb9b84f.600x338.jpg?t=1550178088', 'path_full': 'https://steamcdn-a.akamaihd.net/steam/apps/872340/ss_3eb7704e54a4a1512b0f90091ca0ce830cb9b84f.1920x1080.jpg?t=1550178088'}, {'id': 3, 'path_thumbnail': 'https://steamcdn-a.akamaihd.net/steam/apps/872340/ss_205604ebb6cc2002fd7db6feec5fbddb4b9edd59.600x338.jpg?t=1550178088', 'path_full': 'https://steamcdn-a.akamaihd.net/steam/apps/872340/ss_205604ebb6cc2002fd7db6feec5fbddb4b9edd59.1920x1080.jpg?t=1550178088'}, {'id': 4, 'path_thumbnail': 'https://steamcdn-a.akamaihd.net/steam/apps/872340/ss_5c65be43c96fffe9cea794dc3fcf12703a15e2b6.600x338.jpg?t=1550178088', 'path_full': 'https://steamcdn-a.akamaihd.net/steam/apps/872340/ss_5c65be43c96fffe9cea794dc3fcf12703a15e2b6.1920x1080.jpg?t=1550178088'}, {'id': 5, 'path_thumbnail': 'https://steamcdn-a.akamaihd.net/steam/apps/872340/ss_f6564e08dc10651f9d3fa28818612c8d02e5a0fb.600x338.jpg?t=1550178088', 'path_full': 'https://steamcdn-a.akamaihd.net/steam/apps/872340/ss_f6564e08dc10651f9d3fa28818612c8d02e5a0fb.1920x1080.jpg?t=1550178088'}, {'id': 6, 'path_thumbnail': 'https://steamcdn-a.akamaihd.net/steam/apps/872340/ss_2a914ea39885ff351fb167422fa34ef76afcb5b7.600x338.jpg?t=1550178088', 'path_full': 'https://steamcdn-a.akamaihd.net/steam/apps/872340/ss_2a914ea39885ff351fb167422fa34ef76afcb5b7.1920x1080.jpg?t=1550178088'}, {'id': 7, 'path_thumbnail': 'https://steamcdn-a.akamaihd.net/steam/apps/872340/ss_eb423834b0ca2d66649e9ca50a1a73daf2a59516.600x338.jpg?t=1550178088', 'path_full': 'https://steamcdn-a.akamaihd.net/steam/apps/872340/ss_eb423834b0ca2d66649e9ca50a1a73daf2a59516.1920x1080.jpg?t=1550178088'}, {'id': 8, 'path_thumbnail': 'https://steamcdn-a.akamaihd.net/steam/apps/872340/ss_184caecb959d06b0a8cbef753c04be240a9c1a07.600x338.jpg?t=1550178088', 'path_full': 'https://steamcdn-a.akamaihd.net/steam/apps/872340/ss_184caecb959d06b0a8cbef753c04be240a9c1a07.1920x1080.jpg?t=1550178088'}, {'id': 9, 'path_thumbnail': 'https://steamcdn-a.akamaihd.net/steam/apps/872340/ss_66d96498a14105bc49820c0cfc809ae1c2b82d3e.600x338.jpg?t=1550178088', 'path_full': 'https://steamcdn-a.akamaihd.net/steam/apps/872340/ss_66d96498a14105bc49820c0cfc809ae1c2b82d3e.1920x1080.jpg?t=1550178088'}, {'id': 10, 'path_thumbnail': 'https://steamcdn-a.akamaihd.net/steam/apps/872340/ss_77cfaa653dcf18ab89bd2e5788483c6c6dca5729.600x338.jpg?t=1550178088', 'path_full': 'https://steamcdn-a.akamaihd.net/steam/apps/872340/ss_77cfaa653dcf18ab89bd2e5788483c6c6dca5729.1920x1080.jpg?t=1550178088'}, {'id': 11, 'path_thumbnail': 'https://steamcdn-a.akamaihd.net/steam/apps/872340/ss_9bd2a1fea0182a5ef8c22078ddf5ae8ed6668e5d.600x338.jpg?t=1550178088', 'path_full': 'https://steamcdn-a.akamaihd.net/steam/apps/872340/ss_9bd2a1fea0182a5ef8c22078ddf5ae8ed6668e5d.1920x1080.jpg?t=1550178088'}, {'id': 12, 'path_thumbnail': 'https://steamcdn-a.akamaihd.net/steam/apps/872340/ss_989b02a3afc04525b81d96d6db8415637bb3d864.600x338.jpg?t=1550178088', 'path_full': 'https://steamcdn-a.akamaihd.net/steam/apps/872340/ss_989b02a3afc04525b81d96d6db8415637bb3d864.1920x1080.jpg?t=1550178088'}]\",\n          \"[{'id': 0, 'path_thumbnail': 'https://steamcdn-a.akamaihd.net/steam/apps/396930/ss_08baa915c19002eef0c3125a24529060f2a8ddee.600x338.jpg?t=1462749923', 'path_full': 'https://steamcdn-a.akamaihd.net/steam/apps/396930/ss_08baa915c19002eef0c3125a24529060f2a8ddee.1920x1080.jpg?t=1462749923'}, {'id': 1, 'path_thumbnail': 'https://steamcdn-a.akamaihd.net/steam/apps/396930/ss_109df2242beda4b7ed87626ba5a06c76def2c707.600x338.jpg?t=1462749923', 'path_full': 'https://steamcdn-a.akamaihd.net/steam/apps/396930/ss_109df2242beda4b7ed87626ba5a06c76def2c707.1920x1080.jpg?t=1462749923'}, {'id': 2, 'path_thumbnail': 'https://steamcdn-a.akamaihd.net/steam/apps/396930/ss_8799b97e4d4cbd57e6dd35ba2f3af0df19d72950.600x338.jpg?t=1462749923', 'path_full': 'https://steamcdn-a.akamaihd.net/steam/apps/396930/ss_8799b97e4d4cbd57e6dd35ba2f3af0df19d72950.1920x1080.jpg?t=1462749923'}, {'id': 3, 'path_thumbnail': 'https://steamcdn-a.akamaihd.net/steam/apps/396930/ss_57fbd73626b40223ac56b52162cf6e18d5892d93.600x338.jpg?t=1462749923', 'path_full': 'https://steamcdn-a.akamaihd.net/steam/apps/396930/ss_57fbd73626b40223ac56b52162cf6e18d5892d93.1920x1080.jpg?t=1462749923'}, {'id': 4, 'path_thumbnail': 'https://steamcdn-a.akamaihd.net/steam/apps/396930/ss_a6df104159d12f634df785b360b58222bbaba056.600x338.jpg?t=1462749923', 'path_full': 'https://steamcdn-a.akamaihd.net/steam/apps/396930/ss_a6df104159d12f634df785b360b58222bbaba056.1920x1080.jpg?t=1462749923'}, {'id': 5, 'path_thumbnail': 'https://steamcdn-a.akamaihd.net/steam/apps/396930/ss_8b30be511cd7c4fca213d8a8338500164b97b877.600x338.jpg?t=1462749923', 'path_full': 'https://steamcdn-a.akamaihd.net/steam/apps/396930/ss_8b30be511cd7c4fca213d8a8338500164b97b877.1920x1080.jpg?t=1462749923'}, {'id': 6, 'path_thumbnail': 'https://steamcdn-a.akamaihd.net/steam/apps/396930/ss_dde87d19dbce888b609d2092c38284166de903c9.600x338.jpg?t=1462749923', 'path_full': 'https://steamcdn-a.akamaihd.net/steam/apps/396930/ss_dde87d19dbce888b609d2092c38284166de903c9.1920x1080.jpg?t=1462749923'}, {'id': 7, 'path_thumbnail': 'https://steamcdn-a.akamaihd.net/steam/apps/396930/ss_09cf9712ec6ff6f4ee36bd7c7e6ec59d209cc786.600x338.jpg?t=1462749923', 'path_full': 'https://steamcdn-a.akamaihd.net/steam/apps/396930/ss_09cf9712ec6ff6f4ee36bd7c7e6ec59d209cc786.1920x1080.jpg?t=1462749923'}, {'id': 8, 'path_thumbnail': 'https://steamcdn-a.akamaihd.net/steam/apps/396930/ss_3f4474ccfaa74e6f9577990ef2748c7a35899255.600x338.jpg?t=1462749923', 'path_full': 'https://steamcdn-a.akamaihd.net/steam/apps/396930/ss_3f4474ccfaa74e6f9577990ef2748c7a35899255.1920x1080.jpg?t=1462749923'}, {'id': 9, 'path_thumbnail': 'https://steamcdn-a.akamaihd.net/steam/apps/396930/ss_2446d25574ccd034acabe9e7d7137172fee63338.600x338.jpg?t=1462749923', 'path_full': 'https://steamcdn-a.akamaihd.net/steam/apps/396930/ss_2446d25574ccd034acabe9e7d7137172fee63338.1920x1080.jpg?t=1462749923'}, {'id': 10, 'path_thumbnail': 'https://steamcdn-a.akamaihd.net/steam/apps/396930/ss_550a1bde701f1355f25c73e5f00108887d3a7e6a.600x338.jpg?t=1462749923', 'path_full': 'https://steamcdn-a.akamaihd.net/steam/apps/396930/ss_550a1bde701f1355f25c73e5f00108887d3a7e6a.1920x1080.jpg?t=1462749923'}, {'id': 11, 'path_thumbnail': 'https://steamcdn-a.akamaihd.net/steam/apps/396930/ss_d2511dabf85fdbd10b54eb2b3f5904b02a84fc9a.600x338.jpg?t=1462749923', 'path_full': 'https://steamcdn-a.akamaihd.net/steam/apps/396930/ss_d2511dabf85fdbd10b54eb2b3f5904b02a84fc9a.1920x1080.jpg?t=1462749923'}, {'id': 12, 'path_thumbnail': 'https://steamcdn-a.akamaihd.net/steam/apps/396930/ss_aab02f4a91cdc3703388147a3f990e75fb244958.600x338.jpg?t=1462749923', 'path_full': 'https://steamcdn-a.akamaihd.net/steam/apps/396930/ss_aab02f4a91cdc3703388147a3f990e75fb244958.1920x1080.jpg?t=1462749923'}, {'id': 13, 'path_thumbnail': 'https://steamcdn-a.akamaihd.net/steam/apps/396930/ss_473f6d3c14446cfdd01857e6519592e45117bda7.600x338.jpg?t=1462749923', 'path_full': 'https://steamcdn-a.akamaihd.net/steam/apps/396930/ss_473f6d3c14446cfdd01857e6519592e45117bda7.1920x1080.jpg?t=1462749923'}, {'id': 14, 'path_thumbnail': 'https://steamcdn-a.akamaihd.net/steam/apps/396930/ss_31e37fb19bc02dedf002b4cf08dc74c71522a418.600x338.jpg?t=1462749923', 'path_full': 'https://steamcdn-a.akamaihd.net/steam/apps/396930/ss_31e37fb19bc02dedf002b4cf08dc74c71522a418.1920x1080.jpg?t=1462749923'}]\"\n        ],\n        \"semantic_type\": \"\",\n        \"description\": \"\"\n      }\n    },\n    {\n      \"column\": \"background\",\n      \"properties\": {\n        \"dtype\": \"string\",\n        \"num_unique_values\": 27332,\n        \"samples\": [\n          \"https://steamcdn-a.akamaihd.net/steam/apps/200980/page_bg_generated_v6b.jpg?t=1447354714\",\n          \"https://steamcdn-a.akamaihd.net/steam/apps/872340/page_bg_generated_v6b.jpg?t=1550178088\",\n          \"https://steamcdn-a.akamaihd.net/steam/apps/396930/page_bg_generated_v6b.jpg?t=1462749923\"\n        ],\n        \"semantic_type\": \"\",\n        \"description\": \"\"\n      }\n    },\n    {\n      \"column\": \"movies\",\n      \"properties\": {\n        \"dtype\": \"string\",\n        \"num_unique_values\": 25639,\n        \"samples\": [\n          \"[{'id': 256718812, 'name': 'Coach Bus Simulator Parking', 'thumbnail': 'https://steamcdn-a.akamaihd.net/steam/apps/256718812/movie.293x165.jpg?t=1529912114', 'webm': {'480': 'http://steamcdn-a.akamaihd.net/steam/apps/256718812/movie480.webm?t=1529912114', 'max': 'http://steamcdn-a.akamaihd.net/steam/apps/256718812/movie_max.webm?t=1529912114'}, 'highlight': True}]\",\n          \"[{'id': 2039260, 'name': 'Initial Promo Trailer - V.2 Updated Video', 'thumbnail': 'https://steamcdn-a.akamaihd.net/steam/apps/2039260/movie.293x165.jpg?t=1447374521', 'webm': {'480': 'http://steamcdn-a.akamaihd.net/steam/apps/2039260/movie480.webm?t=1447374521', 'max': 'http://steamcdn-a.akamaihd.net/steam/apps/2039260/movie_max.webm?t=1447374521'}, 'highlight': True}]\",\n          \"[{'id': 256676890, 'name': 'Batman - The Telltale Series - Season Accolades Trailer', 'thumbnail': 'https://steamcdn-a.akamaihd.net/steam/apps/256676890/movie.293x165.jpg?t=1482370328', 'webm': {'480': 'http://steamcdn-a.akamaihd.net/steam/apps/256676890/movie480.webm?t=1482370328', 'max': 'http://steamcdn-a.akamaihd.net/steam/apps/256676890/movie_max.webm?t=1482370328'}, 'highlight': True}, {'id': 256676273, 'name': 'Batman - The Telltale Series - Episode 5 Launch Trailer', 'thumbnail': 'https://steamcdn-a.akamaihd.net/steam/apps/256676273/movie.293x165.jpg?t=1481696125', 'webm': {'480': 'http://steamcdn-a.akamaihd.net/steam/apps/256676273/movie480.webm?t=1481696125', 'max': 'http://steamcdn-a.akamaihd.net/steam/apps/256676273/movie_max.webm?t=1481696125'}, 'highlight': True}, {'id': 256675163, 'name': 'Batman - The Telltale Series - Episode 4 Launch Trailer', 'thumbnail': 'https://steamcdn-a.akamaihd.net/steam/apps/256675163/movie.293x165.jpg?t=1481696135', 'webm': {'480': 'http://steamcdn-a.akamaihd.net/steam/apps/256675163/movie480.webm?t=1481696135', 'max': 'http://steamcdn-a.akamaihd.net/steam/apps/256675163/movie_max.webm?t=1481696135'}, 'highlight': True}, {'id': 256673189, 'name': 'Batman - The Telltale Series - Episode 3 Launch Trailer', 'thumbnail': 'https://steamcdn-a.akamaihd.net/steam/apps/256673189/movie.293x165.jpg?t=1477415240', 'webm': {'480': 'http://steamcdn-a.akamaihd.net/steam/apps/256673189/movie480.webm?t=1477415240', 'max': 'http://steamcdn-a.akamaihd.net/steam/apps/256673189/movie_max.webm?t=1477415240'}, 'highlight': True}, {'id': 256670854, 'name': 'Batman - The Telltale Series - Episode 2 Launch Trailer', 'thumbnail': 'https://steamcdn-a.akamaihd.net/steam/apps/256670854/movie.293x165.jpg?t=1474390847', 'webm': {'480': 'http://steamcdn-a.akamaihd.net/steam/apps/256670854/movie480.webm?t=1474390847', 'max': 'http://steamcdn-a.akamaihd.net/steam/apps/256670854/movie_max.webm?t=1474390847'}, 'highlight': True}, {'id': 256667223, 'name': 'Debut Trailer', 'thumbnail': 'https://steamcdn-a.akamaihd.net/steam/apps/256667223/movie.293x165.jpg?t=1468940460', 'webm': {'480': 'http://steamcdn-a.akamaihd.net/steam/apps/256667223/movie480.webm?t=1468940460', 'max': 'http://steamcdn-a.akamaihd.net/steam/apps/256667223/movie_max.webm?t=1468940460'}, 'highlight': True}]\"\n        ],\n        \"semantic_type\": \"\",\n        \"description\": \"\"\n      }\n    }\n  ]\n}"
            }
          },
          "metadata": {},
          "execution_count": 12
        }
      ]
    },
    {
      "cell_type": "code",
      "source": [
        "games = games.merge(desc_df,on = 'appid')"
      ],
      "metadata": {
        "id": "Wn-MvJgUUF_k"
      },
      "execution_count": 13,
      "outputs": []
    },
    {
      "cell_type": "code",
      "source": [
        "games.shape"
      ],
      "metadata": {
        "colab": {
          "base_uri": "https://localhost:8080/"
        },
        "id": "Jov3N3kow4cG",
        "outputId": "f21d7a3c-358a-497e-9ca2-286f22a65304"
      },
      "execution_count": 14,
      "outputs": [
        {
          "output_type": "execute_result",
          "data": {
            "text/plain": [
              "(27075, 21)"
            ]
          },
          "metadata": {},
          "execution_count": 14
        }
      ]
    },
    {
      "cell_type": "code",
      "source": [
        "games.head(1)"
      ],
      "metadata": {
        "colab": {
          "base_uri": "https://localhost:8080/",
          "height": 199
        },
        "id": "14gQepmoVQuv",
        "outputId": "05328bd7-183f-4f40-ef3b-40786e39872e"
      },
      "execution_count": 15,
      "outputs": [
        {
          "output_type": "execute_result",
          "data": {
            "text/plain": [
              "   appid            name release_date  english developer publisher  \\\n",
              "0     10  Counter-Strike   2000-11-01        1     Valve     Valve   \n",
              "\n",
              "           platforms  required_age  \\\n",
              "0  windows;mac;linux             0   \n",
              "\n",
              "                                          categories  genres  ...  \\\n",
              "0  Multi-player;Online Multi-Player;Local Multi-P...  Action  ...   \n",
              "\n",
              "  achievements  positive_ratings  negative_ratings  average_playtime  \\\n",
              "0            0            124534              3339             17612   \n",
              "\n",
              "   median_playtime             owners price  \\\n",
              "0              317  10000000-20000000  7.19   \n",
              "\n",
              "                                detailed_description  \\\n",
              "0  Play the world's number 1 online action game. ...   \n",
              "\n",
              "                                      about_the_game  \\\n",
              "0  Play the world's number 1 online action game. ...   \n",
              "\n",
              "                                   short_description  \n",
              "0  Play the world's number 1 online action game. ...  \n",
              "\n",
              "[1 rows x 21 columns]"
            ],
            "text/html": [
              "\n",
              "  <div id=\"df-5509a009-fe61-484b-a788-32043d959611\" class=\"colab-df-container\">\n",
              "    <div>\n",
              "<style scoped>\n",
              "    .dataframe tbody tr th:only-of-type {\n",
              "        vertical-align: middle;\n",
              "    }\n",
              "\n",
              "    .dataframe tbody tr th {\n",
              "        vertical-align: top;\n",
              "    }\n",
              "\n",
              "    .dataframe thead th {\n",
              "        text-align: right;\n",
              "    }\n",
              "</style>\n",
              "<table border=\"1\" class=\"dataframe\">\n",
              "  <thead>\n",
              "    <tr style=\"text-align: right;\">\n",
              "      <th></th>\n",
              "      <th>appid</th>\n",
              "      <th>name</th>\n",
              "      <th>release_date</th>\n",
              "      <th>english</th>\n",
              "      <th>developer</th>\n",
              "      <th>publisher</th>\n",
              "      <th>platforms</th>\n",
              "      <th>required_age</th>\n",
              "      <th>categories</th>\n",
              "      <th>genres</th>\n",
              "      <th>...</th>\n",
              "      <th>achievements</th>\n",
              "      <th>positive_ratings</th>\n",
              "      <th>negative_ratings</th>\n",
              "      <th>average_playtime</th>\n",
              "      <th>median_playtime</th>\n",
              "      <th>owners</th>\n",
              "      <th>price</th>\n",
              "      <th>detailed_description</th>\n",
              "      <th>about_the_game</th>\n",
              "      <th>short_description</th>\n",
              "    </tr>\n",
              "  </thead>\n",
              "  <tbody>\n",
              "    <tr>\n",
              "      <th>0</th>\n",
              "      <td>10</td>\n",
              "      <td>Counter-Strike</td>\n",
              "      <td>2000-11-01</td>\n",
              "      <td>1</td>\n",
              "      <td>Valve</td>\n",
              "      <td>Valve</td>\n",
              "      <td>windows;mac;linux</td>\n",
              "      <td>0</td>\n",
              "      <td>Multi-player;Online Multi-Player;Local Multi-P...</td>\n",
              "      <td>Action</td>\n",
              "      <td>...</td>\n",
              "      <td>0</td>\n",
              "      <td>124534</td>\n",
              "      <td>3339</td>\n",
              "      <td>17612</td>\n",
              "      <td>317</td>\n",
              "      <td>10000000-20000000</td>\n",
              "      <td>7.19</td>\n",
              "      <td>Play the world's number 1 online action game. ...</td>\n",
              "      <td>Play the world's number 1 online action game. ...</td>\n",
              "      <td>Play the world's number 1 online action game. ...</td>\n",
              "    </tr>\n",
              "  </tbody>\n",
              "</table>\n",
              "<p>1 rows × 21 columns</p>\n",
              "</div>\n",
              "    <div class=\"colab-df-buttons\">\n",
              "\n",
              "  <div class=\"colab-df-container\">\n",
              "    <button class=\"colab-df-convert\" onclick=\"convertToInteractive('df-5509a009-fe61-484b-a788-32043d959611')\"\n",
              "            title=\"Convert this dataframe to an interactive table.\"\n",
              "            style=\"display:none;\">\n",
              "\n",
              "  <svg xmlns=\"http://www.w3.org/2000/svg\" height=\"24px\" viewBox=\"0 -960 960 960\">\n",
              "    <path d=\"M120-120v-720h720v720H120Zm60-500h600v-160H180v160Zm220 220h160v-160H400v160Zm0 220h160v-160H400v160ZM180-400h160v-160H180v160Zm440 0h160v-160H620v160ZM180-180h160v-160H180v160Zm440 0h160v-160H620v160Z\"/>\n",
              "  </svg>\n",
              "    </button>\n",
              "\n",
              "  <style>\n",
              "    .colab-df-container {\n",
              "      display:flex;\n",
              "      gap: 12px;\n",
              "    }\n",
              "\n",
              "    .colab-df-convert {\n",
              "      background-color: #E8F0FE;\n",
              "      border: none;\n",
              "      border-radius: 50%;\n",
              "      cursor: pointer;\n",
              "      display: none;\n",
              "      fill: #1967D2;\n",
              "      height: 32px;\n",
              "      padding: 0 0 0 0;\n",
              "      width: 32px;\n",
              "    }\n",
              "\n",
              "    .colab-df-convert:hover {\n",
              "      background-color: #E2EBFA;\n",
              "      box-shadow: 0px 1px 2px rgba(60, 64, 67, 0.3), 0px 1px 3px 1px rgba(60, 64, 67, 0.15);\n",
              "      fill: #174EA6;\n",
              "    }\n",
              "\n",
              "    .colab-df-buttons div {\n",
              "      margin-bottom: 4px;\n",
              "    }\n",
              "\n",
              "    [theme=dark] .colab-df-convert {\n",
              "      background-color: #3B4455;\n",
              "      fill: #D2E3FC;\n",
              "    }\n",
              "\n",
              "    [theme=dark] .colab-df-convert:hover {\n",
              "      background-color: #434B5C;\n",
              "      box-shadow: 0px 1px 3px 1px rgba(0, 0, 0, 0.15);\n",
              "      filter: drop-shadow(0px 1px 2px rgba(0, 0, 0, 0.3));\n",
              "      fill: #FFFFFF;\n",
              "    }\n",
              "  </style>\n",
              "\n",
              "    <script>\n",
              "      const buttonEl =\n",
              "        document.querySelector('#df-5509a009-fe61-484b-a788-32043d959611 button.colab-df-convert');\n",
              "      buttonEl.style.display =\n",
              "        google.colab.kernel.accessAllowed ? 'block' : 'none';\n",
              "\n",
              "      async function convertToInteractive(key) {\n",
              "        const element = document.querySelector('#df-5509a009-fe61-484b-a788-32043d959611');\n",
              "        const dataTable =\n",
              "          await google.colab.kernel.invokeFunction('convertToInteractive',\n",
              "                                                    [key], {});\n",
              "        if (!dataTable) return;\n",
              "\n",
              "        const docLinkHtml = 'Like what you see? Visit the ' +\n",
              "          '<a target=\"_blank\" href=https://colab.research.google.com/notebooks/data_table.ipynb>data table notebook</a>'\n",
              "          + ' to learn more about interactive tables.';\n",
              "        element.innerHTML = '';\n",
              "        dataTable['output_type'] = 'display_data';\n",
              "        await google.colab.output.renderOutput(dataTable, element);\n",
              "        const docLink = document.createElement('div');\n",
              "        docLink.innerHTML = docLinkHtml;\n",
              "        element.appendChild(docLink);\n",
              "      }\n",
              "    </script>\n",
              "  </div>\n",
              "\n",
              "\n",
              "    </div>\n",
              "  </div>\n"
            ],
            "application/vnd.google.colaboratory.intrinsic+json": {
              "type": "dataframe",
              "variable_name": "games"
            }
          },
          "metadata": {},
          "execution_count": 15
        }
      ]
    },
    {
      "cell_type": "markdown",
      "source": [
        "Select the columns that will be used:\n",
        "appid,\n",
        "name,\n",
        "developer,\n",
        "categories,\n",
        "genre,\n",
        "steamspy_tags,\n",
        "\n"
      ],
      "metadata": {
        "id": "JPt7cPbU2R2B"
      }
    },
    {
      "cell_type": "code",
      "source": [
        "games.info()"
      ],
      "metadata": {
        "colab": {
          "base_uri": "https://localhost:8080/"
        },
        "id": "G3-j3_Tp2Jn6",
        "outputId": "4895f587-9a21-407c-e414-c8c572986bdf"
      },
      "execution_count": 16,
      "outputs": [
        {
          "output_type": "stream",
          "name": "stdout",
          "text": [
            "<class 'pandas.core.frame.DataFrame'>\n",
            "RangeIndex: 27075 entries, 0 to 27074\n",
            "Data columns (total 21 columns):\n",
            " #   Column                Non-Null Count  Dtype  \n",
            "---  ------                --------------  -----  \n",
            " 0   appid                 27075 non-null  int64  \n",
            " 1   name                  27075 non-null  object \n",
            " 2   release_date          27075 non-null  object \n",
            " 3   english               27075 non-null  int64  \n",
            " 4   developer             27074 non-null  object \n",
            " 5   publisher             27061 non-null  object \n",
            " 6   platforms             27075 non-null  object \n",
            " 7   required_age          27075 non-null  int64  \n",
            " 8   categories            27075 non-null  object \n",
            " 9   genres                27075 non-null  object \n",
            " 10  steamspy_tags         27075 non-null  object \n",
            " 11  achievements          27075 non-null  int64  \n",
            " 12  positive_ratings      27075 non-null  int64  \n",
            " 13  negative_ratings      27075 non-null  int64  \n",
            " 14  average_playtime      27075 non-null  int64  \n",
            " 15  median_playtime       27075 non-null  int64  \n",
            " 16  owners                27075 non-null  object \n",
            " 17  price                 27075 non-null  float64\n",
            " 18  detailed_description  27075 non-null  object \n",
            " 19  about_the_game        27075 non-null  object \n",
            " 20  short_description     27075 non-null  object \n",
            "dtypes: float64(1), int64(8), object(12)\n",
            "memory usage: 4.3+ MB\n"
          ]
        }
      ]
    },
    {
      "cell_type": "code",
      "source": [
        "print(games.columns.tolist())\n"
      ],
      "metadata": {
        "colab": {
          "base_uri": "https://localhost:8080/"
        },
        "id": "yxsSxauW5HY2",
        "outputId": "4d03be14-5190-4c22-d4f4-89e588342013"
      },
      "execution_count": 17,
      "outputs": [
        {
          "output_type": "stream",
          "name": "stdout",
          "text": [
            "['appid', 'name', 'release_date', 'english', 'developer', 'publisher', 'platforms', 'required_age', 'categories', 'genres', 'steamspy_tags', 'achievements', 'positive_ratings', 'negative_ratings', 'average_playtime', 'median_playtime', 'owners', 'price', 'detailed_description', 'about_the_game', 'short_description']\n"
          ]
        }
      ]
    },
    {
      "cell_type": "code",
      "source": [
        "games = games[['appid', 'name','short_description','developer','platforms','steamspy_tags']]"
      ],
      "metadata": {
        "id": "M5cH0MKn3NDq"
      },
      "execution_count": 18,
      "outputs": []
    },
    {
      "cell_type": "code",
      "source": [
        "games.head()"
      ],
      "metadata": {
        "colab": {
          "base_uri": "https://localhost:8080/",
          "height": 345
        },
        "id": "nv93iBXy3slj",
        "outputId": "1cf33947-0a1a-4462-e1e8-ca42c06f5eba"
      },
      "execution_count": 19,
      "outputs": [
        {
          "output_type": "execute_result",
          "data": {
            "text/plain": [
              "   appid                       name  \\\n",
              "0     10             Counter-Strike   \n",
              "1     20      Team Fortress Classic   \n",
              "2     30              Day of Defeat   \n",
              "3     40         Deathmatch Classic   \n",
              "4     50  Half-Life: Opposing Force   \n",
              "\n",
              "                                   short_description         developer  \\\n",
              "0  Play the world's number 1 online action game. ...             Valve   \n",
              "1  One of the most popular online action games of...             Valve   \n",
              "2  Enlist in an intense brand of Axis vs. Allied ...             Valve   \n",
              "3  Enjoy fast-paced multiplayer gaming with Death...             Valve   \n",
              "4  Return to the Black Mesa Research Facility as ...  Gearbox Software   \n",
              "\n",
              "           platforms                 steamspy_tags  \n",
              "0  windows;mac;linux        Action;FPS;Multiplayer  \n",
              "1  windows;mac;linux        Action;FPS;Multiplayer  \n",
              "2  windows;mac;linux  FPS;World War II;Multiplayer  \n",
              "3  windows;mac;linux        Action;FPS;Multiplayer  \n",
              "4  windows;mac;linux             FPS;Action;Sci-fi  "
            ],
            "text/html": [
              "\n",
              "  <div id=\"df-f2cc22f2-b49a-48c0-86e2-4de2eee19735\" class=\"colab-df-container\">\n",
              "    <div>\n",
              "<style scoped>\n",
              "    .dataframe tbody tr th:only-of-type {\n",
              "        vertical-align: middle;\n",
              "    }\n",
              "\n",
              "    .dataframe tbody tr th {\n",
              "        vertical-align: top;\n",
              "    }\n",
              "\n",
              "    .dataframe thead th {\n",
              "        text-align: right;\n",
              "    }\n",
              "</style>\n",
              "<table border=\"1\" class=\"dataframe\">\n",
              "  <thead>\n",
              "    <tr style=\"text-align: right;\">\n",
              "      <th></th>\n",
              "      <th>appid</th>\n",
              "      <th>name</th>\n",
              "      <th>short_description</th>\n",
              "      <th>developer</th>\n",
              "      <th>platforms</th>\n",
              "      <th>steamspy_tags</th>\n",
              "    </tr>\n",
              "  </thead>\n",
              "  <tbody>\n",
              "    <tr>\n",
              "      <th>0</th>\n",
              "      <td>10</td>\n",
              "      <td>Counter-Strike</td>\n",
              "      <td>Play the world's number 1 online action game. ...</td>\n",
              "      <td>Valve</td>\n",
              "      <td>windows;mac;linux</td>\n",
              "      <td>Action;FPS;Multiplayer</td>\n",
              "    </tr>\n",
              "    <tr>\n",
              "      <th>1</th>\n",
              "      <td>20</td>\n",
              "      <td>Team Fortress Classic</td>\n",
              "      <td>One of the most popular online action games of...</td>\n",
              "      <td>Valve</td>\n",
              "      <td>windows;mac;linux</td>\n",
              "      <td>Action;FPS;Multiplayer</td>\n",
              "    </tr>\n",
              "    <tr>\n",
              "      <th>2</th>\n",
              "      <td>30</td>\n",
              "      <td>Day of Defeat</td>\n",
              "      <td>Enlist in an intense brand of Axis vs. Allied ...</td>\n",
              "      <td>Valve</td>\n",
              "      <td>windows;mac;linux</td>\n",
              "      <td>FPS;World War II;Multiplayer</td>\n",
              "    </tr>\n",
              "    <tr>\n",
              "      <th>3</th>\n",
              "      <td>40</td>\n",
              "      <td>Deathmatch Classic</td>\n",
              "      <td>Enjoy fast-paced multiplayer gaming with Death...</td>\n",
              "      <td>Valve</td>\n",
              "      <td>windows;mac;linux</td>\n",
              "      <td>Action;FPS;Multiplayer</td>\n",
              "    </tr>\n",
              "    <tr>\n",
              "      <th>4</th>\n",
              "      <td>50</td>\n",
              "      <td>Half-Life: Opposing Force</td>\n",
              "      <td>Return to the Black Mesa Research Facility as ...</td>\n",
              "      <td>Gearbox Software</td>\n",
              "      <td>windows;mac;linux</td>\n",
              "      <td>FPS;Action;Sci-fi</td>\n",
              "    </tr>\n",
              "  </tbody>\n",
              "</table>\n",
              "</div>\n",
              "    <div class=\"colab-df-buttons\">\n",
              "\n",
              "  <div class=\"colab-df-container\">\n",
              "    <button class=\"colab-df-convert\" onclick=\"convertToInteractive('df-f2cc22f2-b49a-48c0-86e2-4de2eee19735')\"\n",
              "            title=\"Convert this dataframe to an interactive table.\"\n",
              "            style=\"display:none;\">\n",
              "\n",
              "  <svg xmlns=\"http://www.w3.org/2000/svg\" height=\"24px\" viewBox=\"0 -960 960 960\">\n",
              "    <path d=\"M120-120v-720h720v720H120Zm60-500h600v-160H180v160Zm220 220h160v-160H400v160Zm0 220h160v-160H400v160ZM180-400h160v-160H180v160Zm440 0h160v-160H620v160ZM180-180h160v-160H180v160Zm440 0h160v-160H620v160Z\"/>\n",
              "  </svg>\n",
              "    </button>\n",
              "\n",
              "  <style>\n",
              "    .colab-df-container {\n",
              "      display:flex;\n",
              "      gap: 12px;\n",
              "    }\n",
              "\n",
              "    .colab-df-convert {\n",
              "      background-color: #E8F0FE;\n",
              "      border: none;\n",
              "      border-radius: 50%;\n",
              "      cursor: pointer;\n",
              "      display: none;\n",
              "      fill: #1967D2;\n",
              "      height: 32px;\n",
              "      padding: 0 0 0 0;\n",
              "      width: 32px;\n",
              "    }\n",
              "\n",
              "    .colab-df-convert:hover {\n",
              "      background-color: #E2EBFA;\n",
              "      box-shadow: 0px 1px 2px rgba(60, 64, 67, 0.3), 0px 1px 3px 1px rgba(60, 64, 67, 0.15);\n",
              "      fill: #174EA6;\n",
              "    }\n",
              "\n",
              "    .colab-df-buttons div {\n",
              "      margin-bottom: 4px;\n",
              "    }\n",
              "\n",
              "    [theme=dark] .colab-df-convert {\n",
              "      background-color: #3B4455;\n",
              "      fill: #D2E3FC;\n",
              "    }\n",
              "\n",
              "    [theme=dark] .colab-df-convert:hover {\n",
              "      background-color: #434B5C;\n",
              "      box-shadow: 0px 1px 3px 1px rgba(0, 0, 0, 0.15);\n",
              "      filter: drop-shadow(0px 1px 2px rgba(0, 0, 0, 0.3));\n",
              "      fill: #FFFFFF;\n",
              "    }\n",
              "  </style>\n",
              "\n",
              "    <script>\n",
              "      const buttonEl =\n",
              "        document.querySelector('#df-f2cc22f2-b49a-48c0-86e2-4de2eee19735 button.colab-df-convert');\n",
              "      buttonEl.style.display =\n",
              "        google.colab.kernel.accessAllowed ? 'block' : 'none';\n",
              "\n",
              "      async function convertToInteractive(key) {\n",
              "        const element = document.querySelector('#df-f2cc22f2-b49a-48c0-86e2-4de2eee19735');\n",
              "        const dataTable =\n",
              "          await google.colab.kernel.invokeFunction('convertToInteractive',\n",
              "                                                    [key], {});\n",
              "        if (!dataTable) return;\n",
              "\n",
              "        const docLinkHtml = 'Like what you see? Visit the ' +\n",
              "          '<a target=\"_blank\" href=https://colab.research.google.com/notebooks/data_table.ipynb>data table notebook</a>'\n",
              "          + ' to learn more about interactive tables.';\n",
              "        element.innerHTML = '';\n",
              "        dataTable['output_type'] = 'display_data';\n",
              "        await google.colab.output.renderOutput(dataTable, element);\n",
              "        const docLink = document.createElement('div');\n",
              "        docLink.innerHTML = docLinkHtml;\n",
              "        element.appendChild(docLink);\n",
              "      }\n",
              "    </script>\n",
              "  </div>\n",
              "\n",
              "\n",
              "    <div id=\"df-dc129727-f426-4fa4-8fbd-d81ebda7e0a0\">\n",
              "      <button class=\"colab-df-quickchart\" onclick=\"quickchart('df-dc129727-f426-4fa4-8fbd-d81ebda7e0a0')\"\n",
              "                title=\"Suggest charts\"\n",
              "                style=\"display:none;\">\n",
              "\n",
              "<svg xmlns=\"http://www.w3.org/2000/svg\" height=\"24px\"viewBox=\"0 0 24 24\"\n",
              "     width=\"24px\">\n",
              "    <g>\n",
              "        <path d=\"M19 3H5c-1.1 0-2 .9-2 2v14c0 1.1.9 2 2 2h14c1.1 0 2-.9 2-2V5c0-1.1-.9-2-2-2zM9 17H7v-7h2v7zm4 0h-2V7h2v10zm4 0h-2v-4h2v4z\"/>\n",
              "    </g>\n",
              "</svg>\n",
              "      </button>\n",
              "\n",
              "<style>\n",
              "  .colab-df-quickchart {\n",
              "      --bg-color: #E8F0FE;\n",
              "      --fill-color: #1967D2;\n",
              "      --hover-bg-color: #E2EBFA;\n",
              "      --hover-fill-color: #174EA6;\n",
              "      --disabled-fill-color: #AAA;\n",
              "      --disabled-bg-color: #DDD;\n",
              "  }\n",
              "\n",
              "  [theme=dark] .colab-df-quickchart {\n",
              "      --bg-color: #3B4455;\n",
              "      --fill-color: #D2E3FC;\n",
              "      --hover-bg-color: #434B5C;\n",
              "      --hover-fill-color: #FFFFFF;\n",
              "      --disabled-bg-color: #3B4455;\n",
              "      --disabled-fill-color: #666;\n",
              "  }\n",
              "\n",
              "  .colab-df-quickchart {\n",
              "    background-color: var(--bg-color);\n",
              "    border: none;\n",
              "    border-radius: 50%;\n",
              "    cursor: pointer;\n",
              "    display: none;\n",
              "    fill: var(--fill-color);\n",
              "    height: 32px;\n",
              "    padding: 0;\n",
              "    width: 32px;\n",
              "  }\n",
              "\n",
              "  .colab-df-quickchart:hover {\n",
              "    background-color: var(--hover-bg-color);\n",
              "    box-shadow: 0 1px 2px rgba(60, 64, 67, 0.3), 0 1px 3px 1px rgba(60, 64, 67, 0.15);\n",
              "    fill: var(--button-hover-fill-color);\n",
              "  }\n",
              "\n",
              "  .colab-df-quickchart-complete:disabled,\n",
              "  .colab-df-quickchart-complete:disabled:hover {\n",
              "    background-color: var(--disabled-bg-color);\n",
              "    fill: var(--disabled-fill-color);\n",
              "    box-shadow: none;\n",
              "  }\n",
              "\n",
              "  .colab-df-spinner {\n",
              "    border: 2px solid var(--fill-color);\n",
              "    border-color: transparent;\n",
              "    border-bottom-color: var(--fill-color);\n",
              "    animation:\n",
              "      spin 1s steps(1) infinite;\n",
              "  }\n",
              "\n",
              "  @keyframes spin {\n",
              "    0% {\n",
              "      border-color: transparent;\n",
              "      border-bottom-color: var(--fill-color);\n",
              "      border-left-color: var(--fill-color);\n",
              "    }\n",
              "    20% {\n",
              "      border-color: transparent;\n",
              "      border-left-color: var(--fill-color);\n",
              "      border-top-color: var(--fill-color);\n",
              "    }\n",
              "    30% {\n",
              "      border-color: transparent;\n",
              "      border-left-color: var(--fill-color);\n",
              "      border-top-color: var(--fill-color);\n",
              "      border-right-color: var(--fill-color);\n",
              "    }\n",
              "    40% {\n",
              "      border-color: transparent;\n",
              "      border-right-color: var(--fill-color);\n",
              "      border-top-color: var(--fill-color);\n",
              "    }\n",
              "    60% {\n",
              "      border-color: transparent;\n",
              "      border-right-color: var(--fill-color);\n",
              "    }\n",
              "    80% {\n",
              "      border-color: transparent;\n",
              "      border-right-color: var(--fill-color);\n",
              "      border-bottom-color: var(--fill-color);\n",
              "    }\n",
              "    90% {\n",
              "      border-color: transparent;\n",
              "      border-bottom-color: var(--fill-color);\n",
              "    }\n",
              "  }\n",
              "</style>\n",
              "\n",
              "      <script>\n",
              "        async function quickchart(key) {\n",
              "          const quickchartButtonEl =\n",
              "            document.querySelector('#' + key + ' button');\n",
              "          quickchartButtonEl.disabled = true;  // To prevent multiple clicks.\n",
              "          quickchartButtonEl.classList.add('colab-df-spinner');\n",
              "          try {\n",
              "            const charts = await google.colab.kernel.invokeFunction(\n",
              "                'suggestCharts', [key], {});\n",
              "          } catch (error) {\n",
              "            console.error('Error during call to suggestCharts:', error);\n",
              "          }\n",
              "          quickchartButtonEl.classList.remove('colab-df-spinner');\n",
              "          quickchartButtonEl.classList.add('colab-df-quickchart-complete');\n",
              "        }\n",
              "        (() => {\n",
              "          let quickchartButtonEl =\n",
              "            document.querySelector('#df-dc129727-f426-4fa4-8fbd-d81ebda7e0a0 button');\n",
              "          quickchartButtonEl.style.display =\n",
              "            google.colab.kernel.accessAllowed ? 'block' : 'none';\n",
              "        })();\n",
              "      </script>\n",
              "    </div>\n",
              "\n",
              "    </div>\n",
              "  </div>\n"
            ],
            "application/vnd.google.colaboratory.intrinsic+json": {
              "type": "dataframe",
              "variable_name": "games",
              "summary": "{\n  \"name\": \"games\",\n  \"rows\": 27075,\n  \"fields\": [\n    {\n      \"column\": \"appid\",\n      \"properties\": {\n        \"dtype\": \"number\",\n        \"std\": 250894,\n        \"min\": 10,\n        \"max\": 1069460,\n        \"num_unique_values\": 27075,\n        \"samples\": [\n          514520,\n          1012710,\n          279260\n        ],\n        \"semantic_type\": \"\",\n        \"description\": \"\"\n      }\n    },\n    {\n      \"column\": \"name\",\n      \"properties\": {\n        \"dtype\": \"string\",\n        \"num_unique_values\": 27033,\n        \"samples\": [\n          \"A Legionary's Life\",\n          \"Road Doom\",\n          \"Martha Madison: Simple Machines Volume 1\"\n        ],\n        \"semantic_type\": \"\",\n        \"description\": \"\"\n      }\n    },\n    {\n      \"column\": \"short_description\",\n      \"properties\": {\n        \"dtype\": \"string\",\n        \"num_unique_values\": 26950,\n        \"samples\": [\n          \"There's something evil in the city tonight... Earth has been ravaged by human excess, petty conflict and alien invasion. The world's population has been herded into huge cities, the first of which was Mega Primus. 2084: A Utopia shattered, social collapse and civil unrest reigns in Mega Primus. Fiendish aliens terrorize the city.\",\n          \"Star Tower is a tower-defense game in three dimensions. Play begins in 2D, but you may also navigate forward and backward, revealing the path to reach greater challenges. Features include nebula obstacles, game-wide upgrades, increasingly difficult bosses, and special one-use powers.\",\n          \"Pixel Dungeon is an exciting and extremely popular roguelike (more than 2 million mobile installs!). Explore the depths of Pixel Dungeon, collect useful items and fight fierce monsters to find the Amulet of Yendor - the ultimate artefact of this game world!\"\n        ],\n        \"semantic_type\": \"\",\n        \"description\": \"\"\n      }\n    },\n    {\n      \"column\": \"developer\",\n      \"properties\": {\n        \"dtype\": \"string\",\n        \"num_unique_values\": 17112,\n        \"samples\": [\n          \"Titan Studio\",\n          \"Startreming\",\n          \"Poni-Pachet SY\"\n        ],\n        \"semantic_type\": \"\",\n        \"description\": \"\"\n      }\n    },\n    {\n      \"column\": \"platforms\",\n      \"properties\": {\n        \"dtype\": \"category\",\n        \"num_unique_values\": 7,\n        \"samples\": [\n          \"windows;mac;linux\",\n          \"windows;mac\",\n          \"mac;linux\"\n        ],\n        \"semantic_type\": \"\",\n        \"description\": \"\"\n      }\n    },\n    {\n      \"column\": \"steamspy_tags\",\n      \"properties\": {\n        \"dtype\": \"category\",\n        \"num_unique_values\": 6423,\n        \"samples\": [\n          \"Action;Platformer;Remake\",\n          \"Visual Novel;RPG;Indie\",\n          \"Indie;Simulation;Gore\"\n        ],\n        \"semantic_type\": \"\",\n        \"description\": \"\"\n      }\n    }\n  ]\n}"
            }
          },
          "metadata": {},
          "execution_count": 19
        }
      ]
    },
    {
      "cell_type": "code",
      "source": [
        "games.isnull().sum()"
      ],
      "metadata": {
        "colab": {
          "base_uri": "https://localhost:8080/",
          "height": 272
        },
        "id": "eUwvtfol37AO",
        "outputId": "ded21756-d9fe-4df8-b3f0-14ee073f93d4"
      },
      "execution_count": 20,
      "outputs": [
        {
          "output_type": "execute_result",
          "data": {
            "text/plain": [
              "appid                0\n",
              "name                 0\n",
              "short_description    0\n",
              "developer            1\n",
              "platforms            0\n",
              "steamspy_tags        0\n",
              "dtype: int64"
            ],
            "text/html": [
              "<div>\n",
              "<style scoped>\n",
              "    .dataframe tbody tr th:only-of-type {\n",
              "        vertical-align: middle;\n",
              "    }\n",
              "\n",
              "    .dataframe tbody tr th {\n",
              "        vertical-align: top;\n",
              "    }\n",
              "\n",
              "    .dataframe thead th {\n",
              "        text-align: right;\n",
              "    }\n",
              "</style>\n",
              "<table border=\"1\" class=\"dataframe\">\n",
              "  <thead>\n",
              "    <tr style=\"text-align: right;\">\n",
              "      <th></th>\n",
              "      <th>0</th>\n",
              "    </tr>\n",
              "  </thead>\n",
              "  <tbody>\n",
              "    <tr>\n",
              "      <th>appid</th>\n",
              "      <td>0</td>\n",
              "    </tr>\n",
              "    <tr>\n",
              "      <th>name</th>\n",
              "      <td>0</td>\n",
              "    </tr>\n",
              "    <tr>\n",
              "      <th>short_description</th>\n",
              "      <td>0</td>\n",
              "    </tr>\n",
              "    <tr>\n",
              "      <th>developer</th>\n",
              "      <td>1</td>\n",
              "    </tr>\n",
              "    <tr>\n",
              "      <th>platforms</th>\n",
              "      <td>0</td>\n",
              "    </tr>\n",
              "    <tr>\n",
              "      <th>steamspy_tags</th>\n",
              "      <td>0</td>\n",
              "    </tr>\n",
              "  </tbody>\n",
              "</table>\n",
              "</div><br><label><b>dtype:</b> int64</label>"
            ]
          },
          "metadata": {},
          "execution_count": 20
        }
      ]
    },
    {
      "cell_type": "code",
      "source": [
        "games.dropna(inplace=True)"
      ],
      "metadata": {
        "id": "_rCWJ5Tz577l"
      },
      "execution_count": 21,
      "outputs": []
    },
    {
      "cell_type": "code",
      "source": [
        "games.duplicated().sum()"
      ],
      "metadata": {
        "colab": {
          "base_uri": "https://localhost:8080/"
        },
        "id": "Igd5nvsO6Gcj",
        "outputId": "5864edfc-eeb4-47d7-8cbe-b6b7f047d5bd"
      },
      "execution_count": 22,
      "outputs": [
        {
          "output_type": "execute_result",
          "data": {
            "text/plain": [
              "np.int64(0)"
            ]
          },
          "metadata": {},
          "execution_count": 22
        }
      ]
    },
    {
      "cell_type": "code",
      "source": [
        "games['short_description'][0]"
      ],
      "metadata": {
        "id": "AH0PnQxf6Oo5",
        "colab": {
          "base_uri": "https://localhost:8080/",
          "height": 87
        },
        "outputId": "2d99a5f0-def8-4d0e-8f75-00849f496826"
      },
      "execution_count": 23,
      "outputs": [
        {
          "output_type": "execute_result",
          "data": {
            "text/plain": [
              "\"Play the world's number 1 online action game. Engage in an incredibly realistic brand of terrorist warfare in this wildly popular team-based game. Ally with teammates to complete strategic missions. Take out enemy sites. Rescue hostages. Your role affects your team's success. Your team's success affects your role.\""
            ],
            "application/vnd.google.colaboratory.intrinsic+json": {
              "type": "string"
            }
          },
          "metadata": {},
          "execution_count": 23
        }
      ]
    },
    {
      "cell_type": "code",
      "source": [
        "games['steamspy_tags'][0]"
      ],
      "metadata": {
        "colab": {
          "base_uri": "https://localhost:8080/",
          "height": 35
        },
        "id": "rIJQ0n-_Tkb7",
        "outputId": "fd104b3b-547a-4928-ad48-e46a44091e78"
      },
      "execution_count": 24,
      "outputs": [
        {
          "output_type": "execute_result",
          "data": {
            "text/plain": [
              "'Action;FPS;Multiplayer'"
            ],
            "application/vnd.google.colaboratory.intrinsic+json": {
              "type": "string"
            }
          },
          "metadata": {},
          "execution_count": 24
        }
      ]
    },
    {
      "cell_type": "code",
      "source": [
        "games['platforms'][0]"
      ],
      "metadata": {
        "colab": {
          "base_uri": "https://localhost:8080/",
          "height": 35
        },
        "id": "I-BcIqptX7Sq",
        "outputId": "21eea391-fc8f-4545-99d1-0440362f124f"
      },
      "execution_count": 25,
      "outputs": [
        {
          "output_type": "execute_result",
          "data": {
            "text/plain": [
              "'windows;mac;linux'"
            ],
            "application/vnd.google.colaboratory.intrinsic+json": {
              "type": "string"
            }
          },
          "metadata": {},
          "execution_count": 25
        }
      ]
    },
    {
      "cell_type": "code",
      "source": [
        "def string_to_list(st):\n",
        "  if pd.isnull(st):\n",
        "    return []\n",
        "  return st.lower().replace(';',' ').split()\n"
      ],
      "metadata": {
        "id": "znHVWTPPYmta"
      },
      "execution_count": 26,
      "outputs": []
    },
    {
      "cell_type": "code",
      "source": [
        "games['short_description'] = games['short_description'].apply(string_to_list)"
      ],
      "metadata": {
        "id": "qoKJ6A5iZl1E"
      },
      "execution_count": 27,
      "outputs": []
    },
    {
      "cell_type": "code",
      "source": [
        "games.head(1)"
      ],
      "metadata": {
        "colab": {
          "base_uri": "https://localhost:8080/",
          "height": 98
        },
        "id": "tq_mr20vZy-k",
        "outputId": "d9235b6a-55ae-498e-9a37-0f085642dd9b"
      },
      "execution_count": 28,
      "outputs": [
        {
          "output_type": "execute_result",
          "data": {
            "text/plain": [
              "   appid            name                                  short_description  \\\n",
              "0     10  Counter-Strike  [play, the, world's, number, 1, online, action...   \n",
              "\n",
              "  developer          platforms           steamspy_tags  \n",
              "0     Valve  windows;mac;linux  Action;FPS;Multiplayer  "
            ],
            "text/html": [
              "\n",
              "  <div id=\"df-7290bc28-ac66-4130-8ad8-4fb4461a67d4\" class=\"colab-df-container\">\n",
              "    <div>\n",
              "<style scoped>\n",
              "    .dataframe tbody tr th:only-of-type {\n",
              "        vertical-align: middle;\n",
              "    }\n",
              "\n",
              "    .dataframe tbody tr th {\n",
              "        vertical-align: top;\n",
              "    }\n",
              "\n",
              "    .dataframe thead th {\n",
              "        text-align: right;\n",
              "    }\n",
              "</style>\n",
              "<table border=\"1\" class=\"dataframe\">\n",
              "  <thead>\n",
              "    <tr style=\"text-align: right;\">\n",
              "      <th></th>\n",
              "      <th>appid</th>\n",
              "      <th>name</th>\n",
              "      <th>short_description</th>\n",
              "      <th>developer</th>\n",
              "      <th>platforms</th>\n",
              "      <th>steamspy_tags</th>\n",
              "    </tr>\n",
              "  </thead>\n",
              "  <tbody>\n",
              "    <tr>\n",
              "      <th>0</th>\n",
              "      <td>10</td>\n",
              "      <td>Counter-Strike</td>\n",
              "      <td>[play, the, world's, number, 1, online, action...</td>\n",
              "      <td>Valve</td>\n",
              "      <td>windows;mac;linux</td>\n",
              "      <td>Action;FPS;Multiplayer</td>\n",
              "    </tr>\n",
              "  </tbody>\n",
              "</table>\n",
              "</div>\n",
              "    <div class=\"colab-df-buttons\">\n",
              "\n",
              "  <div class=\"colab-df-container\">\n",
              "    <button class=\"colab-df-convert\" onclick=\"convertToInteractive('df-7290bc28-ac66-4130-8ad8-4fb4461a67d4')\"\n",
              "            title=\"Convert this dataframe to an interactive table.\"\n",
              "            style=\"display:none;\">\n",
              "\n",
              "  <svg xmlns=\"http://www.w3.org/2000/svg\" height=\"24px\" viewBox=\"0 -960 960 960\">\n",
              "    <path d=\"M120-120v-720h720v720H120Zm60-500h600v-160H180v160Zm220 220h160v-160H400v160Zm0 220h160v-160H400v160ZM180-400h160v-160H180v160Zm440 0h160v-160H620v160ZM180-180h160v-160H180v160Zm440 0h160v-160H620v160Z\"/>\n",
              "  </svg>\n",
              "    </button>\n",
              "\n",
              "  <style>\n",
              "    .colab-df-container {\n",
              "      display:flex;\n",
              "      gap: 12px;\n",
              "    }\n",
              "\n",
              "    .colab-df-convert {\n",
              "      background-color: #E8F0FE;\n",
              "      border: none;\n",
              "      border-radius: 50%;\n",
              "      cursor: pointer;\n",
              "      display: none;\n",
              "      fill: #1967D2;\n",
              "      height: 32px;\n",
              "      padding: 0 0 0 0;\n",
              "      width: 32px;\n",
              "    }\n",
              "\n",
              "    .colab-df-convert:hover {\n",
              "      background-color: #E2EBFA;\n",
              "      box-shadow: 0px 1px 2px rgba(60, 64, 67, 0.3), 0px 1px 3px 1px rgba(60, 64, 67, 0.15);\n",
              "      fill: #174EA6;\n",
              "    }\n",
              "\n",
              "    .colab-df-buttons div {\n",
              "      margin-bottom: 4px;\n",
              "    }\n",
              "\n",
              "    [theme=dark] .colab-df-convert {\n",
              "      background-color: #3B4455;\n",
              "      fill: #D2E3FC;\n",
              "    }\n",
              "\n",
              "    [theme=dark] .colab-df-convert:hover {\n",
              "      background-color: #434B5C;\n",
              "      box-shadow: 0px 1px 3px 1px rgba(0, 0, 0, 0.15);\n",
              "      filter: drop-shadow(0px 1px 2px rgba(0, 0, 0, 0.3));\n",
              "      fill: #FFFFFF;\n",
              "    }\n",
              "  </style>\n",
              "\n",
              "    <script>\n",
              "      const buttonEl =\n",
              "        document.querySelector('#df-7290bc28-ac66-4130-8ad8-4fb4461a67d4 button.colab-df-convert');\n",
              "      buttonEl.style.display =\n",
              "        google.colab.kernel.accessAllowed ? 'block' : 'none';\n",
              "\n",
              "      async function convertToInteractive(key) {\n",
              "        const element = document.querySelector('#df-7290bc28-ac66-4130-8ad8-4fb4461a67d4');\n",
              "        const dataTable =\n",
              "          await google.colab.kernel.invokeFunction('convertToInteractive',\n",
              "                                                    [key], {});\n",
              "        if (!dataTable) return;\n",
              "\n",
              "        const docLinkHtml = 'Like what you see? Visit the ' +\n",
              "          '<a target=\"_blank\" href=https://colab.research.google.com/notebooks/data_table.ipynb>data table notebook</a>'\n",
              "          + ' to learn more about interactive tables.';\n",
              "        element.innerHTML = '';\n",
              "        dataTable['output_type'] = 'display_data';\n",
              "        await google.colab.output.renderOutput(dataTable, element);\n",
              "        const docLink = document.createElement('div');\n",
              "        docLink.innerHTML = docLinkHtml;\n",
              "        element.appendChild(docLink);\n",
              "      }\n",
              "    </script>\n",
              "  </div>\n",
              "\n",
              "\n",
              "    </div>\n",
              "  </div>\n"
            ],
            "application/vnd.google.colaboratory.intrinsic+json": {
              "type": "dataframe",
              "variable_name": "games",
              "summary": "{\n  \"name\": \"games\",\n  \"rows\": 27074,\n  \"fields\": [\n    {\n      \"column\": \"appid\",\n      \"properties\": {\n        \"dtype\": \"number\",\n        \"std\": 250892,\n        \"min\": 10,\n        \"max\": 1069460,\n        \"num_unique_values\": 27074,\n        \"samples\": [\n          514520,\n          1012720,\n          279260\n        ],\n        \"semantic_type\": \"\",\n        \"description\": \"\"\n      }\n    },\n    {\n      \"column\": \"name\",\n      \"properties\": {\n        \"dtype\": \"string\",\n        \"num_unique_values\": 27032,\n        \"samples\": [\n          \"A Legionary's Life\",\n          \"Road Doom\",\n          \"Martha Madison: Simple Machines Volume 1\"\n        ],\n        \"semantic_type\": \"\",\n        \"description\": \"\"\n      }\n    },\n    {\n      \"column\": \"short_description\",\n      \"properties\": {\n        \"dtype\": \"object\",\n        \"semantic_type\": \"\",\n        \"description\": \"\"\n      }\n    },\n    {\n      \"column\": \"developer\",\n      \"properties\": {\n        \"dtype\": \"string\",\n        \"num_unique_values\": 17112,\n        \"samples\": [\n          \"Titan Studio\",\n          \"Startreming\",\n          \"Poni-Pachet SY\"\n        ],\n        \"semantic_type\": \"\",\n        \"description\": \"\"\n      }\n    },\n    {\n      \"column\": \"platforms\",\n      \"properties\": {\n        \"dtype\": \"category\",\n        \"num_unique_values\": 7,\n        \"samples\": [\n          \"windows;mac;linux\",\n          \"windows;mac\",\n          \"mac;linux\"\n        ],\n        \"semantic_type\": \"\",\n        \"description\": \"\"\n      }\n    },\n    {\n      \"column\": \"steamspy_tags\",\n      \"properties\": {\n        \"dtype\": \"category\",\n        \"num_unique_values\": 6423,\n        \"samples\": [\n          \"Action;Platformer;Remake\",\n          \"Visual Novel;RPG;Indie\",\n          \"Indie;Simulation;Gore\"\n        ],\n        \"semantic_type\": \"\",\n        \"description\": \"\"\n      }\n    }\n  ]\n}"
            }
          },
          "metadata": {},
          "execution_count": 28
        }
      ]
    },
    {
      "cell_type": "code",
      "source": [
        "games['developer'] = games['developer'].apply(string_to_list)\n",
        "games['platforms'] = games['platforms'].apply(string_to_list)\n",
        "games['steamspy_tags'] = games['steamspy_tags'].apply(string_to_list)\n"
      ],
      "metadata": {
        "id": "oV4r9R4lZ01_"
      },
      "execution_count": 29,
      "outputs": []
    },
    {
      "cell_type": "code",
      "source": [
        "games.head(1)"
      ],
      "metadata": {
        "colab": {
          "base_uri": "https://localhost:8080/",
          "height": 98
        },
        "id": "3xkKdC1kaImj",
        "outputId": "8708ab06-50d7-49b9-94aa-9f19ad49d55c"
      },
      "execution_count": 30,
      "outputs": [
        {
          "output_type": "execute_result",
          "data": {
            "text/plain": [
              "   appid            name                                  short_description  \\\n",
              "0     10  Counter-Strike  [play, the, world's, number, 1, online, action...   \n",
              "\n",
              "  developer              platforms               steamspy_tags  \n",
              "0   [valve]  [windows, mac, linux]  [action, fps, multiplayer]  "
            ],
            "text/html": [
              "\n",
              "  <div id=\"df-2812f837-add3-4313-a460-4bb5ac5e28ca\" class=\"colab-df-container\">\n",
              "    <div>\n",
              "<style scoped>\n",
              "    .dataframe tbody tr th:only-of-type {\n",
              "        vertical-align: middle;\n",
              "    }\n",
              "\n",
              "    .dataframe tbody tr th {\n",
              "        vertical-align: top;\n",
              "    }\n",
              "\n",
              "    .dataframe thead th {\n",
              "        text-align: right;\n",
              "    }\n",
              "</style>\n",
              "<table border=\"1\" class=\"dataframe\">\n",
              "  <thead>\n",
              "    <tr style=\"text-align: right;\">\n",
              "      <th></th>\n",
              "      <th>appid</th>\n",
              "      <th>name</th>\n",
              "      <th>short_description</th>\n",
              "      <th>developer</th>\n",
              "      <th>platforms</th>\n",
              "      <th>steamspy_tags</th>\n",
              "    </tr>\n",
              "  </thead>\n",
              "  <tbody>\n",
              "    <tr>\n",
              "      <th>0</th>\n",
              "      <td>10</td>\n",
              "      <td>Counter-Strike</td>\n",
              "      <td>[play, the, world's, number, 1, online, action...</td>\n",
              "      <td>[valve]</td>\n",
              "      <td>[windows, mac, linux]</td>\n",
              "      <td>[action, fps, multiplayer]</td>\n",
              "    </tr>\n",
              "  </tbody>\n",
              "</table>\n",
              "</div>\n",
              "    <div class=\"colab-df-buttons\">\n",
              "\n",
              "  <div class=\"colab-df-container\">\n",
              "    <button class=\"colab-df-convert\" onclick=\"convertToInteractive('df-2812f837-add3-4313-a460-4bb5ac5e28ca')\"\n",
              "            title=\"Convert this dataframe to an interactive table.\"\n",
              "            style=\"display:none;\">\n",
              "\n",
              "  <svg xmlns=\"http://www.w3.org/2000/svg\" height=\"24px\" viewBox=\"0 -960 960 960\">\n",
              "    <path d=\"M120-120v-720h720v720H120Zm60-500h600v-160H180v160Zm220 220h160v-160H400v160Zm0 220h160v-160H400v160ZM180-400h160v-160H180v160Zm440 0h160v-160H620v160ZM180-180h160v-160H180v160Zm440 0h160v-160H620v160Z\"/>\n",
              "  </svg>\n",
              "    </button>\n",
              "\n",
              "  <style>\n",
              "    .colab-df-container {\n",
              "      display:flex;\n",
              "      gap: 12px;\n",
              "    }\n",
              "\n",
              "    .colab-df-convert {\n",
              "      background-color: #E8F0FE;\n",
              "      border: none;\n",
              "      border-radius: 50%;\n",
              "      cursor: pointer;\n",
              "      display: none;\n",
              "      fill: #1967D2;\n",
              "      height: 32px;\n",
              "      padding: 0 0 0 0;\n",
              "      width: 32px;\n",
              "    }\n",
              "\n",
              "    .colab-df-convert:hover {\n",
              "      background-color: #E2EBFA;\n",
              "      box-shadow: 0px 1px 2px rgba(60, 64, 67, 0.3), 0px 1px 3px 1px rgba(60, 64, 67, 0.15);\n",
              "      fill: #174EA6;\n",
              "    }\n",
              "\n",
              "    .colab-df-buttons div {\n",
              "      margin-bottom: 4px;\n",
              "    }\n",
              "\n",
              "    [theme=dark] .colab-df-convert {\n",
              "      background-color: #3B4455;\n",
              "      fill: #D2E3FC;\n",
              "    }\n",
              "\n",
              "    [theme=dark] .colab-df-convert:hover {\n",
              "      background-color: #434B5C;\n",
              "      box-shadow: 0px 1px 3px 1px rgba(0, 0, 0, 0.15);\n",
              "      filter: drop-shadow(0px 1px 2px rgba(0, 0, 0, 0.3));\n",
              "      fill: #FFFFFF;\n",
              "    }\n",
              "  </style>\n",
              "\n",
              "    <script>\n",
              "      const buttonEl =\n",
              "        document.querySelector('#df-2812f837-add3-4313-a460-4bb5ac5e28ca button.colab-df-convert');\n",
              "      buttonEl.style.display =\n",
              "        google.colab.kernel.accessAllowed ? 'block' : 'none';\n",
              "\n",
              "      async function convertToInteractive(key) {\n",
              "        const element = document.querySelector('#df-2812f837-add3-4313-a460-4bb5ac5e28ca');\n",
              "        const dataTable =\n",
              "          await google.colab.kernel.invokeFunction('convertToInteractive',\n",
              "                                                    [key], {});\n",
              "        if (!dataTable) return;\n",
              "\n",
              "        const docLinkHtml = 'Like what you see? Visit the ' +\n",
              "          '<a target=\"_blank\" href=https://colab.research.google.com/notebooks/data_table.ipynb>data table notebook</a>'\n",
              "          + ' to learn more about interactive tables.';\n",
              "        element.innerHTML = '';\n",
              "        dataTable['output_type'] = 'display_data';\n",
              "        await google.colab.output.renderOutput(dataTable, element);\n",
              "        const docLink = document.createElement('div');\n",
              "        docLink.innerHTML = docLinkHtml;\n",
              "        element.appendChild(docLink);\n",
              "      }\n",
              "    </script>\n",
              "  </div>\n",
              "\n",
              "\n",
              "    </div>\n",
              "  </div>\n"
            ],
            "application/vnd.google.colaboratory.intrinsic+json": {
              "type": "dataframe",
              "variable_name": "games",
              "summary": "{\n  \"name\": \"games\",\n  \"rows\": 27074,\n  \"fields\": [\n    {\n      \"column\": \"appid\",\n      \"properties\": {\n        \"dtype\": \"number\",\n        \"std\": 250892,\n        \"min\": 10,\n        \"max\": 1069460,\n        \"num_unique_values\": 27074,\n        \"samples\": [\n          514520,\n          1012720,\n          279260\n        ],\n        \"semantic_type\": \"\",\n        \"description\": \"\"\n      }\n    },\n    {\n      \"column\": \"name\",\n      \"properties\": {\n        \"dtype\": \"string\",\n        \"num_unique_values\": 27032,\n        \"samples\": [\n          \"A Legionary's Life\",\n          \"Road Doom\",\n          \"Martha Madison: Simple Machines Volume 1\"\n        ],\n        \"semantic_type\": \"\",\n        \"description\": \"\"\n      }\n    },\n    {\n      \"column\": \"short_description\",\n      \"properties\": {\n        \"dtype\": \"object\",\n        \"semantic_type\": \"\",\n        \"description\": \"\"\n      }\n    },\n    {\n      \"column\": \"developer\",\n      \"properties\": {\n        \"dtype\": \"object\",\n        \"semantic_type\": \"\",\n        \"description\": \"\"\n      }\n    },\n    {\n      \"column\": \"platforms\",\n      \"properties\": {\n        \"dtype\": \"object\",\n        \"semantic_type\": \"\",\n        \"description\": \"\"\n      }\n    },\n    {\n      \"column\": \"steamspy_tags\",\n      \"properties\": {\n        \"dtype\": \"object\",\n        \"semantic_type\": \"\",\n        \"description\": \"\"\n      }\n    }\n  ]\n}"
            }
          },
          "metadata": {},
          "execution_count": 30
        }
      ]
    },
    {
      "cell_type": "code",
      "source": [
        "games['tags'] = games['short_description']+games['developer']+games['platforms']+games['steamspy_tags']"
      ],
      "metadata": {
        "id": "sXiG1Wj7aMml"
      },
      "execution_count": 31,
      "outputs": []
    },
    {
      "cell_type": "code",
      "source": [
        "games.head(1)"
      ],
      "metadata": {
        "colab": {
          "base_uri": "https://localhost:8080/",
          "height": 150
        },
        "id": "rqV4ZOoyagy3",
        "outputId": "f80712fa-6f97-4dca-ead3-395131857308"
      },
      "execution_count": 32,
      "outputs": [
        {
          "output_type": "execute_result",
          "data": {
            "text/plain": [
              "   appid            name                                  short_description  \\\n",
              "0     10  Counter-Strike  [play, the, world's, number, 1, online, action...   \n",
              "\n",
              "  developer              platforms               steamspy_tags  \\\n",
              "0   [valve]  [windows, mac, linux]  [action, fps, multiplayer]   \n",
              "\n",
              "                                                tags  \n",
              "0  [play, the, world's, number, 1, online, action...  "
            ],
            "text/html": [
              "\n",
              "  <div id=\"df-14a6a7d9-855f-4fef-981f-1c802c4f2d14\" class=\"colab-df-container\">\n",
              "    <div>\n",
              "<style scoped>\n",
              "    .dataframe tbody tr th:only-of-type {\n",
              "        vertical-align: middle;\n",
              "    }\n",
              "\n",
              "    .dataframe tbody tr th {\n",
              "        vertical-align: top;\n",
              "    }\n",
              "\n",
              "    .dataframe thead th {\n",
              "        text-align: right;\n",
              "    }\n",
              "</style>\n",
              "<table border=\"1\" class=\"dataframe\">\n",
              "  <thead>\n",
              "    <tr style=\"text-align: right;\">\n",
              "      <th></th>\n",
              "      <th>appid</th>\n",
              "      <th>name</th>\n",
              "      <th>short_description</th>\n",
              "      <th>developer</th>\n",
              "      <th>platforms</th>\n",
              "      <th>steamspy_tags</th>\n",
              "      <th>tags</th>\n",
              "    </tr>\n",
              "  </thead>\n",
              "  <tbody>\n",
              "    <tr>\n",
              "      <th>0</th>\n",
              "      <td>10</td>\n",
              "      <td>Counter-Strike</td>\n",
              "      <td>[play, the, world's, number, 1, online, action...</td>\n",
              "      <td>[valve]</td>\n",
              "      <td>[windows, mac, linux]</td>\n",
              "      <td>[action, fps, multiplayer]</td>\n",
              "      <td>[play, the, world's, number, 1, online, action...</td>\n",
              "    </tr>\n",
              "  </tbody>\n",
              "</table>\n",
              "</div>\n",
              "    <div class=\"colab-df-buttons\">\n",
              "\n",
              "  <div class=\"colab-df-container\">\n",
              "    <button class=\"colab-df-convert\" onclick=\"convertToInteractive('df-14a6a7d9-855f-4fef-981f-1c802c4f2d14')\"\n",
              "            title=\"Convert this dataframe to an interactive table.\"\n",
              "            style=\"display:none;\">\n",
              "\n",
              "  <svg xmlns=\"http://www.w3.org/2000/svg\" height=\"24px\" viewBox=\"0 -960 960 960\">\n",
              "    <path d=\"M120-120v-720h720v720H120Zm60-500h600v-160H180v160Zm220 220h160v-160H400v160Zm0 220h160v-160H400v160ZM180-400h160v-160H180v160Zm440 0h160v-160H620v160ZM180-180h160v-160H180v160Zm440 0h160v-160H620v160Z\"/>\n",
              "  </svg>\n",
              "    </button>\n",
              "\n",
              "  <style>\n",
              "    .colab-df-container {\n",
              "      display:flex;\n",
              "      gap: 12px;\n",
              "    }\n",
              "\n",
              "    .colab-df-convert {\n",
              "      background-color: #E8F0FE;\n",
              "      border: none;\n",
              "      border-radius: 50%;\n",
              "      cursor: pointer;\n",
              "      display: none;\n",
              "      fill: #1967D2;\n",
              "      height: 32px;\n",
              "      padding: 0 0 0 0;\n",
              "      width: 32px;\n",
              "    }\n",
              "\n",
              "    .colab-df-convert:hover {\n",
              "      background-color: #E2EBFA;\n",
              "      box-shadow: 0px 1px 2px rgba(60, 64, 67, 0.3), 0px 1px 3px 1px rgba(60, 64, 67, 0.15);\n",
              "      fill: #174EA6;\n",
              "    }\n",
              "\n",
              "    .colab-df-buttons div {\n",
              "      margin-bottom: 4px;\n",
              "    }\n",
              "\n",
              "    [theme=dark] .colab-df-convert {\n",
              "      background-color: #3B4455;\n",
              "      fill: #D2E3FC;\n",
              "    }\n",
              "\n",
              "    [theme=dark] .colab-df-convert:hover {\n",
              "      background-color: #434B5C;\n",
              "      box-shadow: 0px 1px 3px 1px rgba(0, 0, 0, 0.15);\n",
              "      filter: drop-shadow(0px 1px 2px rgba(0, 0, 0, 0.3));\n",
              "      fill: #FFFFFF;\n",
              "    }\n",
              "  </style>\n",
              "\n",
              "    <script>\n",
              "      const buttonEl =\n",
              "        document.querySelector('#df-14a6a7d9-855f-4fef-981f-1c802c4f2d14 button.colab-df-convert');\n",
              "      buttonEl.style.display =\n",
              "        google.colab.kernel.accessAllowed ? 'block' : 'none';\n",
              "\n",
              "      async function convertToInteractive(key) {\n",
              "        const element = document.querySelector('#df-14a6a7d9-855f-4fef-981f-1c802c4f2d14');\n",
              "        const dataTable =\n",
              "          await google.colab.kernel.invokeFunction('convertToInteractive',\n",
              "                                                    [key], {});\n",
              "        if (!dataTable) return;\n",
              "\n",
              "        const docLinkHtml = 'Like what you see? Visit the ' +\n",
              "          '<a target=\"_blank\" href=https://colab.research.google.com/notebooks/data_table.ipynb>data table notebook</a>'\n",
              "          + ' to learn more about interactive tables.';\n",
              "        element.innerHTML = '';\n",
              "        dataTable['output_type'] = 'display_data';\n",
              "        await google.colab.output.renderOutput(dataTable, element);\n",
              "        const docLink = document.createElement('div');\n",
              "        docLink.innerHTML = docLinkHtml;\n",
              "        element.appendChild(docLink);\n",
              "      }\n",
              "    </script>\n",
              "  </div>\n",
              "\n",
              "\n",
              "    </div>\n",
              "  </div>\n"
            ],
            "application/vnd.google.colaboratory.intrinsic+json": {
              "type": "dataframe",
              "variable_name": "games",
              "summary": "{\n  \"name\": \"games\",\n  \"rows\": 27074,\n  \"fields\": [\n    {\n      \"column\": \"appid\",\n      \"properties\": {\n        \"dtype\": \"number\",\n        \"std\": 250892,\n        \"min\": 10,\n        \"max\": 1069460,\n        \"num_unique_values\": 27074,\n        \"samples\": [\n          514520,\n          1012720,\n          279260\n        ],\n        \"semantic_type\": \"\",\n        \"description\": \"\"\n      }\n    },\n    {\n      \"column\": \"name\",\n      \"properties\": {\n        \"dtype\": \"string\",\n        \"num_unique_values\": 27032,\n        \"samples\": [\n          \"A Legionary's Life\",\n          \"Road Doom\",\n          \"Martha Madison: Simple Machines Volume 1\"\n        ],\n        \"semantic_type\": \"\",\n        \"description\": \"\"\n      }\n    },\n    {\n      \"column\": \"short_description\",\n      \"properties\": {\n        \"dtype\": \"object\",\n        \"semantic_type\": \"\",\n        \"description\": \"\"\n      }\n    },\n    {\n      \"column\": \"developer\",\n      \"properties\": {\n        \"dtype\": \"object\",\n        \"semantic_type\": \"\",\n        \"description\": \"\"\n      }\n    },\n    {\n      \"column\": \"platforms\",\n      \"properties\": {\n        \"dtype\": \"object\",\n        \"semantic_type\": \"\",\n        \"description\": \"\"\n      }\n    },\n    {\n      \"column\": \"steamspy_tags\",\n      \"properties\": {\n        \"dtype\": \"object\",\n        \"semantic_type\": \"\",\n        \"description\": \"\"\n      }\n    },\n    {\n      \"column\": \"tags\",\n      \"properties\": {\n        \"dtype\": \"object\",\n        \"semantic_type\": \"\",\n        \"description\": \"\"\n      }\n    }\n  ]\n}"
            }
          },
          "metadata": {},
          "execution_count": 32
        }
      ]
    },
    {
      "cell_type": "code",
      "source": [
        "df = games[['appid','name','tags']]"
      ],
      "metadata": {
        "id": "ktYftPFHaiaR"
      },
      "execution_count": 33,
      "outputs": []
    },
    {
      "cell_type": "code",
      "source": [
        "df.head()"
      ],
      "metadata": {
        "colab": {
          "base_uri": "https://localhost:8080/",
          "height": 206
        },
        "id": "2Z-Fn6sgaosQ",
        "outputId": "9000b986-a67b-40a3-d7e7-797edf1b8a57"
      },
      "execution_count": 34,
      "outputs": [
        {
          "output_type": "execute_result",
          "data": {
            "text/plain": [
              "   appid                       name  \\\n",
              "0     10             Counter-Strike   \n",
              "1     20      Team Fortress Classic   \n",
              "2     30              Day of Defeat   \n",
              "3     40         Deathmatch Classic   \n",
              "4     50  Half-Life: Opposing Force   \n",
              "\n",
              "                                                tags  \n",
              "0  [play, the, world's, number, 1, online, action...  \n",
              "1  [one, of, the, most, popular, online, action, ...  \n",
              "2  [enlist, in, an, intense, brand, of, axis, vs....  \n",
              "3  [enjoy, fast-paced, multiplayer, gaming, with,...  \n",
              "4  [return, to, the, black, mesa, research, facil...  "
            ],
            "text/html": [
              "\n",
              "  <div id=\"df-fd21a731-7f79-4a56-88b5-528b7eac0104\" class=\"colab-df-container\">\n",
              "    <div>\n",
              "<style scoped>\n",
              "    .dataframe tbody tr th:only-of-type {\n",
              "        vertical-align: middle;\n",
              "    }\n",
              "\n",
              "    .dataframe tbody tr th {\n",
              "        vertical-align: top;\n",
              "    }\n",
              "\n",
              "    .dataframe thead th {\n",
              "        text-align: right;\n",
              "    }\n",
              "</style>\n",
              "<table border=\"1\" class=\"dataframe\">\n",
              "  <thead>\n",
              "    <tr style=\"text-align: right;\">\n",
              "      <th></th>\n",
              "      <th>appid</th>\n",
              "      <th>name</th>\n",
              "      <th>tags</th>\n",
              "    </tr>\n",
              "  </thead>\n",
              "  <tbody>\n",
              "    <tr>\n",
              "      <th>0</th>\n",
              "      <td>10</td>\n",
              "      <td>Counter-Strike</td>\n",
              "      <td>[play, the, world's, number, 1, online, action...</td>\n",
              "    </tr>\n",
              "    <tr>\n",
              "      <th>1</th>\n",
              "      <td>20</td>\n",
              "      <td>Team Fortress Classic</td>\n",
              "      <td>[one, of, the, most, popular, online, action, ...</td>\n",
              "    </tr>\n",
              "    <tr>\n",
              "      <th>2</th>\n",
              "      <td>30</td>\n",
              "      <td>Day of Defeat</td>\n",
              "      <td>[enlist, in, an, intense, brand, of, axis, vs....</td>\n",
              "    </tr>\n",
              "    <tr>\n",
              "      <th>3</th>\n",
              "      <td>40</td>\n",
              "      <td>Deathmatch Classic</td>\n",
              "      <td>[enjoy, fast-paced, multiplayer, gaming, with,...</td>\n",
              "    </tr>\n",
              "    <tr>\n",
              "      <th>4</th>\n",
              "      <td>50</td>\n",
              "      <td>Half-Life: Opposing Force</td>\n",
              "      <td>[return, to, the, black, mesa, research, facil...</td>\n",
              "    </tr>\n",
              "  </tbody>\n",
              "</table>\n",
              "</div>\n",
              "    <div class=\"colab-df-buttons\">\n",
              "\n",
              "  <div class=\"colab-df-container\">\n",
              "    <button class=\"colab-df-convert\" onclick=\"convertToInteractive('df-fd21a731-7f79-4a56-88b5-528b7eac0104')\"\n",
              "            title=\"Convert this dataframe to an interactive table.\"\n",
              "            style=\"display:none;\">\n",
              "\n",
              "  <svg xmlns=\"http://www.w3.org/2000/svg\" height=\"24px\" viewBox=\"0 -960 960 960\">\n",
              "    <path d=\"M120-120v-720h720v720H120Zm60-500h600v-160H180v160Zm220 220h160v-160H400v160Zm0 220h160v-160H400v160ZM180-400h160v-160H180v160Zm440 0h160v-160H620v160ZM180-180h160v-160H180v160Zm440 0h160v-160H620v160Z\"/>\n",
              "  </svg>\n",
              "    </button>\n",
              "\n",
              "  <style>\n",
              "    .colab-df-container {\n",
              "      display:flex;\n",
              "      gap: 12px;\n",
              "    }\n",
              "\n",
              "    .colab-df-convert {\n",
              "      background-color: #E8F0FE;\n",
              "      border: none;\n",
              "      border-radius: 50%;\n",
              "      cursor: pointer;\n",
              "      display: none;\n",
              "      fill: #1967D2;\n",
              "      height: 32px;\n",
              "      padding: 0 0 0 0;\n",
              "      width: 32px;\n",
              "    }\n",
              "\n",
              "    .colab-df-convert:hover {\n",
              "      background-color: #E2EBFA;\n",
              "      box-shadow: 0px 1px 2px rgba(60, 64, 67, 0.3), 0px 1px 3px 1px rgba(60, 64, 67, 0.15);\n",
              "      fill: #174EA6;\n",
              "    }\n",
              "\n",
              "    .colab-df-buttons div {\n",
              "      margin-bottom: 4px;\n",
              "    }\n",
              "\n",
              "    [theme=dark] .colab-df-convert {\n",
              "      background-color: #3B4455;\n",
              "      fill: #D2E3FC;\n",
              "    }\n",
              "\n",
              "    [theme=dark] .colab-df-convert:hover {\n",
              "      background-color: #434B5C;\n",
              "      box-shadow: 0px 1px 3px 1px rgba(0, 0, 0, 0.15);\n",
              "      filter: drop-shadow(0px 1px 2px rgba(0, 0, 0, 0.3));\n",
              "      fill: #FFFFFF;\n",
              "    }\n",
              "  </style>\n",
              "\n",
              "    <script>\n",
              "      const buttonEl =\n",
              "        document.querySelector('#df-fd21a731-7f79-4a56-88b5-528b7eac0104 button.colab-df-convert');\n",
              "      buttonEl.style.display =\n",
              "        google.colab.kernel.accessAllowed ? 'block' : 'none';\n",
              "\n",
              "      async function convertToInteractive(key) {\n",
              "        const element = document.querySelector('#df-fd21a731-7f79-4a56-88b5-528b7eac0104');\n",
              "        const dataTable =\n",
              "          await google.colab.kernel.invokeFunction('convertToInteractive',\n",
              "                                                    [key], {});\n",
              "        if (!dataTable) return;\n",
              "\n",
              "        const docLinkHtml = 'Like what you see? Visit the ' +\n",
              "          '<a target=\"_blank\" href=https://colab.research.google.com/notebooks/data_table.ipynb>data table notebook</a>'\n",
              "          + ' to learn more about interactive tables.';\n",
              "        element.innerHTML = '';\n",
              "        dataTable['output_type'] = 'display_data';\n",
              "        await google.colab.output.renderOutput(dataTable, element);\n",
              "        const docLink = document.createElement('div');\n",
              "        docLink.innerHTML = docLinkHtml;\n",
              "        element.appendChild(docLink);\n",
              "      }\n",
              "    </script>\n",
              "  </div>\n",
              "\n",
              "\n",
              "    <div id=\"df-885e6661-6e36-48a9-87ea-87af0abfc416\">\n",
              "      <button class=\"colab-df-quickchart\" onclick=\"quickchart('df-885e6661-6e36-48a9-87ea-87af0abfc416')\"\n",
              "                title=\"Suggest charts\"\n",
              "                style=\"display:none;\">\n",
              "\n",
              "<svg xmlns=\"http://www.w3.org/2000/svg\" height=\"24px\"viewBox=\"0 0 24 24\"\n",
              "     width=\"24px\">\n",
              "    <g>\n",
              "        <path d=\"M19 3H5c-1.1 0-2 .9-2 2v14c0 1.1.9 2 2 2h14c1.1 0 2-.9 2-2V5c0-1.1-.9-2-2-2zM9 17H7v-7h2v7zm4 0h-2V7h2v10zm4 0h-2v-4h2v4z\"/>\n",
              "    </g>\n",
              "</svg>\n",
              "      </button>\n",
              "\n",
              "<style>\n",
              "  .colab-df-quickchart {\n",
              "      --bg-color: #E8F0FE;\n",
              "      --fill-color: #1967D2;\n",
              "      --hover-bg-color: #E2EBFA;\n",
              "      --hover-fill-color: #174EA6;\n",
              "      --disabled-fill-color: #AAA;\n",
              "      --disabled-bg-color: #DDD;\n",
              "  }\n",
              "\n",
              "  [theme=dark] .colab-df-quickchart {\n",
              "      --bg-color: #3B4455;\n",
              "      --fill-color: #D2E3FC;\n",
              "      --hover-bg-color: #434B5C;\n",
              "      --hover-fill-color: #FFFFFF;\n",
              "      --disabled-bg-color: #3B4455;\n",
              "      --disabled-fill-color: #666;\n",
              "  }\n",
              "\n",
              "  .colab-df-quickchart {\n",
              "    background-color: var(--bg-color);\n",
              "    border: none;\n",
              "    border-radius: 50%;\n",
              "    cursor: pointer;\n",
              "    display: none;\n",
              "    fill: var(--fill-color);\n",
              "    height: 32px;\n",
              "    padding: 0;\n",
              "    width: 32px;\n",
              "  }\n",
              "\n",
              "  .colab-df-quickchart:hover {\n",
              "    background-color: var(--hover-bg-color);\n",
              "    box-shadow: 0 1px 2px rgba(60, 64, 67, 0.3), 0 1px 3px 1px rgba(60, 64, 67, 0.15);\n",
              "    fill: var(--button-hover-fill-color);\n",
              "  }\n",
              "\n",
              "  .colab-df-quickchart-complete:disabled,\n",
              "  .colab-df-quickchart-complete:disabled:hover {\n",
              "    background-color: var(--disabled-bg-color);\n",
              "    fill: var(--disabled-fill-color);\n",
              "    box-shadow: none;\n",
              "  }\n",
              "\n",
              "  .colab-df-spinner {\n",
              "    border: 2px solid var(--fill-color);\n",
              "    border-color: transparent;\n",
              "    border-bottom-color: var(--fill-color);\n",
              "    animation:\n",
              "      spin 1s steps(1) infinite;\n",
              "  }\n",
              "\n",
              "  @keyframes spin {\n",
              "    0% {\n",
              "      border-color: transparent;\n",
              "      border-bottom-color: var(--fill-color);\n",
              "      border-left-color: var(--fill-color);\n",
              "    }\n",
              "    20% {\n",
              "      border-color: transparent;\n",
              "      border-left-color: var(--fill-color);\n",
              "      border-top-color: var(--fill-color);\n",
              "    }\n",
              "    30% {\n",
              "      border-color: transparent;\n",
              "      border-left-color: var(--fill-color);\n",
              "      border-top-color: var(--fill-color);\n",
              "      border-right-color: var(--fill-color);\n",
              "    }\n",
              "    40% {\n",
              "      border-color: transparent;\n",
              "      border-right-color: var(--fill-color);\n",
              "      border-top-color: var(--fill-color);\n",
              "    }\n",
              "    60% {\n",
              "      border-color: transparent;\n",
              "      border-right-color: var(--fill-color);\n",
              "    }\n",
              "    80% {\n",
              "      border-color: transparent;\n",
              "      border-right-color: var(--fill-color);\n",
              "      border-bottom-color: var(--fill-color);\n",
              "    }\n",
              "    90% {\n",
              "      border-color: transparent;\n",
              "      border-bottom-color: var(--fill-color);\n",
              "    }\n",
              "  }\n",
              "</style>\n",
              "\n",
              "      <script>\n",
              "        async function quickchart(key) {\n",
              "          const quickchartButtonEl =\n",
              "            document.querySelector('#' + key + ' button');\n",
              "          quickchartButtonEl.disabled = true;  // To prevent multiple clicks.\n",
              "          quickchartButtonEl.classList.add('colab-df-spinner');\n",
              "          try {\n",
              "            const charts = await google.colab.kernel.invokeFunction(\n",
              "                'suggestCharts', [key], {});\n",
              "          } catch (error) {\n",
              "            console.error('Error during call to suggestCharts:', error);\n",
              "          }\n",
              "          quickchartButtonEl.classList.remove('colab-df-spinner');\n",
              "          quickchartButtonEl.classList.add('colab-df-quickchart-complete');\n",
              "        }\n",
              "        (() => {\n",
              "          let quickchartButtonEl =\n",
              "            document.querySelector('#df-885e6661-6e36-48a9-87ea-87af0abfc416 button');\n",
              "          quickchartButtonEl.style.display =\n",
              "            google.colab.kernel.accessAllowed ? 'block' : 'none';\n",
              "        })();\n",
              "      </script>\n",
              "    </div>\n",
              "\n",
              "    </div>\n",
              "  </div>\n"
            ],
            "application/vnd.google.colaboratory.intrinsic+json": {
              "type": "dataframe",
              "variable_name": "df",
              "summary": "{\n  \"name\": \"df\",\n  \"rows\": 27074,\n  \"fields\": [\n    {\n      \"column\": \"appid\",\n      \"properties\": {\n        \"dtype\": \"number\",\n        \"std\": 250892,\n        \"min\": 10,\n        \"max\": 1069460,\n        \"num_unique_values\": 27074,\n        \"samples\": [\n          514520,\n          1012720,\n          279260\n        ],\n        \"semantic_type\": \"\",\n        \"description\": \"\"\n      }\n    },\n    {\n      \"column\": \"name\",\n      \"properties\": {\n        \"dtype\": \"string\",\n        \"num_unique_values\": 27032,\n        \"samples\": [\n          \"A Legionary's Life\",\n          \"Road Doom\",\n          \"Martha Madison: Simple Machines Volume 1\"\n        ],\n        \"semantic_type\": \"\",\n        \"description\": \"\"\n      }\n    },\n    {\n      \"column\": \"tags\",\n      \"properties\": {\n        \"dtype\": \"object\",\n        \"semantic_type\": \"\",\n        \"description\": \"\"\n      }\n    }\n  ]\n}"
            }
          },
          "metadata": {},
          "execution_count": 34
        }
      ]
    },
    {
      "cell_type": "code",
      "source": [
        "import nltk\n",
        "from nltk.stem.porter import PorterStemmer\n",
        "\n",
        "ps = PorterStemmer()\n",
        "#stemming\n",
        "def stem(t):\n",
        "  lst = []\n",
        "  for word in t.split():\n",
        "    lst.append(ps.stem(word))\n",
        "\n",
        "  return \" \".join(lst)"
      ],
      "metadata": {
        "id": "keYL0tCBuL64"
      },
      "execution_count": 35,
      "outputs": []
    },
    {
      "cell_type": "code",
      "source": [
        "df['tags'][0]"
      ],
      "metadata": {
        "id": "Dmf03iScaurG",
        "colab": {
          "base_uri": "https://localhost:8080/"
        },
        "outputId": "f9b7aa7c-68b7-422a-c569-d14d4d4e116b"
      },
      "execution_count": 36,
      "outputs": [
        {
          "output_type": "execute_result",
          "data": {
            "text/plain": [
              "['play',\n",
              " 'the',\n",
              " \"world's\",\n",
              " 'number',\n",
              " '1',\n",
              " 'online',\n",
              " 'action',\n",
              " 'game.',\n",
              " 'engage',\n",
              " 'in',\n",
              " 'an',\n",
              " 'incredibly',\n",
              " 'realistic',\n",
              " 'brand',\n",
              " 'of',\n",
              " 'terrorist',\n",
              " 'warfare',\n",
              " 'in',\n",
              " 'this',\n",
              " 'wildly',\n",
              " 'popular',\n",
              " 'team-based',\n",
              " 'game.',\n",
              " 'ally',\n",
              " 'with',\n",
              " 'teammates',\n",
              " 'to',\n",
              " 'complete',\n",
              " 'strategic',\n",
              " 'missions.',\n",
              " 'take',\n",
              " 'out',\n",
              " 'enemy',\n",
              " 'sites.',\n",
              " 'rescue',\n",
              " 'hostages.',\n",
              " 'your',\n",
              " 'role',\n",
              " 'affects',\n",
              " 'your',\n",
              " \"team's\",\n",
              " 'success.',\n",
              " 'your',\n",
              " \"team's\",\n",
              " 'success',\n",
              " 'affects',\n",
              " 'your',\n",
              " 'role.',\n",
              " 'valve',\n",
              " 'windows',\n",
              " 'mac',\n",
              " 'linux',\n",
              " 'action',\n",
              " 'fps',\n",
              " 'multiplayer']"
            ]
          },
          "metadata": {},
          "execution_count": 36
        }
      ]
    },
    {
      "cell_type": "code",
      "source": [
        "df['tags'][1]"
      ],
      "metadata": {
        "colab": {
          "base_uri": "https://localhost:8080/"
        },
        "id": "rXqXIVkq1Jfg",
        "outputId": "655c040f-ece8-4078-9963-a3d25ea9fc8a"
      },
      "execution_count": 37,
      "outputs": [
        {
          "output_type": "execute_result",
          "data": {
            "text/plain": [
              "['one',\n",
              " 'of',\n",
              " 'the',\n",
              " 'most',\n",
              " 'popular',\n",
              " 'online',\n",
              " 'action',\n",
              " 'games',\n",
              " 'of',\n",
              " 'all',\n",
              " 'time,',\n",
              " 'team',\n",
              " 'fortress',\n",
              " 'classic',\n",
              " 'features',\n",
              " 'over',\n",
              " 'nine',\n",
              " 'character',\n",
              " 'classes',\n",
              " '--',\n",
              " 'from',\n",
              " 'medic',\n",
              " 'to',\n",
              " 'spy',\n",
              " 'to',\n",
              " 'demolition',\n",
              " 'man',\n",
              " '--',\n",
              " 'enlisted',\n",
              " 'in',\n",
              " 'a',\n",
              " 'unique',\n",
              " 'style',\n",
              " 'of',\n",
              " 'online',\n",
              " 'team',\n",
              " 'warfare.',\n",
              " 'each',\n",
              " 'character',\n",
              " 'class',\n",
              " 'possesses',\n",
              " 'unique',\n",
              " 'weapons,',\n",
              " 'items,',\n",
              " 'and',\n",
              " 'abilities,',\n",
              " 'as',\n",
              " 'teams',\n",
              " 'compete',\n",
              " 'online',\n",
              " 'in',\n",
              " 'a',\n",
              " 'variety',\n",
              " 'of',\n",
              " 'game',\n",
              " 'play',\n",
              " 'modes.',\n",
              " 'valve',\n",
              " 'windows',\n",
              " 'mac',\n",
              " 'linux',\n",
              " 'action',\n",
              " 'fps',\n",
              " 'multiplayer']"
            ]
          },
          "metadata": {},
          "execution_count": 37
        }
      ]
    },
    {
      "cell_type": "code",
      "source": [
        "ps.stem('loved')"
      ],
      "metadata": {
        "colab": {
          "base_uri": "https://localhost:8080/",
          "height": 35
        },
        "id": "lKxxDAf802rN",
        "outputId": "5c15c0db-7b76-424e-9682-9b8f581cba14"
      },
      "execution_count": 38,
      "outputs": [
        {
          "output_type": "execute_result",
          "data": {
            "text/plain": [
              "'love'"
            ],
            "application/vnd.google.colaboratory.intrinsic+json": {
              "type": "string"
            }
          },
          "metadata": {},
          "execution_count": 38
        }
      ]
    },
    {
      "cell_type": "code",
      "source": [
        "# convert list to string\n",
        "df['tags'] = df['tags'].apply(lambda x: \" \".join(x) if isinstance(x, list) else x)"
      ],
      "metadata": {
        "colab": {
          "base_uri": "https://localhost:8080/"
        },
        "id": "uL0TXmXJ2juw",
        "outputId": "00475dda-17b4-494c-a92b-b07821232797"
      },
      "execution_count": 39,
      "outputs": [
        {
          "output_type": "stream",
          "name": "stderr",
          "text": [
            "<ipython-input-39-68cc1262373c>:2: SettingWithCopyWarning: \n",
            "A value is trying to be set on a copy of a slice from a DataFrame.\n",
            "Try using .loc[row_indexer,col_indexer] = value instead\n",
            "\n",
            "See the caveats in the documentation: https://pandas.pydata.org/pandas-docs/stable/user_guide/indexing.html#returning-a-view-versus-a-copy\n",
            "  df['tags'] = df['tags'].apply(lambda x: \" \".join(x) if isinstance(x, list) else x)\n"
          ]
        }
      ]
    },
    {
      "cell_type": "code",
      "source": [
        "df = df.copy()\n",
        "df['tags'] = df['tags'].apply(stem)"
      ],
      "metadata": {
        "id": "9iS22dLR11j5"
      },
      "execution_count": 40,
      "outputs": []
    },
    {
      "cell_type": "code",
      "source": [
        "df.shape\n"
      ],
      "metadata": {
        "id": "AWZvnCXt12Uv",
        "colab": {
          "base_uri": "https://localhost:8080/"
        },
        "outputId": "1801f682-18f4-49ab-9159-73bbaae46b06"
      },
      "execution_count": 41,
      "outputs": [
        {
          "output_type": "execute_result",
          "data": {
            "text/plain": [
              "(27074, 3)"
            ]
          },
          "metadata": {},
          "execution_count": 41
        }
      ]
    },
    {
      "cell_type": "code",
      "source": [
        "#stemmed tags\n",
        "df['tags'][0]"
      ],
      "metadata": {
        "id": "78nR8Inp12Tv",
        "colab": {
          "base_uri": "https://localhost:8080/",
          "height": 87
        },
        "outputId": "27852c85-4982-4cb9-805f-70b7caaae9c9"
      },
      "execution_count": 42,
      "outputs": [
        {
          "output_type": "execute_result",
          "data": {
            "text/plain": [
              "\"play the world' number 1 onlin action game. engag in an incred realist brand of terrorist warfar in thi wildli popular team-bas game. alli with teammat to complet strateg missions. take out enemi sites. rescu hostages. your role affect your team' success. your team' success affect your role. valv window mac linux action fp multiplay\""
            ],
            "application/vnd.google.colaboratory.intrinsic+json": {
              "type": "string"
            }
          },
          "metadata": {},
          "execution_count": 42
        }
      ]
    },
    {
      "cell_type": "markdown",
      "source": [
        "Vectorization using TF-IDF\n"
      ],
      "metadata": {
        "id": "sR3edwZH39F5"
      }
    },
    {
      "cell_type": "code",
      "source": [
        "from sklearn.feature_extraction.text import TfidfVectorizer\n"
      ],
      "metadata": {
        "id": "RkPn9WsLzH4_"
      },
      "execution_count": 43,
      "outputs": []
    },
    {
      "cell_type": "code",
      "source": [
        "tfidf = TfidfVectorizer(max_features=3000, stop_words='english')"
      ],
      "metadata": {
        "id": "zu4DIkLK48-T"
      },
      "execution_count": 44,
      "outputs": []
    },
    {
      "cell_type": "code",
      "source": [
        "matrix = tfidf.fit_transform(df['tags']).toarray()"
      ],
      "metadata": {
        "id": "QBcujJCt5ESF"
      },
      "execution_count": 45,
      "outputs": []
    },
    {
      "cell_type": "code",
      "source": [
        "matrix"
      ],
      "metadata": {
        "colab": {
          "base_uri": "https://localhost:8080/"
        },
        "id": "ODzX0oim5MYC",
        "outputId": "2f1b8988-d39b-4eaa-e2a5-5c56488b95f3"
      },
      "execution_count": 46,
      "outputs": [
        {
          "output_type": "execute_result",
          "data": {
            "text/plain": [
              "array([[0., 0., 0., ..., 0., 0., 0.],\n",
              "       [0., 0., 0., ..., 0., 0., 0.],\n",
              "       [0., 0., 0., ..., 0., 0., 0.],\n",
              "       ...,\n",
              "       [0., 0., 0., ..., 0., 0., 0.],\n",
              "       [0., 0., 0., ..., 0., 0., 0.],\n",
              "       [0., 0., 0., ..., 0., 0., 0.]])"
            ]
          },
          "metadata": {},
          "execution_count": 46
        }
      ]
    },
    {
      "cell_type": "code",
      "source": [
        "tfidf.get_feature_names_out()"
      ],
      "metadata": {
        "colab": {
          "base_uri": "https://localhost:8080/"
        },
        "id": "FuB_zMDR5OEc",
        "outputId": "4ed5d3d6-e7d5-4677-ff3c-5996bd06d314"
      },
      "execution_count": 47,
      "outputs": [
        {
          "output_type": "execute_result",
          "data": {
            "text/plain": [
              "array(['000', '10', '100', ..., 'zombies', 'zone', 'zoo'], dtype=object)"
            ]
          },
          "metadata": {},
          "execution_count": 47
        }
      ]
    },
    {
      "cell_type": "code",
      "source": [
        "from sklearn.metrics.pairwise import cosine_similarity"
      ],
      "metadata": {
        "id": "19GOfL6h5YnX"
      },
      "execution_count": 48,
      "outputs": []
    },
    {
      "cell_type": "code",
      "source": [
        "similarity_matrix = cosine_similarity(matrix)"
      ],
      "metadata": {
        "id": "PEZWyHiy5ytJ"
      },
      "execution_count": 49,
      "outputs": []
    },
    {
      "cell_type": "code",
      "source": [
        "similarity_matrix.shape"
      ],
      "metadata": {
        "colab": {
          "base_uri": "https://localhost:8080/"
        },
        "id": "lV3gk1MN52uN",
        "outputId": "7f3e5763-3034-4713-a6b3-cc04a54021f2"
      },
      "execution_count": 50,
      "outputs": [
        {
          "output_type": "execute_result",
          "data": {
            "text/plain": [
              "(27074, 27074)"
            ]
          },
          "metadata": {},
          "execution_count": 50
        }
      ]
    },
    {
      "cell_type": "code",
      "source": [
        "#recommend function\n",
        "def recommend(game):\n",
        "  idx = df[df['name'] == game].index[0]\n",
        "  distances = similarity_matrix[idx]\n",
        "  lst = sorted(list(enumerate(distances)),reverse=True,key=lambda x:x[1])[1:6]\n",
        "  for i in lst:\n",
        "    print(df.iloc[i[0]]['name'])\n",
        ""
      ],
      "metadata": {
        "id": "wuyIk3wy6txc"
      },
      "execution_count": 55,
      "outputs": []
    },
    {
      "cell_type": "markdown",
      "source": [],
      "metadata": {
        "id": "8XzhUVTo9Ax2"
      }
    },
    {
      "cell_type": "code",
      "source": [
        "recommend('Counter-Strike')"
      ],
      "metadata": {
        "colab": {
          "base_uri": "https://localhost:8080/"
        },
        "id": "EsNlsaA97A-7",
        "outputId": "0ce6efe7-6bb4-4dee-8793-ec5421489f22"
      },
      "execution_count": 56,
      "outputs": [
        {
          "output_type": "stream",
          "name": "stdout",
          "text": [
            "A Small Robot Story\n",
            "Wonderland Trails\n",
            "LEGO® Indiana Jones™ 2: The Adventure Continues\n",
            "Counter Spell\n",
            "The Underground Watcher/地下监察员\n"
          ]
        }
      ]
    },
    {
      "cell_type": "code",
      "source": [
        "df.head(1)"
      ],
      "metadata": {
        "colab": {
          "base_uri": "https://localhost:8080/",
          "height": 80
        },
        "id": "ip0iTE5K8IMd",
        "outputId": "1572007b-588d-4845-cba9-e1ee9edc9f1e"
      },
      "execution_count": 54,
      "outputs": [
        {
          "output_type": "execute_result",
          "data": {
            "text/plain": [
              "   appid            name                                               tags\n",
              "0     10  Counter-Strike  play the world' number 1 onlin action game. en..."
            ],
            "text/html": [
              "\n",
              "  <div id=\"df-f19dcf8a-1e74-4a54-8f07-4c202b837ae9\" class=\"colab-df-container\">\n",
              "    <div>\n",
              "<style scoped>\n",
              "    .dataframe tbody tr th:only-of-type {\n",
              "        vertical-align: middle;\n",
              "    }\n",
              "\n",
              "    .dataframe tbody tr th {\n",
              "        vertical-align: top;\n",
              "    }\n",
              "\n",
              "    .dataframe thead th {\n",
              "        text-align: right;\n",
              "    }\n",
              "</style>\n",
              "<table border=\"1\" class=\"dataframe\">\n",
              "  <thead>\n",
              "    <tr style=\"text-align: right;\">\n",
              "      <th></th>\n",
              "      <th>appid</th>\n",
              "      <th>name</th>\n",
              "      <th>tags</th>\n",
              "    </tr>\n",
              "  </thead>\n",
              "  <tbody>\n",
              "    <tr>\n",
              "      <th>0</th>\n",
              "      <td>10</td>\n",
              "      <td>Counter-Strike</td>\n",
              "      <td>play the world' number 1 onlin action game. en...</td>\n",
              "    </tr>\n",
              "  </tbody>\n",
              "</table>\n",
              "</div>\n",
              "    <div class=\"colab-df-buttons\">\n",
              "\n",
              "  <div class=\"colab-df-container\">\n",
              "    <button class=\"colab-df-convert\" onclick=\"convertToInteractive('df-f19dcf8a-1e74-4a54-8f07-4c202b837ae9')\"\n",
              "            title=\"Convert this dataframe to an interactive table.\"\n",
              "            style=\"display:none;\">\n",
              "\n",
              "  <svg xmlns=\"http://www.w3.org/2000/svg\" height=\"24px\" viewBox=\"0 -960 960 960\">\n",
              "    <path d=\"M120-120v-720h720v720H120Zm60-500h600v-160H180v160Zm220 220h160v-160H400v160Zm0 220h160v-160H400v160ZM180-400h160v-160H180v160Zm440 0h160v-160H620v160ZM180-180h160v-160H180v160Zm440 0h160v-160H620v160Z\"/>\n",
              "  </svg>\n",
              "    </button>\n",
              "\n",
              "  <style>\n",
              "    .colab-df-container {\n",
              "      display:flex;\n",
              "      gap: 12px;\n",
              "    }\n",
              "\n",
              "    .colab-df-convert {\n",
              "      background-color: #E8F0FE;\n",
              "      border: none;\n",
              "      border-radius: 50%;\n",
              "      cursor: pointer;\n",
              "      display: none;\n",
              "      fill: #1967D2;\n",
              "      height: 32px;\n",
              "      padding: 0 0 0 0;\n",
              "      width: 32px;\n",
              "    }\n",
              "\n",
              "    .colab-df-convert:hover {\n",
              "      background-color: #E2EBFA;\n",
              "      box-shadow: 0px 1px 2px rgba(60, 64, 67, 0.3), 0px 1px 3px 1px rgba(60, 64, 67, 0.15);\n",
              "      fill: #174EA6;\n",
              "    }\n",
              "\n",
              "    .colab-df-buttons div {\n",
              "      margin-bottom: 4px;\n",
              "    }\n",
              "\n",
              "    [theme=dark] .colab-df-convert {\n",
              "      background-color: #3B4455;\n",
              "      fill: #D2E3FC;\n",
              "    }\n",
              "\n",
              "    [theme=dark] .colab-df-convert:hover {\n",
              "      background-color: #434B5C;\n",
              "      box-shadow: 0px 1px 3px 1px rgba(0, 0, 0, 0.15);\n",
              "      filter: drop-shadow(0px 1px 2px rgba(0, 0, 0, 0.3));\n",
              "      fill: #FFFFFF;\n",
              "    }\n",
              "  </style>\n",
              "\n",
              "    <script>\n",
              "      const buttonEl =\n",
              "        document.querySelector('#df-f19dcf8a-1e74-4a54-8f07-4c202b837ae9 button.colab-df-convert');\n",
              "      buttonEl.style.display =\n",
              "        google.colab.kernel.accessAllowed ? 'block' : 'none';\n",
              "\n",
              "      async function convertToInteractive(key) {\n",
              "        const element = document.querySelector('#df-f19dcf8a-1e74-4a54-8f07-4c202b837ae9');\n",
              "        const dataTable =\n",
              "          await google.colab.kernel.invokeFunction('convertToInteractive',\n",
              "                                                    [key], {});\n",
              "        if (!dataTable) return;\n",
              "\n",
              "        const docLinkHtml = 'Like what you see? Visit the ' +\n",
              "          '<a target=\"_blank\" href=https://colab.research.google.com/notebooks/data_table.ipynb>data table notebook</a>'\n",
              "          + ' to learn more about interactive tables.';\n",
              "        element.innerHTML = '';\n",
              "        dataTable['output_type'] = 'display_data';\n",
              "        await google.colab.output.renderOutput(dataTable, element);\n",
              "        const docLink = document.createElement('div');\n",
              "        docLink.innerHTML = docLinkHtml;\n",
              "        element.appendChild(docLink);\n",
              "      }\n",
              "    </script>\n",
              "  </div>\n",
              "\n",
              "\n",
              "    </div>\n",
              "  </div>\n"
            ],
            "application/vnd.google.colaboratory.intrinsic+json": {
              "type": "dataframe",
              "variable_name": "df",
              "summary": "{\n  \"name\": \"df\",\n  \"rows\": 27074,\n  \"fields\": [\n    {\n      \"column\": \"appid\",\n      \"properties\": {\n        \"dtype\": \"number\",\n        \"std\": 250892,\n        \"min\": 10,\n        \"max\": 1069460,\n        \"num_unique_values\": 27074,\n        \"samples\": [\n          514520,\n          1012720,\n          279260\n        ],\n        \"semantic_type\": \"\",\n        \"description\": \"\"\n      }\n    },\n    {\n      \"column\": \"name\",\n      \"properties\": {\n        \"dtype\": \"string\",\n        \"num_unique_values\": 27032,\n        \"samples\": [\n          \"A Legionary's Life\",\n          \"Road Doom\",\n          \"Martha Madison: Simple Machines Volume 1\"\n        ],\n        \"semantic_type\": \"\",\n        \"description\": \"\"\n      }\n    },\n    {\n      \"column\": \"tags\",\n      \"properties\": {\n        \"dtype\": \"string\",\n        \"num_unique_values\": 27036,\n        \"samples\": [\n          \"stick nightmar is a simpl puzzle-platform game where you control yourself after have some drink at a local bar. pedro castro menez window linux indi platform 2d\",\n          \"\\u2018d.n.age\\u2019 featur a dna system that will open your eye to a new, never-before-seen world of monster merging. improv the dna of your monster to creat stronger specimen and form a parti to complet quests! remimori window casual rpg indi\",\n          \"nba 2k celebr 20 year of redefin what sport game can be. nba 2k19 continu to push limit as it bring game one step closer to real-lif basketbal excit and culture. visual concept window sport basketbal simul\"\n        ],\n        \"semantic_type\": \"\",\n        \"description\": \"\"\n      }\n    }\n  ]\n}"
            }
          },
          "metadata": {},
          "execution_count": 54
        }
      ]
    },
    {
      "cell_type": "code",
      "source": [],
      "metadata": {
        "id": "4N-hbJC9-6FH"
      },
      "execution_count": null,
      "outputs": []
    }
  ]
}